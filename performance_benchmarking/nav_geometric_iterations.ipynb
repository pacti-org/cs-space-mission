{
 "cells": [
  {
   "cell_type": "code",
   "execution_count": 1,
   "metadata": {},
   "outputs": [],
   "source": [
    "%matplotlib widget\n",
    "from nav_projection import *\n",
    "from utils import *"
   ]
  },
  {
   "cell_type": "code",
   "execution_count": 2,
   "metadata": {},
   "outputs": [],
   "source": [
    "mu=0.005 \n",
    "gain=(0.2, 0.3)\n",
    "max_dv=10\n",
    "me=(0.9, 1.1)\n",
    "variables=[\"t\", \"trtd\"]\n",
    "tactics_order=[5,4,3,2,1]"
   ]
  },
  {
   "cell_type": "code",
   "execution_count": 3,
   "metadata": {},
   "outputs": [],
   "source": [
    "scenario = NAVScenarioGeometricGenerator(mu=mu, gain=gain, max_dv=5.0, me=me, variables=variables, tactics_order=tactics_order)"
   ]
  },
  {
   "cell_type": "code",
   "execution_count": 4,
   "metadata": {},
   "outputs": [
    {
     "name": "stdout",
     "output_type": "stream",
     "text": [
      "1: shift: 0.068 compose: 0.868 each input: 32 vars, 55 constraints; result: 62 vars, 108 constraints; density=0.03644; size distribution: [(3, 48), (2, 40), (1, 20)]\n",
      "[[], [], [], []]\n"
     ]
    },
    {
     "data": {
      "text/plain": [
       "[[], [], [], []]"
      ]
     },
     "execution_count": 4,
     "metadata": {},
     "output_type": "execute_result"
    }
   ],
   "source": [
    "scenario.run_iteration()\n",
    "scenario.save_state(\"nav_geometric_state.pkl\")\n",
    "scenario.contracts[-1][4]"
   ]
  },
  {
   "cell_type": "code",
   "execution_count": 5,
   "metadata": {},
   "outputs": [
    {
     "name": "stdout",
     "output_type": "stream",
     "text": [
      "2: shift: 0.139 compose: 2.640 each input: 62 vars, 108 constraints; result: 122 vars, 212 constraints; density=0.01871; size distribution: [(3, 96), (2, 80), (1, 36)]\n",
      "[[], [], [], []]\n"
     ]
    },
    {
     "data": {
      "text/plain": [
       "[[], [], [], []]"
      ]
     },
     "execution_count": 5,
     "metadata": {},
     "output_type": "execute_result"
    }
   ],
   "source": [
    "scenario.run_iteration()\n",
    "scenario.save_state(\"nav_geometric_state.pkl\")\n",
    "scenario.contracts[-1][4]"
   ]
  },
  {
   "cell_type": "code",
   "execution_count": 6,
   "metadata": {},
   "outputs": [
    {
     "name": "stdout",
     "output_type": "stream",
     "text": [
      "3: shift: 0.443 compose: 9.269 each input: 122 vars, 212 constraints; result: 242 vars, 420 constraints; density=0.009484; size distribution: [(3, 192), (2, 160), (1, 68)]\n",
      "[[], [], [], []]\n"
     ]
    },
    {
     "data": {
      "text/plain": [
       "[[], [], [], []]"
      ]
     },
     "execution_count": 6,
     "metadata": {},
     "output_type": "execute_result"
    }
   ],
   "source": [
    "scenario.run_iteration()\n",
    "scenario.save_state(\"nav_geometric_state.pkl\")\n",
    "scenario.contracts[-1][4]"
   ]
  },
  {
   "cell_type": "code",
   "execution_count": 7,
   "metadata": {},
   "outputs": [
    {
     "name": "stdout",
     "output_type": "stream",
     "text": [
      "4: shift: 1.761 compose: 58.307 each input: 242 vars, 420 constraints; result: 482 vars, 836 constraints; density=0.004775; size distribution: [(3, 384), (2, 320), (1, 132)]\n",
      "[[], [], [], []]\n"
     ]
    },
    {
     "data": {
      "text/plain": [
       "[[], [], [], []]"
      ]
     },
     "execution_count": 7,
     "metadata": {},
     "output_type": "execute_result"
    }
   ],
   "source": [
    "scenario.run_iteration()\n",
    "scenario.save_state(\"nav_geometric_state.pkl\")\n",
    "scenario.contracts[-1][4]"
   ]
  },
  {
   "cell_type": "code",
   "execution_count": 8,
   "metadata": {},
   "outputs": [
    {
     "name": "stdout",
     "output_type": "stream",
     "text": [
      "5: shift: 10.935 compose: 272.684 each input: 482 vars, 836 constraints; result: 962 vars, 1668 constraints; density=0.002396; size distribution: [(3, 768), (2, 640), (1, 260)]\n",
      "[[], [], [], []]\n"
     ]
    },
    {
     "data": {
      "text/plain": [
       "[[], [], [], []]"
      ]
     },
     "execution_count": 8,
     "metadata": {},
     "output_type": "execute_result"
    }
   ],
   "source": [
    "scenario.run_iteration()\n",
    "scenario.save_state(\"nav_geometric_state.pkl\")\n",
    "scenario.contracts[-1][4]"
   ]
  }
 ],
 "metadata": {
  "kernelspec": {
   "display_name": ".venv",
   "language": "python",
   "name": "python3"
  },
  "language_info": {
   "codemirror_mode": {
    "name": "ipython",
    "version": 3
   },
   "file_extension": ".py",
   "mimetype": "text/x-python",
   "name": "python",
   "nbconvert_exporter": "python",
   "pygments_lexer": "ipython3",
   "version": "3.11.7"
  },
  "orig_nbformat": 4
 },
 "nbformat": 4,
 "nbformat_minor": 2
}
