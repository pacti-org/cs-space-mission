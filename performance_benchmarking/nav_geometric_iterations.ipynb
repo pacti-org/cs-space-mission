{
 "cells": [
  {
   "cell_type": "code",
   "execution_count": 1,
   "metadata": {},
   "outputs": [],
   "source": [
    "%matplotlib widget\n",
    "from nav_projection import *\n",
    "from utils import *"
   ]
  },
  {
   "cell_type": "code",
   "execution_count": 2,
   "metadata": {},
   "outputs": [],
   "source": [
    "mu=0.005 \n",
    "gain=(0.2, 0.3)\n",
    "max_dv=10\n",
    "me=(0.9, 1.1)\n",
    "variables=[\"t\", \"trtd\"]\n",
    "tactics_order=[5,4]"
   ]
  },
  {
   "cell_type": "code",
   "execution_count": 3,
   "metadata": {},
   "outputs": [],
   "source": [
    "scenario = NAVScenarioGeometricGenerator(mu=mu, gain=gain, max_dv=5.0, me=me, variables=variables, tactics_order=tactics_order)"
   ]
  },
  {
   "cell_type": "code",
   "execution_count": 4,
   "metadata": {},
   "outputs": [
    {
     "name": "stdout",
     "output_type": "stream",
     "text": [
      "1: shift: 0.003 compose: 0.126 each input: 32 vars, 55 constraints; result: 62 vars, 108 constraints; density=0.03644; size distribution: [(3, 48), (2, 40), (1, 20)]\n",
      "[[(5, 0.019456863403320312, 1)], [], [], []]\n"
     ]
    },
    {
     "data": {
      "text/plain": [
       "[[(5, 0.019456863403320312, 1)], [], [], []]"
      ]
     },
     "execution_count": 4,
     "metadata": {},
     "output_type": "execute_result"
    }
   ],
   "source": [
    "scenario.run_iteration()\n",
    "scenario.save_state(\"nav_geometric_state.pkl\")\n",
    "scenario.contracts[-1][4]"
   ]
  },
  {
   "cell_type": "code",
   "execution_count": 5,
   "metadata": {},
   "outputs": [
    {
     "name": "stdout",
     "output_type": "stream",
     "text": [
      "2: shift: 0.011 compose: 0.343 each input: 62 vars, 108 constraints; result: 122 vars, 212 constraints; density=0.01871; size distribution: [(3, 96), (2, 80), (1, 36)]\n",
      "[[(5, 0.03633475303649902, 1)], [], [], []]\n"
     ]
    },
    {
     "data": {
      "text/plain": [
       "[[(5, 0.03633475303649902, 1)], [], [], []]"
      ]
     },
     "execution_count": 5,
     "metadata": {},
     "output_type": "execute_result"
    }
   ],
   "source": [
    "scenario.run_iteration()\n",
    "scenario.save_state(\"nav_geometric_state.pkl\")\n",
    "scenario.contracts[-1][4]"
   ]
  },
  {
   "cell_type": "code",
   "execution_count": 6,
   "metadata": {},
   "outputs": [
    {
     "name": "stdout",
     "output_type": "stream",
     "text": [
      "3: shift: 0.037 compose: 1.152 each input: 122 vars, 212 constraints; result: 242 vars, 420 constraints; density=0.009484; size distribution: [(3, 192), (2, 160), (1, 68)]\n",
      "[[(5, 0.06982111930847168, 1)], [], [], []]\n"
     ]
    },
    {
     "data": {
      "text/plain": [
       "[[(5, 0.06982111930847168, 1)], [], [], []]"
      ]
     },
     "execution_count": 6,
     "metadata": {},
     "output_type": "execute_result"
    }
   ],
   "source": [
    "scenario.run_iteration()\n",
    "scenario.save_state(\"nav_geometric_state.pkl\")\n",
    "scenario.contracts[-1][4]"
   ]
  },
  {
   "cell_type": "code",
   "execution_count": 7,
   "metadata": {},
   "outputs": [
    {
     "name": "stdout",
     "output_type": "stream",
     "text": [
      "4: shift: 0.138 compose: 6.234 each input: 242 vars, 420 constraints; result: 482 vars, 836 constraints; density=0.004775; size distribution: [(3, 384), (2, 320), (1, 132)]\n",
      "[[(5, 0.2089402675628662, 1)], [], [], []]\n"
     ]
    },
    {
     "data": {
      "text/plain": [
       "[[(5, 0.2089402675628662, 1)], [], [], []]"
      ]
     },
     "execution_count": 7,
     "metadata": {},
     "output_type": "execute_result"
    }
   ],
   "source": [
    "scenario.run_iteration()\n",
    "scenario.save_state(\"nav_geometric_state.pkl\")\n",
    "scenario.contracts[-1][4]"
   ]
  },
  {
   "cell_type": "code",
   "execution_count": 8,
   "metadata": {},
   "outputs": [
    {
     "name": "stdout",
     "output_type": "stream",
     "text": [
      "5: shift: 0.546 compose: 31.307 each input: 482 vars, 836 constraints; result: 962 vars, 1668 constraints; density=0.002396; size distribution: [(3, 768), (2, 640), (1, 260)]\n",
      "[[(5, 0.725029468536377, 1)], [], [], []]\n"
     ]
    },
    {
     "data": {
      "text/plain": [
       "[[(5, 0.725029468536377, 1)], [], [], []]"
      ]
     },
     "execution_count": 8,
     "metadata": {},
     "output_type": "execute_result"
    }
   ],
   "source": [
    "scenario.run_iteration()\n",
    "scenario.save_state(\"nav_geometric_state.pkl\")\n",
    "scenario.contracts[-1][4]"
   ]
  },
  {
   "cell_type": "code",
   "execution_count": 9,
   "metadata": {},
   "outputs": [
    {
     "name": "stdout",
     "output_type": "stream",
     "text": [
      "6: shift: 2.111 compose: 200.775 each input: 962 vars, 1668 constraints; result: 1922 vars, 3332 constraints; density=0.0012; size distribution: [(3, 1536), (2, 1280), (1, 516)]\n",
      "[[(5, 2.6568095684051514, 1)], [], [], []]\n"
     ]
    },
    {
     "data": {
      "text/plain": [
       "[[(5, 2.6568095684051514, 1)], [], [], []]"
      ]
     },
     "execution_count": 9,
     "metadata": {},
     "output_type": "execute_result"
    }
   ],
   "source": [
    "scenario.run_iteration()\n",
    "scenario.save_state(\"nav_geometric_state.pkl\")\n",
    "scenario.contracts[-1][4]"
   ]
  },
  {
   "cell_type": "code",
   "execution_count": 10,
   "metadata": {},
   "outputs": [
    {
     "name": "stdout",
     "output_type": "stream",
     "text": [
      "7: shift: 8.329 compose: 1418.121 each input: 1922 vars, 3332 constraints; result: 3842 vars, 6556 constraints; density=0.0006017; size distribution: [(3, 3072), (2, 2456), (1, 1028)]\n",
      "[[(5, 10.241952657699585, 1)], [], [], []]\n"
     ]
    },
    {
     "data": {
      "text/plain": [
       "[[(5, 10.241952657699585, 1)], [], [], []]"
      ]
     },
     "execution_count": 10,
     "metadata": {},
     "output_type": "execute_result"
    }
   ],
   "source": [
    "scenario.run_iteration()\n",
    "scenario.save_state(\"nav_geometric_state.pkl\")\n",
    "scenario.contracts[-1][4]"
   ]
  },
  {
   "cell_type": "code",
   "execution_count": 12,
   "metadata": {},
   "outputs": [
    {
     "name": "stdout",
     "output_type": "stream",
     "text": [
      "0.46,0.38,0.16\n",
      "0.46,0.38,0.16\n",
      "0.46,0.38,0.15\n",
      "0.47,0.37,0.16\n"
     ]
    }
   ],
   "source": [
    "\n",
    "print(f\"{384/836:.2f},{320/836:.2f},{132/836:.2f}\")\n",
    "print(f\"{768/1668:.2f},{640/1668:.2f},{260/1668:.2f}\")\n",
    "print(f\"{1536/3332:.2f},{1280/3332:.2f},{516/3332:.2f}\")\n",
    "print(f\"{3072/6556:.2f},{2456/6556:.2f},{1028/6556:.2f}\")"
   ]
  }
 ],
 "metadata": {
  "kernelspec": {
   "display_name": ".venv",
   "language": "python",
   "name": "python3"
  },
  "language_info": {
   "codemirror_mode": {
    "name": "ipython",
    "version": 3
   },
   "file_extension": ".py",
   "mimetype": "text/x-python",
   "name": "python",
   "nbconvert_exporter": "python",
   "pygments_lexer": "ipython3",
   "version": "3.11.2"
  },
  "orig_nbformat": 4
 },
 "nbformat": 4,
 "nbformat_minor": 2
}
