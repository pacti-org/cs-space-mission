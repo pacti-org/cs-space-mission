{
 "cells": [
  {
   "cell_type": "code",
   "execution_count": 1,
   "metadata": {},
   "outputs": [],
   "source": [
    "%matplotlib widget\n",
    "from nav_projection import *\n",
    "from utils import *"
   ]
  },
  {
   "cell_type": "code",
   "execution_count": 2,
   "metadata": {},
   "outputs": [],
   "source": [
    "scenario = NAVScenarioGeometricGenerator(load_from_file=\"nav_geometric_state.pkl\")"
   ]
  },
  {
   "cell_type": "code",
   "execution_count": 12,
   "metadata": {},
   "outputs": [
    {
     "name": "stdout",
     "output_type": "stream",
     "text": [
      "n=16\n",
      "output_trtd1\n",
      "output_trtd10\n",
      "output_trtd11\n",
      "output_trtd12\n",
      "output_trtd13\n",
      "output_trtd14\n",
      "output_trtd15\n",
      "output_trtd16\n",
      "output_trtd17\n",
      "output_trtd18\n",
      "output_trtd19\n",
      "output_trtd2\n",
      "output_trtd20\n",
      "output_trtd21\n",
      "output_trtd22\n",
      "output_trtd23\n",
      "output_trtd24\n",
      "output_trtd25\n",
      "output_trtd26\n",
      "output_trtd27\n",
      "output_trtd28\n",
      "output_trtd29\n",
      "output_trtd3\n",
      "output_trtd30\n",
      "output_trtd31\n",
      "output_trtd4\n",
      "output_trtd5\n",
      "output_trtd6\n",
      "output_trtd7\n",
      "output_trtd8\n",
      "output_trtd9\n",
      "trtd32_exit\n"
     ]
    }
   ],
   "source": [
    "k=1\n",
    "print(f\"n={scenario.contracts[k][0]}\")\n",
    "for o in sorted([o.name for o in scenario.contracts[k][1].outputvars if 'trtd' in o.name]): print(o)"
   ]
  }
 ],
 "metadata": {
  "kernelspec": {
   "display_name": ".venv",
   "language": "python",
   "name": "python3"
  },
  "language_info": {
   "codemirror_mode": {
    "name": "ipython",
    "version": 3
   },
   "file_extension": ".py",
   "mimetype": "text/x-python",
   "name": "python",
   "nbconvert_exporter": "python",
   "pygments_lexer": "ipython3",
   "version": "3.11.7"
  }
 },
 "nbformat": 4,
 "nbformat_minor": 2
}
