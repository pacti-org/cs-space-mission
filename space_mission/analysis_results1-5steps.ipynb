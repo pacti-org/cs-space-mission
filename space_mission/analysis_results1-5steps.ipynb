{
 "cells": [
  {
   "cell_type": "code",
   "execution_count": 1,
   "metadata": {},
   "outputs": [],
   "source": [
    "%matplotlib widget\n",
    "\n",
    "import pickle\n",
    "import numpy as np\n",
    "from pacti.contracts import PolyhedralIoContract\n",
    "from matplotlib.figure import Figure\n",
    "from matplotlib.backends.backend_pdf import PdfPages\n",
    "from typing import Tuple\n",
    "from contract_utils import check_tuple, bounds, FailedMerges, Schedule\n",
    "from plot_utils import plot_steps"
   ]
  },
  {
   "attachments": {},
   "cell_type": "markdown",
   "metadata": {},
   "source": [
    "This notebook demonstrates the visualization of a few schedulable combinations of the 5-step scenarios variants for the operational requirement variants."
   ]
  },
  {
   "cell_type": "code",
   "execution_count": 2,
   "metadata": {},
   "outputs": [
    {
     "ename": "FileNotFoundError",
     "evalue": "[Errno 2] No such file or directory: 'results5.data'",
     "output_type": "error",
     "traceback": [
      "\u001b[1;31m---------------------------------------------------------------------------\u001b[0m",
      "\u001b[1;31mFileNotFoundError\u001b[0m                         Traceback (most recent call last)",
      "\u001b[1;32mc:\\opt\\local\\github.pacti\\cs-space-mission\\space_mission\\analysis_results1-5steps.ipynb Cell 3\u001b[0m line \u001b[0;36m1\n\u001b[1;32m----> <a href='vscode-notebook-cell:/c%3A/opt/local/github.pacti/cs-space-mission/space_mission/analysis_results1-5steps.ipynb#W2sZmlsZQ%3D%3D?line=0'>1</a>\u001b[0m f5 \u001b[39m=\u001b[39m \u001b[39mopen\u001b[39;49m(\u001b[39m\"\u001b[39;49m\u001b[39mresults5.data\u001b[39;49m\u001b[39m\"\u001b[39;49m, \u001b[39m\"\u001b[39;49m\u001b[39mrb\u001b[39;49m\u001b[39m\"\u001b[39;49m)\n\u001b[0;32m      <a href='vscode-notebook-cell:/c%3A/opt/local/github.pacti/cs-space-mission/space_mission/analysis_results1-5steps.ipynb#W2sZmlsZQ%3D%3D?line=1'>2</a>\u001b[0m results5 \u001b[39m=\u001b[39m pickle\u001b[39m.\u001b[39mload(f5)\n\u001b[0;32m      <a href='vscode-notebook-cell:/c%3A/opt/local/github.pacti/cs-space-mission/space_mission/analysis_results1-5steps.ipynb#W2sZmlsZQ%3D%3D?line=2'>3</a>\u001b[0m f5\u001b[39m.\u001b[39mclose()\n",
      "File \u001b[1;32mc:\\opt\\local\\github.pacti\\cs-space-mission\\.venv\\Lib\\site-packages\\IPython\\core\\interactiveshell.py:286\u001b[0m, in \u001b[0;36m_modified_open\u001b[1;34m(file, *args, **kwargs)\u001b[0m\n\u001b[0;32m    279\u001b[0m \u001b[39mif\u001b[39;00m file \u001b[39min\u001b[39;00m {\u001b[39m0\u001b[39m, \u001b[39m1\u001b[39m, \u001b[39m2\u001b[39m}:\n\u001b[0;32m    280\u001b[0m     \u001b[39mraise\u001b[39;00m \u001b[39mValueError\u001b[39;00m(\n\u001b[0;32m    281\u001b[0m         \u001b[39mf\u001b[39m\u001b[39m\"\u001b[39m\u001b[39mIPython won\u001b[39m\u001b[39m'\u001b[39m\u001b[39mt let you open fd=\u001b[39m\u001b[39m{\u001b[39;00mfile\u001b[39m}\u001b[39;00m\u001b[39m by default \u001b[39m\u001b[39m\"\u001b[39m\n\u001b[0;32m    282\u001b[0m         \u001b[39m\"\u001b[39m\u001b[39mas it is likely to crash IPython. If you know what you are doing, \u001b[39m\u001b[39m\"\u001b[39m\n\u001b[0;32m    283\u001b[0m         \u001b[39m\"\u001b[39m\u001b[39myou can use builtins\u001b[39m\u001b[39m'\u001b[39m\u001b[39m open.\u001b[39m\u001b[39m\"\u001b[39m\n\u001b[0;32m    284\u001b[0m     )\n\u001b[1;32m--> 286\u001b[0m \u001b[39mreturn\u001b[39;00m io_open(file, \u001b[39m*\u001b[39;49margs, \u001b[39m*\u001b[39;49m\u001b[39m*\u001b[39;49mkwargs)\n",
      "\u001b[1;31mFileNotFoundError\u001b[0m: [Errno 2] No such file or directory: 'results5.data'"
     ]
    }
   ],
   "source": [
    "f5 = open(\"results5.data\", \"rb\")\n",
    "results5 = pickle.load(f5)\n",
    "f5.close()\n",
    "\n",
    "print(f\"Failure results: {len(results5[0])}\")\n",
    "print(f\"Successful results: {len(results5[1])}\")\n"
   ]
  },
  {
   "attachments": {},
   "cell_type": "markdown",
   "metadata": {},
   "source": [
    "We focus on showing the range of possible values for the battery state-of-charge at each step in the scenario. We also show the uncertainties associated with each step function across all 3 viewpoints: power, science and communication, and navigation. The operational requirements specify constraints on initial conditions and lower bounds at each step. Finally, we also compute the average batter state-of-charge as a figure of merit computed as a min/max optimization. "
   ]
  },
  {
   "cell_type": "code",
   "execution_count": null,
   "metadata": {},
   "outputs": [],
   "source": [
    "def showRange(name: str, range: Tuple[float, float]) -> str:\n",
    "    return f\"{name}=[{range[0]:.3g},{range[1]:.3g}]\\n\"\n",
    "\n",
    "def plot_results5(index: int, var: str) -> Figure:\n",
    "    schedule: Schedule = results5[1][index]\n",
    "    ranges = schedule.scenario\n",
    "    dsn_cons = ranges[0]\n",
    "    chrg_gen = ranges[1]\n",
    "    sbo_cons = ranges[2]\n",
    "    tcmh_cons = ranges[3]\n",
    "    tcmdv_cons = ranges[4]\n",
    "    dsn_speed = ranges[5]\n",
    "    sbo_gen = ranges[6]\n",
    "    dsn_noise = ranges[7]\n",
    "    chrg_noise = ranges[8]\n",
    "    sbo_imp = ranges[9]\n",
    "    tcm_dv_noise = ranges[10]\n",
    "    tcm_dv_progress = ranges[11]\n",
    "\n",
    "    op_reqs: np.ndarray = schedule.reqs\n",
    "    c: PolyhedralIoContract = schedule.contract\n",
    "    fsoc = \" + \".join([f\"0.05 output_soc{i}\" for i in range(1, 6)])\n",
    "    max_soc = c.optimize(fsoc, maximize=True)\n",
    "    if max_soc is None:\n",
    "        max_soc = -1\n",
    "\n",
    "    min_soc = c.optimize(fsoc, maximize=False)\n",
    "    if min_soc is None:\n",
    "        min_soc = -1\n",
    "\n",
    "    u_bounds = check_tuple(c.get_variable_bounds(\"output_u5\"))\n",
    "    r_bounds = check_tuple(c.get_variable_bounds(\"output_r5\"))\n",
    "    c_bounds = check_tuple(c.get_variable_bounds(\"output_c5\"))\n",
    "\n",
    "    text = \\\n",
    "        \"* Power uncertainties\\n\" + \\\n",
    "        showRange(\"        chrg_gen\", chrg_gen) + \\\n",
    "        showRange(\"        dsn_cons\", dsn_cons) + \\\n",
    "        showRange(\"        sbo_cons\", sbo_cons) + \\\n",
    "        showRange(\"       tcmh_cons\", tcmh_cons) + \\\n",
    "        showRange(\"      tcmdv_cons\", tcmdv_cons) + \\\n",
    "        \"* Science uncertainties\\n\" + \\\n",
    "        showRange(\"         sbo_gen\", sbo_gen) + \\\n",
    "        showRange(\"       dsn_speed\", dsn_speed) + \\\n",
    "        \"* Navigation uncertainties\\n\" + \\\n",
    "        showRange(\"         sbo_imp\", sbo_imp) + \\\n",
    "        showRange(\"       dsn_noise\", dsn_noise) + \\\n",
    "        showRange(\"      chrg_noise\", chrg_noise) + \\\n",
    "        showRange(\"    tcm_dv_noise\", tcm_dv_noise) + \\\n",
    "        showRange(\" tcm_dv_progress\", tcm_dv_progress) + \\\n",
    "        \"* Initial conditions\\n\" + \\\n",
    "        f\"     battery soc={op_reqs[0]:.3g}\\n\" + \\\n",
    "        f\"    science data={op_reqs[3]:.3g}\\n\" + \\\n",
    "        f\"   traj. est. u.={op_reqs[4]:.3g}\\n\" + \\\n",
    "        \"* Constraints @ each step\\n\" + \\\n",
    "        f\"    min soc exit={op_reqs[1]:.3g}\\n\" + \\\n",
    "        f\"  min time alloc={op_reqs[2]:.3g}\\n\" + \\\n",
    "        \"* Optimization bounds\\n\" + \\\n",
    "        f\"     average soc=[{min_soc:.3g},{max_soc:.3g}]\\n\" + \\\n",
    "        showRange(\"   traj. est. u.\", u_bounds) + \\\n",
    "        showRange(\"   rel. progress\", r_bounds) + \\\n",
    "        showRange(\"   total science\", c_bounds)\n",
    "            \n",
    "    bounds = [check_tuple(c.get_variable_bounds(f\"{var}1_entry\"))]\n",
    "    labels = [\"initial\"]\n",
    "    n = 5\n",
    "    for i in range(1, n):\n",
    "        bounds += [check_tuple(c.get_variable_bounds(f\"output_{var}{i}\"))]\n",
    "        labels += [f\"{i}\"]\n",
    "    bounds += [check_tuple(c.get_variable_bounds(f\"output_{var}{n}\"))]\n",
    "    labels += [f\"final\"]\n",
    "    return plot_steps(bounds, labels, ylabel=var, title=f\"Possible values of {var} over the sequence\", text=text)\n"
   ]
  },
  {
   "attachments": {},
   "cell_type": "markdown",
   "metadata": {},
   "source": [
    "Here, we focus on showing the first 15 schedulable combinations; information is also available about which operational requirement constraints resulted in a non-schedulable result."
   ]
  },
  {
   "cell_type": "code",
   "execution_count": null,
   "metadata": {},
   "outputs": [],
   "source": [
    "max_fig=15\n",
    "for i in range(0, min(max_fig,len(results5[1]))):\n",
    "    pp = PdfPages(f\"figures/results5-{i}-soc.pdf\")\n",
    "    fig = plot_results5(index=i, var=\"soc\")\n",
    "    pp.savefig()\n",
    "    pp.close()\n"
   ]
  }
 ],
 "metadata": {
  "kernelspec": {
   "display_name": ".venv",
   "language": "python",
   "name": "python3"
  },
  "language_info": {
   "codemirror_mode": {
    "name": "ipython",
    "version": 3
   },
   "file_extension": ".py",
   "mimetype": "text/x-python",
   "name": "python",
   "nbconvert_exporter": "python",
   "pygments_lexer": "ipython3",
   "version": "3.11.5"
  },
  "orig_nbformat": 4
 },
 "nbformat": 4,
 "nbformat_minor": 2
}
