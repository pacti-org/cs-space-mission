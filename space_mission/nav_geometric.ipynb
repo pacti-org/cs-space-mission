{
 "cells": [
  {
   "cell_type": "code",
   "execution_count": 1,
   "metadata": {},
   "outputs": [],
   "source": [
    "%matplotlib widget\n",
    "from nav_projection import *\n",
    "from utils import *\n",
    "from pacti_instrumentation.cpu_usage_plot import cpu_usage_plot"
   ]
  },
  {
   "cell_type": "code",
   "execution_count": 2,
   "metadata": {},
   "outputs": [],
   "source": [
    "mu=0.005 \n",
    "gain=(0.2, 0.3)\n",
    "max_dv=10\n",
    "me=(0.9, 1.1)\n",
    "variables=[\"t\", \"trtd\", \"ttid\"]\n",
    "iterations=7"
   ]
  },
  {
   "cell_type": "code",
   "execution_count": 3,
   "metadata": {},
   "outputs": [
    {
     "name": "stdout",
     "output_type": "stream",
     "text": [
      "0: shift: 0.004 compose: 0.402 each input: 41 vars, 72 constraints; result: 79 vars, 141 constraints; density=0.02774; size distribution: [(3, 48), (2, 72), (1, 21)]\n",
      "[[(5, 2.1457672119140625e-06, 1), (5, 2.1457672119140625e-06, 1)], [], [], []]\n",
      "1: shift: 0.013 compose: 1.175 each input: 79 vars, 141 constraints; result: 155 vars, 277 constraints; density=0.01428; size distribution: [(3, 96), (2, 144), (1, 37)]\n",
      "[[(5, 3.0994415283203125e-06, 1), (5, 2.1457672119140625e-06, 1)], [], [], []]\n",
      "2: shift: 0.047 compose: 5.074 each input: 155 vars, 277 constraints; result: 307 vars, 549 constraints; density=0.007244; size distribution: [(3, 192), (2, 288), (1, 69)]\n",
      "[[(5, 3.5762786865234375e-06, 1), (5, 3.0994415283203125e-06, 1)], [], [], []]\n",
      "3: shift: 0.184 compose: 27.666 each input: 307 vars, 549 constraints; result: 611 vars, 1093 constraints; density=0.003649; size distribution: [(3, 384), (2, 576), (1, 133)]\n",
      "[[(5, 4.5299530029296875e-06, 1), (5, 2.384185791015625e-06, 1)], [], [], []]\n",
      "4: shift: 0.719 compose: 158.217 each input: 611 vars, 1093 constraints; result: 1219 vars, 2181 constraints; density=0.001831; size distribution: [(3, 768), (2, 1152), (1, 261)]\n",
      "[[(5, 4.76837158203125e-06, 1), (5, 4.5299530029296875e-06, 1)], [], [], []]\n"
     ]
    },
    {
     "ename": "KeyboardInterrupt",
     "evalue": "",
     "output_type": "error",
     "traceback": [
      "\u001b[0;31m---------------------------------------------------------------------------\u001b[0m",
      "\u001b[0;31mKeyboardInterrupt\u001b[0m                         Traceback (most recent call last)",
      "Cell \u001b[0;32mIn[3], line 2\u001b[0m\n\u001b[1;32m      1\u001b[0m tactics_order\u001b[39m=\u001b[39m[\u001b[39m5\u001b[39m,\u001b[39m4\u001b[39m,\u001b[39m1\u001b[39m,\u001b[39m2\u001b[39m,\u001b[39m3\u001b[39m]\n\u001b[0;32m----> 2\u001b[0m ns2 \u001b[39m=\u001b[39m NAVScenarioGeometric(iterations\u001b[39m=\u001b[39;49miterations, mu\u001b[39m=\u001b[39;49mmu, gain\u001b[39m=\u001b[39;49mgain, max_dv\u001b[39m=\u001b[39;49mmax_dv, me\u001b[39m=\u001b[39;49mme, variables\u001b[39m=\u001b[39;49mvariables, tactics_order\u001b[39m=\u001b[39;49mtactics_order)\n",
      "File \u001b[0;32m/opt/local/github.pacti-org/cs-space-mission/space_mission/nav_projection.py:348\u001b[0m, in \u001b[0;36mNAVScenarioGeometric.__init__\u001b[0;34m(self, iterations, mu, gain, max_dv, me, variables, tactics_order)\u001b[0m\n\u001b[1;32m    346\u001b[0m tb \u001b[39m=\u001b[39m time\u001b[39m.\u001b[39mtime()\n\u001b[1;32m    347\u001b[0m current, tactics \u001b[39m=\u001b[39m scenario_sequence(c1\u001b[39m=\u001b[39mcurrent, c2\u001b[39m=\u001b[39mcurrent_shift, variables\u001b[39m=\u001b[39mvariables, c1index\u001b[39m=\u001b[39mlength, tactics_order\u001b[39m=\u001b[39mtactics_order)\n\u001b[0;32m--> 348\u001b[0m current\u001b[39m.\u001b[39;49msimplify()\n\u001b[1;32m    349\u001b[0m tc \u001b[39m=\u001b[39m time\u001b[39m.\u001b[39mtime()\n\u001b[1;32m    351\u001b[0m \u001b[39mself\u001b[39m\u001b[39m.\u001b[39mshifted\u001b[39m.\u001b[39mappend(current_shift)\n",
      "File \u001b[0;32m/opt/local/github.pacti-org/cs-space-mission/.venv/lib/python3.11/site-packages/pacti/iocontract/iocontract.py:412\u001b[0m, in \u001b[0;36mIoContract.simplify\u001b[0;34m(self)\u001b[0m\n\u001b[1;32m    410\u001b[0m \u001b[39mdef\u001b[39;00m \u001b[39msimplify\u001b[39m(\u001b[39mself\u001b[39m) \u001b[39m-\u001b[39m\u001b[39m>\u001b[39m \u001b[39mNone\u001b[39;00m:\n\u001b[1;32m    411\u001b[0m \u001b[39m    \u001b[39m\u001b[39m\"\"\"Simplifies guarantees given assumptions.\"\"\"\u001b[39;00m\n\u001b[0;32m--> 412\u001b[0m     \u001b[39mself\u001b[39m\u001b[39m.\u001b[39mg \u001b[39m=\u001b[39m \u001b[39mself\u001b[39;49m\u001b[39m.\u001b[39;49mg\u001b[39m.\u001b[39;49msimplify(\u001b[39mself\u001b[39;49m\u001b[39m.\u001b[39;49ma)\n",
      "File \u001b[0;32m/opt/local/github.pacti-org/cs-space-mission/.venv/lib/python3.11/site-packages/pacti/terms/polyhedra/polyhedra.py:752\u001b[0m, in \u001b[0;36mPolyhedralTermList.simplify\u001b[0;34m(self, context)\u001b[0m\n\u001b[1;32m    750\u001b[0m \u001b[39m# logging.debug(\"Polytope is \\n%s\", self_mat)\u001b[39;00m\n\u001b[1;32m    751\u001b[0m \u001b[39mtry\u001b[39;00m:\n\u001b[0;32m--> 752\u001b[0m     a_red, b_red \u001b[39m=\u001b[39m PolyhedralTermList\u001b[39m.\u001b[39;49mreduce_polytope(self_mat, self_cons, ctx_mat, ctx_cons)\n\u001b[1;32m    753\u001b[0m \u001b[39mexcept\u001b[39;00m \u001b[39mValueError\u001b[39;00m \u001b[39mas\u001b[39;00m e:\n\u001b[1;32m    754\u001b[0m     \u001b[39mraise\u001b[39;00m \u001b[39mValueError\u001b[39;00m(\n\u001b[1;32m    755\u001b[0m         \u001b[39m\"\u001b[39m\u001b[39mThe constraints \u001b[39m\u001b[39m\\n\u001b[39;00m\u001b[39m{}\u001b[39;00m\u001b[39m\\n\u001b[39;00m\u001b[39m\"\u001b[39m\u001b[39m.\u001b[39mformat(\u001b[39mself\u001b[39m) \u001b[39m+\u001b[39m \u001b[39m\"\u001b[39m\u001b[39mare unsatisfiable in context \u001b[39m\u001b[39m\\n\u001b[39;00m\u001b[39m{}\u001b[39;00m\u001b[39m\"\u001b[39m\u001b[39m.\u001b[39mformat(context)\n\u001b[1;32m    756\u001b[0m     ) \u001b[39mfrom\u001b[39;00m \u001b[39me\u001b[39;00m\n",
      "File \u001b[0;32m/opt/local/github.pacti-org/cs-space-mission/.venv/lib/python3.11/site-packages/pacti/terms/polyhedra/polyhedra.py:1028\u001b[0m, in \u001b[0;36mPolyhedralTermList.reduce_polytope\u001b[0;34m(a, b, a_help, b_help)\u001b[0m\n\u001b[1;32m   1021\u001b[0m     b_opt \u001b[39m=\u001b[39m b_temp\n\u001b[1;32m   1022\u001b[0m \u001b[39m# Linprog's status values\u001b[39;00m\n\u001b[1;32m   1023\u001b[0m \u001b[39m# 0 : Optimization proceeding nominally.\u001b[39;00m\n\u001b[1;32m   1024\u001b[0m \u001b[39m# 1 : Iteration limit reached.\u001b[39;00m\n\u001b[1;32m   1025\u001b[0m \u001b[39m# 2 : Problem appears to be infeasible.\u001b[39;00m\n\u001b[1;32m   1026\u001b[0m \u001b[39m# 3 : Problem appears to be unbounded.\u001b[39;00m\n\u001b[1;32m   1027\u001b[0m \u001b[39m# 4 : Numerical difficulties encountered.\u001b[39;00m\n\u001b[0;32m-> 1028\u001b[0m res \u001b[39m=\u001b[39m linprog(c\u001b[39m=\u001b[39;49mobjective, A_ub\u001b[39m=\u001b[39;49ma_opt, b_ub\u001b[39m=\u001b[39;49mb_opt, bounds\u001b[39m=\u001b[39;49m(\u001b[39mNone\u001b[39;49;00m, \u001b[39mNone\u001b[39;49;00m))  \u001b[39m# ,options={'tol':0.000001})\u001b[39;00m\n\u001b[1;32m   1029\u001b[0m b_temp[i] \u001b[39m-\u001b[39m\u001b[39m=\u001b[39m \u001b[39m1\u001b[39m\n\u001b[1;32m   1030\u001b[0m \u001b[39mif\u001b[39;00m res[\u001b[39m\"\u001b[39m\u001b[39mstatus\u001b[39m\u001b[39m\"\u001b[39m] \u001b[39m==\u001b[39m \u001b[39m3\u001b[39m \u001b[39mor\u001b[39;00m (res[\u001b[39m\"\u001b[39m\u001b[39mstatus\u001b[39m\u001b[39m\"\u001b[39m] \u001b[39m==\u001b[39m \u001b[39m0\u001b[39m \u001b[39mand\u001b[39;00m \u001b[39m-\u001b[39mres[\u001b[39m\"\u001b[39m\u001b[39mfun\u001b[39m\u001b[39m\"\u001b[39m] \u001b[39m<\u001b[39m\u001b[39m=\u001b[39m b_temp[i]):  \u001b[39m# noqa: WPS309\u001b[39;00m\n",
      "File \u001b[0;32m/opt/local/github.pacti-org/cs-space-mission/.venv/lib/python3.11/site-packages/scipy/optimize/_linprog.py:639\u001b[0m, in \u001b[0;36mlinprog\u001b[0;34m(c, A_ub, b_ub, A_eq, b_eq, bounds, method, callback, options, x0, integrality)\u001b[0m\n\u001b[1;32m    634\u001b[0m     \u001b[39mraise\u001b[39;00m \u001b[39mNotImplementedError\u001b[39;00m(\u001b[39m\"\u001b[39m\u001b[39mHiGHS solvers do not support the \u001b[39m\u001b[39m\"\u001b[39m\n\u001b[1;32m    635\u001b[0m                               \u001b[39m\"\u001b[39m\u001b[39mcallback interface.\u001b[39m\u001b[39m\"\u001b[39m)\n\u001b[1;32m    636\u001b[0m highs_solvers \u001b[39m=\u001b[39m {\u001b[39m'\u001b[39m\u001b[39mhighs-ipm\u001b[39m\u001b[39m'\u001b[39m: \u001b[39m'\u001b[39m\u001b[39mipm\u001b[39m\u001b[39m'\u001b[39m, \u001b[39m'\u001b[39m\u001b[39mhighs-ds\u001b[39m\u001b[39m'\u001b[39m: \u001b[39m'\u001b[39m\u001b[39msimplex\u001b[39m\u001b[39m'\u001b[39m,\n\u001b[1;32m    637\u001b[0m                  \u001b[39m'\u001b[39m\u001b[39mhighs\u001b[39m\u001b[39m'\u001b[39m: \u001b[39mNone\u001b[39;00m}\n\u001b[0;32m--> 639\u001b[0m sol \u001b[39m=\u001b[39m _linprog_highs(lp, solver\u001b[39m=\u001b[39;49mhighs_solvers[meth],\n\u001b[1;32m    640\u001b[0m                      \u001b[39m*\u001b[39;49m\u001b[39m*\u001b[39;49msolver_options)\n\u001b[1;32m    641\u001b[0m sol[\u001b[39m'\u001b[39m\u001b[39mstatus\u001b[39m\u001b[39m'\u001b[39m], sol[\u001b[39m'\u001b[39m\u001b[39mmessage\u001b[39m\u001b[39m'\u001b[39m] \u001b[39m=\u001b[39m (\n\u001b[1;32m    642\u001b[0m     _check_result(sol[\u001b[39m'\u001b[39m\u001b[39mx\u001b[39m\u001b[39m'\u001b[39m], sol[\u001b[39m'\u001b[39m\u001b[39mfun\u001b[39m\u001b[39m'\u001b[39m], sol[\u001b[39m'\u001b[39m\u001b[39mstatus\u001b[39m\u001b[39m'\u001b[39m], sol[\u001b[39m'\u001b[39m\u001b[39mslack\u001b[39m\u001b[39m'\u001b[39m],\n\u001b[1;32m    643\u001b[0m                   sol[\u001b[39m'\u001b[39m\u001b[39mcon\u001b[39m\u001b[39m'\u001b[39m], lp\u001b[39m.\u001b[39mbounds, tol, sol[\u001b[39m'\u001b[39m\u001b[39mmessage\u001b[39m\u001b[39m'\u001b[39m],\n\u001b[1;32m    644\u001b[0m                   integrality))\n\u001b[1;32m    645\u001b[0m sol[\u001b[39m'\u001b[39m\u001b[39msuccess\u001b[39m\u001b[39m'\u001b[39m] \u001b[39m=\u001b[39m sol[\u001b[39m'\u001b[39m\u001b[39mstatus\u001b[39m\u001b[39m'\u001b[39m] \u001b[39m==\u001b[39m \u001b[39m0\u001b[39m\n",
      "File \u001b[0;32m/opt/local/github.pacti-org/cs-space-mission/.venv/lib/python3.11/site-packages/scipy/optimize/_linprog_highs.py:338\u001b[0m, in \u001b[0;36m_linprog_highs\u001b[0;34m(lp, solver, time_limit, presolve, disp, maxiter, dual_feasibility_tolerance, primal_feasibility_tolerance, ipm_optimality_tolerance, simplex_dual_edge_weight_strategy, mip_rel_gap, mip_max_nodes, **unknown_options)\u001b[0m\n\u001b[1;32m    336\u001b[0m \u001b[39melse\u001b[39;00m:\n\u001b[1;32m    337\u001b[0m     A \u001b[39m=\u001b[39m np\u001b[39m.\u001b[39mvstack((A_ub, A_eq))\n\u001b[0;32m--> 338\u001b[0m A \u001b[39m=\u001b[39m csc_matrix(A)\n\u001b[1;32m    340\u001b[0m options \u001b[39m=\u001b[39m {\n\u001b[1;32m    341\u001b[0m     \u001b[39m'\u001b[39m\u001b[39mpresolve\u001b[39m\u001b[39m'\u001b[39m: presolve,\n\u001b[1;32m    342\u001b[0m     \u001b[39m'\u001b[39m\u001b[39msense\u001b[39m\u001b[39m'\u001b[39m: HIGHS_OBJECTIVE_SENSE_MINIMIZE,\n\u001b[0;32m   (...)\u001b[0m\n\u001b[1;32m    358\u001b[0m     \u001b[39m'\u001b[39m\u001b[39mmip_rel_gap\u001b[39m\u001b[39m'\u001b[39m: mip_rel_gap,\n\u001b[1;32m    359\u001b[0m }\n\u001b[1;32m    360\u001b[0m options\u001b[39m.\u001b[39mupdate(unknown_options)\n",
      "File \u001b[0;32m/opt/local/github.pacti-org/cs-space-mission/.venv/lib/python3.11/site-packages/scipy/sparse/_compressed.py:84\u001b[0m, in \u001b[0;36m_cs_matrix.__init__\u001b[0;34m(self, arg1, shape, dtype, copy)\u001b[0m\n\u001b[1;32m     80\u001b[0m     \u001b[39mexcept\u001b[39;00m \u001b[39mException\u001b[39;00m \u001b[39mas\u001b[39;00m e:\n\u001b[1;32m     81\u001b[0m         \u001b[39mraise\u001b[39;00m \u001b[39mValueError\u001b[39;00m(\u001b[39m\"\u001b[39m\u001b[39munrecognized \u001b[39m\u001b[39m{}\u001b[39;00m\u001b[39m_matrix constructor usage\u001b[39m\u001b[39m\"\u001b[39m\n\u001b[1;32m     82\u001b[0m                          \u001b[39m\"\u001b[39m\u001b[39m\"\u001b[39m\u001b[39m.\u001b[39mformat(\u001b[39mself\u001b[39m\u001b[39m.\u001b[39mformat)) \u001b[39mfrom\u001b[39;00m \u001b[39me\u001b[39;00m\n\u001b[1;32m     83\u001b[0m     \u001b[39mself\u001b[39m\u001b[39m.\u001b[39m_set_self(\u001b[39mself\u001b[39m\u001b[39m.\u001b[39m\u001b[39m__class__\u001b[39m(\n\u001b[0;32m---> 84\u001b[0m         \u001b[39mself\u001b[39;49m\u001b[39m.\u001b[39;49m_coo_container(arg1, dtype\u001b[39m=\u001b[39;49mdtype)\n\u001b[1;32m     85\u001b[0m     ))\n\u001b[1;32m     87\u001b[0m \u001b[39m# Read matrix dimensions given, if any\u001b[39;00m\n\u001b[1;32m     88\u001b[0m \u001b[39mif\u001b[39;00m shape \u001b[39mis\u001b[39;00m \u001b[39mnot\u001b[39;00m \u001b[39mNone\u001b[39;00m:\n",
      "File \u001b[0;32m/opt/local/github.pacti-org/cs-space-mission/.venv/lib/python3.11/site-packages/scipy/sparse/_coo.py:195\u001b[0m, in \u001b[0;36m_coo_base.__init__\u001b[0;34m(self, arg1, shape, dtype, copy)\u001b[0m\n\u001b[1;32m    192\u001b[0m         \u001b[39mraise\u001b[39;00m \u001b[39mValueError\u001b[39;00m(\u001b[39m'\u001b[39m\u001b[39minconsistent shapes: \u001b[39m\u001b[39m%s\u001b[39;00m\u001b[39m != \u001b[39m\u001b[39m%s\u001b[39;00m\u001b[39m'\u001b[39m \u001b[39m%\u001b[39m\n\u001b[1;32m    193\u001b[0m                          (shape, \u001b[39mself\u001b[39m\u001b[39m.\u001b[39m_shape))\n\u001b[1;32m    194\u001b[0m index_dtype \u001b[39m=\u001b[39m \u001b[39mself\u001b[39m\u001b[39m.\u001b[39m_get_index_dtype(maxval\u001b[39m=\u001b[39m\u001b[39mmax\u001b[39m(\u001b[39mself\u001b[39m\u001b[39m.\u001b[39m_shape))\n\u001b[0;32m--> 195\u001b[0m row, col \u001b[39m=\u001b[39m M\u001b[39m.\u001b[39;49mnonzero()\n\u001b[1;32m    196\u001b[0m \u001b[39mself\u001b[39m\u001b[39m.\u001b[39mrow \u001b[39m=\u001b[39m row\u001b[39m.\u001b[39mastype(index_dtype, copy\u001b[39m=\u001b[39m\u001b[39mFalse\u001b[39;00m)\n\u001b[1;32m    197\u001b[0m \u001b[39mself\u001b[39m\u001b[39m.\u001b[39mcol \u001b[39m=\u001b[39m col\u001b[39m.\u001b[39mastype(index_dtype, copy\u001b[39m=\u001b[39m\u001b[39mFalse\u001b[39;00m)\n",
      "\u001b[0;31mKeyboardInterrupt\u001b[0m: "
     ]
    }
   ],
   "source": [
    "tactics_order=[5,4,1,2,3]\n",
    "ns2 = NAVScenarioGeometric(iterations=iterations, mu=mu, gain=gain, max_dv=max_dv, me=me, variables=variables, tactics_order=tactics_order)"
   ]
  }
 ],
 "metadata": {
  "kernelspec": {
   "display_name": ".venv",
   "language": "python",
   "name": "python3"
  },
  "language_info": {
   "codemirror_mode": {
    "name": "ipython",
    "version": 3
   },
   "file_extension": ".py",
   "mimetype": "text/x-python",
   "name": "python",
   "nbconvert_exporter": "python",
   "pygments_lexer": "ipython3",
   "version": "3.11.2"
  },
  "orig_nbformat": 4
 },
 "nbformat": 4,
 "nbformat_minor": 2
}
