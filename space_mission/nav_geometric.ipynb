{
 "cells": [
  {
   "cell_type": "code",
   "execution_count": 1,
   "metadata": {},
   "outputs": [],
   "source": [
    "%matplotlib widget\n",
    "from nav_projection import *\n",
    "from utils import *\n",
    "from pacti_instrumentation.cpu_usage_plot import cpu_usage_plot"
   ]
  },
  {
   "cell_type": "code",
   "execution_count": 2,
   "metadata": {},
   "outputs": [],
   "source": [
    "mu=0.005 \n",
    "gain=(0.2, 0.3)\n",
    "max_dv=10\n",
    "me=(0.9, 1.1)\n",
    "variables=[\"t\", \"trtd\", \"ttid\"]\n",
    "iterations=10"
   ]
  },
  {
   "cell_type": "code",
   "execution_count": 3,
   "metadata": {},
   "outputs": [
    {
     "name": "stdout",
     "output_type": "stream",
     "text": [
      "0: shift: 0.004 compose: 0.566 each input: 41 vars, 72 constraints; result: 79 vars, 141 constraints; density=0.02774; size distribution: [(3, 48), (2, 72), (1, 21)]\n",
      "1: shift: 0.013 compose: 1.772 each input: 79 vars, 141 constraints; result: 155 vars, 277 constraints; density=0.01428; size distribution: [(3, 96), (2, 144), (1, 37)]\n",
      "2: shift: 0.047 compose: 7.898 each input: 155 vars, 277 constraints; result: 307 vars, 549 constraints; density=0.007244; size distribution: [(3, 192), (2, 288), (1, 69)]\n",
      "3: shift: 0.181 compose: 42.748 each input: 307 vars, 549 constraints; result: 611 vars, 1093 constraints; density=0.003649; size distribution: [(3, 384), (2, 576), (1, 133)]\n",
      "4: shift: 0.717 compose: 250.173 each input: 611 vars, 1093 constraints; result: 1219 vars, 2181 constraints; density=0.001831; size distribution: [(3, 768), (2, 1152), (1, 261)]\n",
      "5: shift: 2.856 compose: 1773.846 each input: 1219 vars, 2181 constraints; result: 2435 vars, 4357 constraints; density=0.0009174; size distribution: [(3, 1536), (2, 2304), (1, 517)]\n",
      "6: shift: 11.382 compose: 12663.081 each input: 2435 vars, 4357 constraints; result: 4867 vars, 8608 constraints; density=0.0004597; size distribution: [(3, 3072), (2, 4507), (1, 1029)]\n"
     ]
    },
    {
     "ename": "KeyboardInterrupt",
     "evalue": "",
     "output_type": "error",
     "traceback": [
      "\u001b[0;31m---------------------------------------------------------------------------\u001b[0m",
      "\u001b[0;31mKeyboardInterrupt\u001b[0m                         Traceback (most recent call last)",
      "Cell \u001b[0;32mIn[3], line 1\u001b[0m\n\u001b[0;32m----> 1\u001b[0m ns \u001b[39m=\u001b[39m NAVScenarioGeometric(iterations\u001b[39m=\u001b[39;49miterations, mu\u001b[39m=\u001b[39;49mmu, gain\u001b[39m=\u001b[39;49mgain, max_dv\u001b[39m=\u001b[39;49mmax_dv, me\u001b[39m=\u001b[39;49mme, variables\u001b[39m=\u001b[39;49mvariables)\n",
      "File \u001b[0;32m/opt/local/github.pacti-org/cs-space-mission/space_mission/nav_projection.py:346\u001b[0m, in \u001b[0;36mNAVScenarioGeometric.__init__\u001b[0;34m(self, iterations, mu, gain, max_dv, me, variables, tactics_order)\u001b[0m\n\u001b[1;32m    344\u001b[0m current_shift: PolyhedralContract \u001b[39m=\u001b[39m contract_shift(c\u001b[39m=\u001b[39mcurrent, offset\u001b[39m=\u001b[39mlength)\n\u001b[1;32m    345\u001b[0m tb \u001b[39m=\u001b[39m time\u001b[39m.\u001b[39mtime()\n\u001b[0;32m--> 346\u001b[0m current, tactics \u001b[39m=\u001b[39m scenario_sequence(c1\u001b[39m=\u001b[39;49mcurrent, c2\u001b[39m=\u001b[39;49mcurrent_shift, variables\u001b[39m=\u001b[39;49mvariables, c1index\u001b[39m=\u001b[39;49mlength, tactics_order\u001b[39m=\u001b[39;49mtactics_order)\n\u001b[1;32m    347\u001b[0m current\u001b[39m.\u001b[39msimplify()\n\u001b[1;32m    348\u001b[0m tc \u001b[39m=\u001b[39m time\u001b[39m.\u001b[39mtime()\n",
      "File \u001b[0;32m/opt/local/github.pacti-org/cs-space-mission/space_mission/utils.py:96\u001b[0m, in \u001b[0;36mscenario_sequence\u001b[0;34m(c1, c2, variables, c1index, c2index, file_name, tactics_order)\u001b[0m\n\u001b[1;32m     93\u001b[0m renamed_c1_outputs \u001b[39m=\u001b[39m [(\u001b[39mf\u001b[39m\u001b[39m\"\u001b[39m\u001b[39m{\u001b[39;00mv\u001b[39m}\u001b[39;00m\u001b[39m{\u001b[39;00mc1index\u001b[39m}\u001b[39;00m\u001b[39m_exit\u001b[39m\u001b[39m\"\u001b[39m, \u001b[39mf\u001b[39m\u001b[39m\"\u001b[39m\u001b[39moutput_\u001b[39m\u001b[39m{\u001b[39;00mv\u001b[39m}\u001b[39;00m\u001b[39m{\u001b[39;00mc1index\u001b[39m}\u001b[39;00m\u001b[39m\"\u001b[39m) \u001b[39mfor\u001b[39;00m v \u001b[39min\u001b[39;00m variables]\n\u001b[1;32m     95\u001b[0m c2_with_inputs_renamed \u001b[39m=\u001b[39m c2\u001b[39m.\u001b[39mrename_variables(c2_inputs_to_c1_outputs)\n\u001b[0;32m---> 96\u001b[0m c12_with_outputs_kept, tactics \u001b[39m=\u001b[39m c1\u001b[39m.\u001b[39;49mcompose_tactics(c2_with_inputs_renamed, vars_to_keep\u001b[39m=\u001b[39;49mkeep_c1_outputs, simplify\u001b[39m=\u001b[39;49m\u001b[39mFalse\u001b[39;49;00m, tactics_order\u001b[39m=\u001b[39;49mtactics_order)\n\u001b[1;32m     97\u001b[0m c12 \u001b[39m=\u001b[39m c12_with_outputs_kept\u001b[39m.\u001b[39mrename_variables(renamed_c1_outputs)\n\u001b[1;32m     99\u001b[0m \u001b[39mif\u001b[39;00m file_name:\n",
      "File \u001b[0;32m/opt/local/github.pacti-org/cs-space-mission/.venv/lib/python3.11/site-packages/pacti/terms/polyhedra/polyhedral_contract.py:225\u001b[0m, in \u001b[0;36mPolyhedralContract.compose_tactics\u001b[0;34m(self, other, vars_to_keep, simplify, tactics_order)\u001b[0m\n\u001b[1;32m    223\u001b[0m \u001b[39mif\u001b[39;00m vars_to_keep \u001b[39mis\u001b[39;00m \u001b[39mNone\u001b[39;00m:\n\u001b[1;32m    224\u001b[0m     vars_to_keep \u001b[39m=\u001b[39m []\n\u001b[0;32m--> 225\u001b[0m \u001b[39mreturn\u001b[39;00m \u001b[39msuper\u001b[39;49m()\u001b[39m.\u001b[39;49mcompose_tactics(other, [Var(x) \u001b[39mfor\u001b[39;49;00m x \u001b[39min\u001b[39;49;00m vars_to_keep], simplify, tactics_order)\n",
      "File \u001b[0;32m/opt/local/github.pacti-org/cs-space-mission/.venv/lib/python3.11/site-packages/pacti/iocontract/iocontract.py:679\u001b[0m, in \u001b[0;36mIoContract.compose_tactics\u001b[0;34m(self, other, vars_to_keep, simplify, tactics_order)\u001b[0m\n\u001b[1;32m    677\u001b[0m \u001b[39melif\u001b[39;00m self_helps_other \u001b[39mand\u001b[39;00m \u001b[39mnot\u001b[39;00m other_helps_self:\n\u001b[1;32m    678\u001b[0m     logging\u001b[39m.\u001b[39mdebug(\u001b[39m\"\u001b[39m\u001b[39mAssumption computation: self provides context for other\u001b[39m\u001b[39m\"\u001b[39m)\n\u001b[0;32m--> 679\u001b[0m     (new_a, used) \u001b[39m=\u001b[39m other\u001b[39m.\u001b[39;49ma\u001b[39m.\u001b[39;49melim_vars_by_refining(\n\u001b[1;32m    680\u001b[0m         \u001b[39mself\u001b[39;49m\u001b[39m.\u001b[39;49ma \u001b[39m|\u001b[39;49m \u001b[39mself\u001b[39;49m\u001b[39m.\u001b[39;49mg, assumptions_forbidden_vars, simplify, tactics_order\n\u001b[1;32m    681\u001b[0m     )\n\u001b[1;32m    682\u001b[0m     tactics_used\u001b[39m.\u001b[39mappend(used)\n\u001b[1;32m    683\u001b[0m     conflict_variables \u001b[39m=\u001b[39m list_intersection(new_a\u001b[39m.\u001b[39mvars, assumptions_forbidden_vars)\n",
      "File \u001b[0;32m/opt/local/github.pacti-org/cs-space-mission/.venv/lib/python3.11/site-packages/pacti/terms/polyhedra/polyhedra.py:632\u001b[0m, in \u001b[0;36mPolyhedralTermList.elim_vars_by_refining\u001b[0;34m(self, context, vars_to_elim, simplify, tactics_order)\u001b[0m\n\u001b[1;32m    630\u001b[0m     termlist \u001b[39m=\u001b[39m \u001b[39mself\u001b[39m\u001b[39m.\u001b[39mcopy()\n\u001b[1;32m    631\u001b[0m \u001b[39mtry\u001b[39;00m:\n\u001b[0;32m--> 632\u001b[0m     \u001b[39mreturn\u001b[39;00m termlist\u001b[39m.\u001b[39;49m_transform(\n\u001b[1;32m    633\u001b[0m         context\u001b[39m=\u001b[39;49mcontext, vars_to_elim\u001b[39m=\u001b[39;49mvars_to_elim, refine\u001b[39m=\u001b[39;49m\u001b[39mTrue\u001b[39;49;00m, tactics_order\u001b[39m=\u001b[39;49mtactics_order\n\u001b[1;32m    634\u001b[0m     )\n\u001b[1;32m    635\u001b[0m \u001b[39mexcept\u001b[39;00m \u001b[39mValueError\u001b[39;00m \u001b[39mas\u001b[39;00m e:\n\u001b[1;32m    636\u001b[0m     \u001b[39mraise\u001b[39;00m \u001b[39mValueError\u001b[39;00m(\n\u001b[1;32m    637\u001b[0m         \u001b[39m\"\u001b[39m\u001b[39mThe elimination of variables \u001b[39m\u001b[39m\\n\u001b[39;00m\u001b[39m{}\u001b[39;00m\u001b[39m\\n\u001b[39;00m\u001b[39m\"\u001b[39m\u001b[39m.\u001b[39mformat([\u001b[39mstr\u001b[39m(x) \u001b[39mfor\u001b[39;00m x \u001b[39min\u001b[39;00m vars_to_elim])\n\u001b[1;32m    638\u001b[0m         \u001b[39m+\u001b[39m \u001b[39m\"\u001b[39m\u001b[39mby refining terms \u001b[39m\u001b[39m\\n\u001b[39;00m\u001b[39m{}\u001b[39;00m\u001b[39m\\n\u001b[39;00m\u001b[39m\"\u001b[39m\u001b[39m.\u001b[39mformat(\u001b[39mself\u001b[39m)\n\u001b[1;32m    639\u001b[0m         \u001b[39m+\u001b[39m \u001b[39m\"\u001b[39m\u001b[39min context \u001b[39m\u001b[39m\\n\u001b[39;00m\u001b[39m{}\u001b[39;00m\u001b[39m\\n\u001b[39;00m\u001b[39m\"\u001b[39m\u001b[39m.\u001b[39mformat(context)\n\u001b[1;32m    640\u001b[0m         \u001b[39m+\u001b[39m \u001b[39m\"\u001b[39m\u001b[39mwas not possible\u001b[39m\u001b[39m\"\u001b[39m\n\u001b[1;32m    641\u001b[0m     ) \u001b[39mfrom\u001b[39;00m \u001b[39me\u001b[39;00m\n",
      "File \u001b[0;32m/opt/local/github.pacti-org/cs-space-mission/.venv/lib/python3.11/site-packages/pacti/terms/polyhedra/polyhedra.py:825\u001b[0m, in \u001b[0;36mPolyhedralTermList._transform\u001b[0;34m(self, context, vars_to_elim, refine, tactics_order)\u001b[0m\n\u001b[1;32m    823\u001b[0m helpers \u001b[39m=\u001b[39m context \u001b[39m|\u001b[39m copy_new_terms\n\u001b[1;32m    824\u001b[0m \u001b[39mtry\u001b[39;00m:\n\u001b[0;32m--> 825\u001b[0m     (new_term, tactic_num, tactic_time, tactic_count) \u001b[39m=\u001b[39m PolyhedralTermList\u001b[39m.\u001b[39;49m_transform_term(\n\u001b[1;32m    826\u001b[0m         term, helpers, vars_to_elim, refine, tactics_order\n\u001b[1;32m    827\u001b[0m     )\n\u001b[1;32m    828\u001b[0m \u001b[39mexcept\u001b[39;00m \u001b[39mValueError\u001b[39;00m:\n\u001b[1;32m    829\u001b[0m     new_term \u001b[39m=\u001b[39m term\u001b[39m.\u001b[39mcopy()\n",
      "File \u001b[0;32m/opt/local/github.pacti-org/cs-space-mission/.venv/lib/python3.11/site-packages/pacti/terms/polyhedra/polyhedra.py:1431\u001b[0m, in \u001b[0;36mPolyhedralTermList._transform_term\u001b[0;34m(term, context, vars_to_elim, refine, tactics_order)\u001b[0m\n\u001b[1;32m   1429\u001b[0m \u001b[39mtry\u001b[39;00m:\n\u001b[1;32m   1430\u001b[0m     ta \u001b[39m=\u001b[39m time\u001b[39m.\u001b[39mtime()\n\u001b[0;32m-> 1431\u001b[0m     result, count \u001b[39m=\u001b[39m PolyhedralTermList\u001b[39m.\u001b[39;49mTACTICS[tactic_num](term, context, vars_to_elim, refine)\n\u001b[1;32m   1432\u001b[0m     tb \u001b[39m=\u001b[39m time\u001b[39m.\u001b[39mtime()\n\u001b[1;32m   1433\u001b[0m     \u001b[39mif\u001b[39;00m result \u001b[39mis\u001b[39;00m \u001b[39mnot\u001b[39;00m \u001b[39mNone\u001b[39;00m:\n",
      "File \u001b[0;32m/opt/local/github.pacti-org/cs-space-mission/.venv/lib/python3.11/site-packages/pacti/terms/polyhedra/polyhedra.py:1401\u001b[0m, in \u001b[0;36mPolyhedralTermList.<lambda>\u001b[0;34m(term, context, vars_to_elim, refine)\u001b[0m\n\u001b[1;32m   1391\u001b[0m \u001b[39m@staticmethod\u001b[39m\n\u001b[1;32m   1392\u001b[0m \u001b[39mdef\u001b[39;00m \u001b[39m_tactic_trivial\u001b[39m(  \u001b[39m# noqa: WPS231\u001b[39;00m\n\u001b[1;32m   1393\u001b[0m     term: PolyhedralTerm, context: PolyhedralTermList, vars_to_elim: \u001b[39mlist\u001b[39m, refine: \u001b[39mbool\u001b[39m\n\u001b[1;32m   1394\u001b[0m ) \u001b[39m-\u001b[39m\u001b[39m>\u001b[39m Tuple[Optional[PolyhedralTerm], \u001b[39mint\u001b[39m]:\n\u001b[1;32m   1395\u001b[0m     \u001b[39mreturn\u001b[39;00m term\u001b[39m.\u001b[39mcopy(), \u001b[39m1\u001b[39m\n\u001b[1;32m   1397\u001b[0m TACTICS \u001b[39m=\u001b[39m {  \u001b[39m# noqa: WPS115\u001b[39;00m\n\u001b[1;32m   1398\u001b[0m     \u001b[39m1\u001b[39m: _tactic_1\u001b[39m.\u001b[39m\u001b[39m__func__\u001b[39m,  \u001b[39m# type: ignore\u001b[39;00m\n\u001b[1;32m   1399\u001b[0m     \u001b[39m2\u001b[39m: _tactic_2\u001b[39m.\u001b[39m\u001b[39m__func__\u001b[39m,  \u001b[39m# type: ignore\u001b[39;00m\n\u001b[1;32m   1400\u001b[0m     \u001b[39m3\u001b[39m: _tactic_3\u001b[39m.\u001b[39m\u001b[39m__func__\u001b[39m,  \u001b[39m# type: ignore\u001b[39;00m\n\u001b[0;32m-> 1401\u001b[0m     \u001b[39m4\u001b[39m: \u001b[39mlambda\u001b[39;00m term, context, vars_to_elim, refine: PolyhedralTermList\u001b[39m.\u001b[39;49m_tactic_4(\n\u001b[1;32m   1402\u001b[0m         term, context, vars_to_elim, refine, []\n\u001b[1;32m   1403\u001b[0m     ),\n\u001b[1;32m   1404\u001b[0m     \u001b[39m5\u001b[39m: _tactic_trivial\u001b[39m.\u001b[39m\u001b[39m__func__\u001b[39m,  \u001b[39m# type: ignore\u001b[39;00m\n\u001b[1;32m   1405\u001b[0m }\n\u001b[1;32m   1407\u001b[0m \u001b[39m# Return: \u001b[39;00m\n\u001b[1;32m   1408\u001b[0m \u001b[39m# - transformed term\u001b[39;00m\n\u001b[1;32m   1409\u001b[0m \u001b[39m# - successful tactic number, if > 0; 0 if no applicable tactic, -1 if all tactics failed\u001b[39;00m\n\u001b[1;32m   1410\u001b[0m \u001b[39m# - count of tactic invocations if successful\u001b[39;00m\n\u001b[1;32m   1411\u001b[0m \u001b[39m@staticmethod\u001b[39m\n\u001b[1;32m   1412\u001b[0m \u001b[39mdef\u001b[39;00m \u001b[39m_transform_term\u001b[39m(\n\u001b[1;32m   1413\u001b[0m     term: PolyhedralTerm,\n\u001b[0;32m   (...)\u001b[0m\n\u001b[1;32m   1417\u001b[0m     tactics_order: Optional[List[\u001b[39mint\u001b[39m]] \u001b[39m=\u001b[39m \u001b[39mNone\u001b[39;00m,\n\u001b[1;32m   1418\u001b[0m ) \u001b[39m-\u001b[39m\u001b[39m>\u001b[39m Tuple[PolyhedralTerm, \u001b[39mint\u001b[39m, \u001b[39mfloat\u001b[39m, \u001b[39mint\u001b[39m]:\n",
      "File \u001b[0;32m/opt/local/github.pacti-org/cs-space-mission/.venv/lib/python3.11/site-packages/pacti/terms/polyhedra/polyhedra.py:1380\u001b[0m, in \u001b[0;36mPolyhedralTermList._tactic_4\u001b[0;34m(term, context, vars_to_elim, refine, no_vars)\u001b[0m\n\u001b[1;32m   1378\u001b[0m new_no_vars\u001b[39m.\u001b[39mappend(var_to_elim)\n\u001b[1;32m   1379\u001b[0m \u001b[39mtry\u001b[39;00m:\n\u001b[0;32m-> 1380\u001b[0m     return_term, recursive_count \u001b[39m=\u001b[39m PolyhedralTermList\u001b[39m.\u001b[39;49m_tactic_4(new_term, new_context, vars_to_elim, refine, new_no_vars)\n\u001b[1;32m   1381\u001b[0m     total_calls \u001b[39m+\u001b[39m\u001b[39m=\u001b[39m recursive_count\n\u001b[1;32m   1382\u001b[0m     \u001b[39mif\u001b[39;00m return_term \u001b[39mis\u001b[39;00m \u001b[39mNone\u001b[39;00m:\n",
      "File \u001b[0;32m/opt/local/github.pacti-org/cs-space-mission/.venv/lib/python3.11/site-packages/pacti/terms/polyhedra/polyhedra.py:1380\u001b[0m, in \u001b[0;36mPolyhedralTermList._tactic_4\u001b[0;34m(term, context, vars_to_elim, refine, no_vars)\u001b[0m\n\u001b[1;32m   1378\u001b[0m new_no_vars\u001b[39m.\u001b[39mappend(var_to_elim)\n\u001b[1;32m   1379\u001b[0m \u001b[39mtry\u001b[39;00m:\n\u001b[0;32m-> 1380\u001b[0m     return_term, recursive_count \u001b[39m=\u001b[39m PolyhedralTermList\u001b[39m.\u001b[39;49m_tactic_4(new_term, new_context, vars_to_elim, refine, new_no_vars)\n\u001b[1;32m   1381\u001b[0m     total_calls \u001b[39m+\u001b[39m\u001b[39m=\u001b[39m recursive_count\n\u001b[1;32m   1382\u001b[0m     \u001b[39mif\u001b[39;00m return_term \u001b[39mis\u001b[39;00m \u001b[39mNone\u001b[39;00m:\n",
      "    \u001b[0;31m[... skipping similar frames: PolyhedralTermList._tactic_4 at line 1380 (251 times)]\u001b[0m\n",
      "File \u001b[0;32m/opt/local/github.pacti-org/cs-space-mission/.venv/lib/python3.11/site-packages/pacti/terms/polyhedra/polyhedra.py:1380\u001b[0m, in \u001b[0;36mPolyhedralTermList._tactic_4\u001b[0;34m(term, context, vars_to_elim, refine, no_vars)\u001b[0m\n\u001b[1;32m   1378\u001b[0m new_no_vars\u001b[39m.\u001b[39mappend(var_to_elim)\n\u001b[1;32m   1379\u001b[0m \u001b[39mtry\u001b[39;00m:\n\u001b[0;32m-> 1380\u001b[0m     return_term, recursive_count \u001b[39m=\u001b[39m PolyhedralTermList\u001b[39m.\u001b[39;49m_tactic_4(new_term, new_context, vars_to_elim, refine, new_no_vars)\n\u001b[1;32m   1381\u001b[0m     total_calls \u001b[39m+\u001b[39m\u001b[39m=\u001b[39m recursive_count\n\u001b[1;32m   1382\u001b[0m     \u001b[39mif\u001b[39;00m return_term \u001b[39mis\u001b[39;00m \u001b[39mNone\u001b[39;00m:\n",
      "File \u001b[0;32m/opt/local/github.pacti-org/cs-space-mission/.venv/lib/python3.11/site-packages/pacti/terms/polyhedra/polyhedra.py:1337\u001b[0m, in \u001b[0;36mPolyhedralTermList._tactic_4\u001b[0;34m(term, context, vars_to_elim, refine, no_vars)\u001b[0m\n\u001b[1;32m   1332\u001b[0m \u001b[39m@staticmethod\u001b[39m\n\u001b[1;32m   1333\u001b[0m \u001b[39mdef\u001b[39;00m \u001b[39m_tactic_4\u001b[39m(  \u001b[39m# noqa: WPS231\u001b[39;00m\n\u001b[1;32m   1334\u001b[0m     term: PolyhedralTerm, context: PolyhedralTermList, vars_to_elim: \u001b[39mlist\u001b[39m, refine: \u001b[39mbool\u001b[39m, no_vars: List[Var]\n\u001b[1;32m   1335\u001b[0m ) \u001b[39m-\u001b[39m\u001b[39m>\u001b[39m Tuple[Optional[PolyhedralTerm], \u001b[39mint\u001b[39m]:\n\u001b[1;32m   1336\u001b[0m     logging\u001b[39m.\u001b[39mdebug(\u001b[39m\"\u001b[39m\u001b[39m************ Tactic 4\u001b[39m\u001b[39m\"\u001b[39m)\n\u001b[0;32m-> 1337\u001b[0m     logging\u001b[39m.\u001b[39mdebug(\u001b[39m\"\u001b[39m\u001b[39mVars_to_elim \u001b[39m\u001b[39m%s\u001b[39;00m\u001b[39m \u001b[39m\u001b[39m\\n\u001b[39;00m\u001b[39mTerm \u001b[39m\u001b[39m%s\u001b[39;00m\u001b[39m \u001b[39m\u001b[39m\\n\u001b[39;00m\u001b[39mContext \u001b[39m\u001b[39m%s\u001b[39;00m\u001b[39m \u001b[39m\u001b[39m\"\u001b[39m \u001b[39m%\u001b[39m (vars_to_elim, term, context))\n\u001b[1;32m   1338\u001b[0m     \u001b[39mif\u001b[39;00m \u001b[39mnot\u001b[39;00m refine:\n\u001b[1;32m   1339\u001b[0m         \u001b[39mraise\u001b[39;00m \u001b[39mValueError\u001b[39;00m(\u001b[39m\"\u001b[39m\u001b[39mOnly refinement is supported\u001b[39m\u001b[39m\"\u001b[39m)\n",
      "File \u001b[0;32m/opt/local/github.pacti-org/cs-space-mission/.venv/lib/python3.11/site-packages/pacti/terms/polyhedra/polyhedra.py:507\u001b[0m, in \u001b[0;36mPolyhedralTermList.__str__\u001b[0;34m(self)\u001b[0m\n\u001b[1;32m    505\u001b[0m \u001b[39mdef\u001b[39;00m \u001b[39m__str__\u001b[39m(\u001b[39mself\u001b[39m) \u001b[39m-\u001b[39m\u001b[39m>\u001b[39m \u001b[39mstr\u001b[39m:\n\u001b[1;32m    506\u001b[0m     res \u001b[39m=\u001b[39m \u001b[39m\"\u001b[39m\u001b[39m[\u001b[39m\u001b[39m\\n\u001b[39;00m\u001b[39m  \u001b[39m\u001b[39m\"\u001b[39m\n\u001b[0;32m--> 507\u001b[0m     res \u001b[39m+\u001b[39m\u001b[39m=\u001b[39m \u001b[39m\"\u001b[39m\u001b[39m\\n\u001b[39;00m\u001b[39m  \u001b[39m\u001b[39m\"\u001b[39m\u001b[39m.\u001b[39mjoin(\u001b[39mself\u001b[39;49m\u001b[39m.\u001b[39;49mto_str_list())\n\u001b[1;32m    508\u001b[0m     res \u001b[39m+\u001b[39m\u001b[39m=\u001b[39m \u001b[39m\"\u001b[39m\u001b[39m\\n\u001b[39;00m\u001b[39m]\u001b[39m\u001b[39m\"\u001b[39m\n\u001b[1;32m    509\u001b[0m     \u001b[39mreturn\u001b[39;00m res\n",
      "File \u001b[0;32m/opt/local/github.pacti-org/cs-space-mission/.venv/lib/python3.11/site-packages/pacti/terms/polyhedra/polyhedra.py:524\u001b[0m, in \u001b[0;36mPolyhedralTermList.to_str_list\u001b[0;34m(self)\u001b[0m\n\u001b[1;32m    522\u001b[0m ts \u001b[39m=\u001b[39m \u001b[39mself\u001b[39m\u001b[39m.\u001b[39mterms\u001b[39m.\u001b[39mcopy()\n\u001b[1;32m    523\u001b[0m \u001b[39mwhile\u001b[39;00m ts:\n\u001b[0;32m--> 524\u001b[0m     s, rest \u001b[39m=\u001b[39m serializer\u001b[39m.\u001b[39;49mpolyhedral_term_list_to_strings(ts)\n\u001b[1;32m    525\u001b[0m     str_list\u001b[39m.\u001b[39mappend(s)\n\u001b[1;32m    526\u001b[0m     ts \u001b[39m=\u001b[39m rest\n",
      "File \u001b[0;32m/opt/local/github.pacti-org/cs-space-mission/.venv/lib/python3.11/site-packages/pacti/terms/polyhedra/serializer.py:165\u001b[0m, in \u001b[0;36mpolyhedral_term_list_to_strings\u001b[0;34m(terms)\u001b[0m\n\u001b[1;32m    163\u001b[0m ts \u001b[39m=\u001b[39m terms[\u001b[39m1\u001b[39m:]\n\u001b[1;32m    164\u001b[0m \u001b[39mfor\u001b[39;00m tn \u001b[39min\u001b[39;00m ts:\n\u001b[0;32m--> 165\u001b[0m     \u001b[39mif\u001b[39;00m _are_polyhedral_terms_opposite(tp, tn):\n\u001b[1;32m    166\u001b[0m         \u001b[39m# tp has the form: LHS\u001b[39;00m\n\u001b[1;32m    167\u001b[0m         \u001b[39m# tn has the form: -(LHS)\u001b[39;00m\n\u001b[1;32m    168\u001b[0m         \u001b[39mif\u001b[39;00m _are_numbers_approximatively_equal(tp\u001b[39m.\u001b[39mconstant, \u001b[39m-\u001b[39mtn\u001b[39m.\u001b[39mconstant):\n\u001b[1;32m    169\u001b[0m             \u001b[39m# inverse of rule 4\u001b[39;00m\n\u001b[1;32m    170\u001b[0m             \u001b[39m# rewrite as 2 terms given input match: LHS = RHS\u001b[39;00m\n\u001b[1;32m    171\u001b[0m             \u001b[39m# pos: LHS <= RHS\u001b[39;00m\n\u001b[1;32m    172\u001b[0m             \u001b[39m# neg: -(LHS) <= -(RHS)\u001b[39;00m\n\u001b[1;32m    173\u001b[0m             s \u001b[39m=\u001b[39m _lhs_str(tp) \u001b[39m+\u001b[39m \u001b[39m\"\u001b[39m\u001b[39m = \u001b[39m\u001b[39m\"\u001b[39m \u001b[39m+\u001b[39m _number_to_string(tp\u001b[39m.\u001b[39mconstant)\n",
      "File \u001b[0;32m/opt/local/github.pacti-org/cs-space-mission/.venv/lib/python3.11/site-packages/pacti/terms/polyhedra/serializer.py:135\u001b[0m, in \u001b[0;36m_are_polyhedral_terms_opposite\u001b[0;34m(self, other)\u001b[0m\n\u001b[1;32m    133\u001b[0m \u001b[39mdef\u001b[39;00m \u001b[39m_are_polyhedral_terms_opposite\u001b[39m(\u001b[39mself\u001b[39m: PolyhedralTerm, other: PolyhedralTerm) \u001b[39m-\u001b[39m\u001b[39m>\u001b[39m \u001b[39mbool\u001b[39m:\n\u001b[1;32m    134\u001b[0m     \u001b[39mfor\u001b[39;00m var \u001b[39min\u001b[39;00m other\u001b[39m.\u001b[39mvariables\u001b[39m.\u001b[39mkeys():\n\u001b[0;32m--> 135\u001b[0m         \u001b[39mif\u001b[39;00m \u001b[39mnot\u001b[39;00m \u001b[39mself\u001b[39;49m\u001b[39m.\u001b[39;49mcontains_var(var):\n\u001b[1;32m    136\u001b[0m             \u001b[39mreturn\u001b[39;00m \u001b[39mFalse\u001b[39;00m\n\u001b[1;32m    138\u001b[0m     \u001b[39mfor\u001b[39;00m var, value \u001b[39min\u001b[39;00m \u001b[39mself\u001b[39m\u001b[39m.\u001b[39mvariables\u001b[39m.\u001b[39mitems():\n",
      "File \u001b[0;32m/opt/local/github.pacti-org/cs-space-mission/.venv/lib/python3.11/site-packages/pacti/terms/polyhedra/polyhedra.py:155\u001b[0m, in \u001b[0;36mPolyhedralTerm.contains_var\u001b[0;34m(self, var_to_seek)\u001b[0m\n\u001b[1;32m    144\u001b[0m \u001b[39mdef\u001b[39;00m \u001b[39mcontains_var\u001b[39m(\u001b[39mself\u001b[39m, var_to_seek: Var) \u001b[39m-\u001b[39m\u001b[39m>\u001b[39m \u001b[39mbool\u001b[39m:\n\u001b[1;32m    145\u001b[0m \u001b[39m    \u001b[39m\u001b[39m\"\"\"\u001b[39;00m\n\u001b[1;32m    146\u001b[0m \u001b[39m    Tell whether term contains a given variable.\u001b[39;00m\n\u001b[1;32m    147\u001b[0m \n\u001b[0;32m   (...)\u001b[0m\n\u001b[1;32m    153\u001b[0m \u001b[39m        `False` otherwise.\u001b[39;00m\n\u001b[1;32m    154\u001b[0m \u001b[39m    \"\"\"\u001b[39;00m\n\u001b[0;32m--> 155\u001b[0m     \u001b[39mreturn\u001b[39;00m var_to_seek \u001b[39min\u001b[39;49;00m \u001b[39mself\u001b[39;49m\u001b[39m.\u001b[39;49mvars\n",
      "File \u001b[0;32m/opt/local/github.pacti-org/cs-space-mission/.venv/lib/python3.11/site-packages/pacti/iocontract/iocontract.py:62\u001b[0m, in \u001b[0;36mVar.__eq__\u001b[0;34m(self, other)\u001b[0m\n\u001b[1;32m     60\u001b[0m \u001b[39mif\u001b[39;00m \u001b[39mnot\u001b[39;00m \u001b[39misinstance\u001b[39m(other, \u001b[39mtype\u001b[39m(\u001b[39mself\u001b[39m)):\n\u001b[1;32m     61\u001b[0m     \u001b[39mraise\u001b[39;00m \u001b[39mValueError\u001b[39;00m()\n\u001b[0;32m---> 62\u001b[0m \u001b[39mreturn\u001b[39;00m \u001b[39mself\u001b[39;49m\u001b[39m.\u001b[39;49mname \u001b[39m==\u001b[39m other\u001b[39m.\u001b[39mname\n",
      "File \u001b[0;32m/opt/local/github.pacti-org/cs-space-mission/.venv/lib/python3.11/site-packages/pacti/iocontract/iocontract.py:50\u001b[0m, in \u001b[0;36mVar.name\u001b[0;34m(self)\u001b[0m\n\u001b[1;32m     42\u001b[0m \u001b[39m    \u001b[39m\u001b[39m\"\"\"\u001b[39;00m\n\u001b[1;32m     43\u001b[0m \u001b[39m    Constructor for Var.\u001b[39;00m\n\u001b[1;32m     44\u001b[0m \n\u001b[1;32m     45\u001b[0m \u001b[39m    Args:\u001b[39;00m\n\u001b[1;32m     46\u001b[0m \u001b[39m        varname: The name of the variable.\u001b[39;00m\n\u001b[1;32m     47\u001b[0m \u001b[39m    \"\"\"\u001b[39;00m\n\u001b[1;32m     48\u001b[0m     \u001b[39mself\u001b[39m\u001b[39m.\u001b[39m_name \u001b[39m=\u001b[39m \u001b[39mstr\u001b[39m(varname)\n\u001b[0;32m---> 50\u001b[0m \u001b[39m@property\u001b[39m\n\u001b[1;32m     51\u001b[0m \u001b[39mdef\u001b[39;00m \u001b[39mname\u001b[39m(\u001b[39mself\u001b[39m) \u001b[39m-\u001b[39m\u001b[39m>\u001b[39m \u001b[39mstr\u001b[39m:\n\u001b[1;32m     52\u001b[0m \u001b[39m    \u001b[39m\u001b[39m\"\"\"The name of the variable.\u001b[39;00m\n\u001b[1;32m     53\u001b[0m \n\u001b[1;32m     54\u001b[0m \u001b[39m    Returns:\u001b[39;00m\n\u001b[1;32m     55\u001b[0m \u001b[39m        The name of the variable.\u001b[39;00m\n\u001b[1;32m     56\u001b[0m \u001b[39m    \"\"\"\u001b[39;00m\n\u001b[1;32m     57\u001b[0m     \u001b[39mreturn\u001b[39;00m \u001b[39mself\u001b[39m\u001b[39m.\u001b[39m_name\n",
      "\u001b[0;31mKeyboardInterrupt\u001b[0m: "
     ]
    }
   ],
   "source": [
    "ns = NAVScenarioGeometric(iterations=iterations, mu=mu, gain=gain, max_dv=max_dv, me=me, variables=variables)"
   ]
  },
  {
   "cell_type": "code",
   "execution_count": null,
   "metadata": {},
   "outputs": [
    {
     "name": "stdout",
     "output_type": "stream",
     "text": [
      "0: shift: 0.030 compose: 0.548 each input: 41 vars, 72 constraints; result: 79 vars, 141 constraints; density=0.02774; size distribution: [(3, 48), (2, 72), (1, 21)]\n",
      "1: shift: 0.195 compose: 1.788 each input: 79 vars, 141 constraints; result: 155 vars, 277 constraints; density=0.01428; size distribution: [(3, 96), (2, 144), (1, 37)]\n",
      "2: shift: 1.452 compose: 8.348 each input: 155 vars, 277 constraints; result: 307 vars, 549 constraints; density=0.007244; size distribution: [(3, 192), (2, 288), (1, 69)]\n",
      "3: shift: 10.108 compose: 54.194 each input: 307 vars, 549 constraints; result: 611 vars, 1093 constraints; density=0.003649; size distribution: [(3, 384), (2, 576), (1, 133)]\n"
     ]
    }
   ],
   "source": [
    "tactics_order=[4]\n",
    "ns2 = NAVScenarioGeometric(iterations=iterations, mu=mu, gain=gain, max_dv=max_dv, me=me, variables=variables, tactics_order=tactics_order)"
   ]
  },
  {
   "cell_type": "code",
   "execution_count": null,
   "metadata": {},
   "outputs": [],
   "source": []
  },
  {
   "cell_type": "code",
   "execution_count": null,
   "metadata": {},
   "outputs": [],
   "source": [
    "indices, contracts, shift_times, compose_times, tactics = zip(*ns.contracts)"
   ]
  },
  {
   "cell_type": "code",
   "execution_count": null,
   "metadata": {},
   "outputs": [],
   "source": [
    "current, tactics = scenario_sequence(c1=ns.l1.steps1234, c2=ns.l2.steps1234, variables=variables, c1index=4)"
   ]
  },
  {
   "cell_type": "code",
   "execution_count": null,
   "metadata": {},
   "outputs": [
    {
     "data": {
      "text/plain": [
       "[[(4, 0.011054277420043945, 4), (4, 0.012010335922241211, 4)], [], [], []]"
      ]
     },
     "execution_count": 7,
     "metadata": {},
     "output_type": "execute_result"
    }
   ],
   "source": [
    "tactics"
   ]
  },
  {
   "cell_type": "code",
   "execution_count": null,
   "metadata": {},
   "outputs": [],
   "source": [
    "x=0.00000012345"
   ]
  },
  {
   "cell_type": "code",
   "execution_count": null,
   "metadata": {},
   "outputs": [],
   "source": [
    "x=1.2345"
   ]
  },
  {
   "cell_type": "code",
   "execution_count": null,
   "metadata": {},
   "outputs": [],
   "source": [
    "x=123450000"
   ]
  },
  {
   "cell_type": "code",
   "execution_count": null,
   "metadata": {},
   "outputs": [
    {
     "name": "stdout",
     "output_type": "stream",
     "text": [
      "x=1.234e+08\n"
     ]
    }
   ],
   "source": [
    "print(f\"{x=:.4g}\")"
   ]
  }
 ],
 "metadata": {
  "kernelspec": {
   "display_name": ".venv",
   "language": "python",
   "name": "python3"
  },
  "language_info": {
   "codemirror_mode": {
    "name": "ipython",
    "version": 3
   },
   "file_extension": ".py",
   "mimetype": "text/x-python",
   "name": "python",
   "nbconvert_exporter": "python",
   "pygments_lexer": "ipython3",
   "version": "3.11.2"
  },
  "orig_nbformat": 4
 },
 "nbformat": 4,
 "nbformat_minor": 2
}
