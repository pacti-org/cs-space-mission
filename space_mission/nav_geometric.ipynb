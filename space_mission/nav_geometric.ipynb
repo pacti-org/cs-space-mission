{
 "cells": [
  {
   "cell_type": "code",
   "execution_count": 1,
   "metadata": {},
   "outputs": [],
   "source": [
    "%matplotlib widget\n",
    "from nav_projection import *\n",
    "from utils import *\n",
    "from pacti_instrumentation.cpu_usage_plot import cpu_usage_plot"
   ]
  },
  {
   "cell_type": "code",
   "execution_count": 2,
   "metadata": {},
   "outputs": [],
   "source": [
    "mu=0.005 \n",
    "gain=(0.2, 0.3)\n",
    "max_dv=10\n",
    "me=(0.9, 1.1)\n",
    "variables=[\"t\", \"trtd\", \"ttid\"]\n",
    "iterations=4"
   ]
  },
  {
   "cell_type": "code",
   "execution_count": 5,
   "metadata": {},
   "outputs": [
    {
     "name": "stdout",
     "output_type": "stream",
     "text": [
      "0: shift: 0.004 compose: 0.252 each input: 41 vars, 72 constraints; result: 79 vars, 141 constraints; density=0.02774; size distribution: [(3, 48), (2, 72), (1, 21)]\n",
      "[[(5, 0.01767420768737793, 1), (5, 0.015880346298217773, 1)], [], [], []]\n",
      "1: shift: 0.013 compose: 0.673 each input: 79 vars, 141 constraints; result: 155 vars, 277 constraints; density=0.01428; size distribution: [(3, 96), (2, 144), (1, 37)]\n",
      "[[(5, 0.03273963928222656, 1), (5, 0.0325620174407959, 1)], [], [], []]\n",
      "2: shift: 0.048 compose: 2.464 each input: 155 vars, 277 constraints; result: 307 vars, 549 constraints; density=0.007244; size distribution: [(3, 192), (2, 288), (1, 69)]\n",
      "[[(5, 0.07976937294006348, 1), (5, 0.0787203311920166, 1)], [], [], []]\n",
      "3: shift: 0.185 compose: 12.499 each input: 307 vars, 549 constraints; result: 611 vars, 1093 constraints; density=0.003649; size distribution: [(3, 384), (2, 576), (1, 133)]\n",
      "[[(5, 0.24679255485534668, 1), (5, 0.2430415153503418, 1)], [], [], []]\n"
     ]
    }
   ],
   "source": [
    "tactics_order=[1,2,3,5,4]\n",
    "ns2 = NAVScenarioGeometric(iterations=iterations, mu=mu, gain=gain, max_dv=max_dv, me=me, variables=variables, tactics_order=tactics_order)"
   ]
  },
  {
   "cell_type": "code",
   "execution_count": null,
   "metadata": {},
   "outputs": [],
   "source": []
  }
 ],
 "metadata": {
  "kernelspec": {
   "display_name": ".venv",
   "language": "python",
   "name": "python3"
  },
  "language_info": {
   "codemirror_mode": {
    "name": "ipython",
    "version": 3
   },
   "file_extension": ".py",
   "mimetype": "text/x-python",
   "name": "python",
   "nbconvert_exporter": "python",
   "pygments_lexer": "ipython3",
   "version": "3.11.2"
  },
  "orig_nbformat": 4
 },
 "nbformat": 4,
 "nbformat_minor": 2
}
