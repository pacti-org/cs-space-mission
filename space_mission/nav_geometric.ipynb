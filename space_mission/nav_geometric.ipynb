{
 "cells": [
  {
   "cell_type": "code",
   "execution_count": 1,
   "metadata": {},
   "outputs": [],
   "source": [
    "%matplotlib widget\n",
    "from nav_projection import *\n",
    "from utils import *\n",
    "from pacti_instrumentation.cpu_usage_plot import cpu_usage_plot"
   ]
  },
  {
   "cell_type": "code",
   "execution_count": 2,
   "metadata": {},
   "outputs": [],
   "source": [
    "mu=0.005 \n",
    "gain=(0.2, 0.3)\n",
    "max_dv=10\n",
    "me=(0.9, 1.1)\n",
    "variables=[\"t\", \"trtd\", \"ttid\"]\n",
    "iterations=7"
   ]
  },
  {
   "cell_type": "code",
   "execution_count": 3,
   "metadata": {},
   "outputs": [
    {
     "name": "stdout",
     "output_type": "stream",
     "text": [
      "0: shift: 0.004 compose: 0.402 each input: 41 vars, 72 constraints; result: 79 vars, 141 constraints; density=0.02774; size distribution: [(3, 48), (2, 72), (1, 21)]\n",
      "[[(5, 2.1457672119140625e-06, 1), (5, 2.1457672119140625e-06, 1)], [], [], []]\n",
      "1: shift: 0.013 compose: 1.175 each input: 79 vars, 141 constraints; result: 155 vars, 277 constraints; density=0.01428; size distribution: [(3, 96), (2, 144), (1, 37)]\n",
      "[[(5, 3.0994415283203125e-06, 1), (5, 2.1457672119140625e-06, 1)], [], [], []]\n",
      "2: shift: 0.047 compose: 5.074 each input: 155 vars, 277 constraints; result: 307 vars, 549 constraints; density=0.007244; size distribution: [(3, 192), (2, 288), (1, 69)]\n",
      "[[(5, 3.5762786865234375e-06, 1), (5, 3.0994415283203125e-06, 1)], [], [], []]\n",
      "3: shift: 0.184 compose: 27.666 each input: 307 vars, 549 constraints; result: 611 vars, 1093 constraints; density=0.003649; size distribution: [(3, 384), (2, 576), (1, 133)]\n",
      "[[(5, 4.5299530029296875e-06, 1), (5, 2.384185791015625e-06, 1)], [], [], []]\n",
      "4: shift: 0.719 compose: 158.217 each input: 611 vars, 1093 constraints; result: 1219 vars, 2181 constraints; density=0.001831; size distribution: [(3, 768), (2, 1152), (1, 261)]\n",
      "[[(5, 4.76837158203125e-06, 1), (5, 4.5299530029296875e-06, 1)], [], [], []]\n"
     ]
    }
   ],
   "source": [
    "tactics_order=[5,4,1,2,3]\n",
    "ns2 = NAVScenarioGeometric(iterations=iterations, mu=mu, gain=gain, max_dv=max_dv, me=me, variables=variables, tactics_order=tactics_order)"
   ]
  }
 ],
 "metadata": {
  "kernelspec": {
   "display_name": ".venv",
   "language": "python",
   "name": "python3"
  },
  "language_info": {
   "codemirror_mode": {
    "name": "ipython",
    "version": 3
   },
   "file_extension": ".py",
   "mimetype": "text/x-python",
   "name": "python",
   "nbconvert_exporter": "python",
   "pygments_lexer": "ipython3",
   "version": "3.11.2"
  },
  "orig_nbformat": 4
 },
 "nbformat": 4,
 "nbformat_minor": 2
}
