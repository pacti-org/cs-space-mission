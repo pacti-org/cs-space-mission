{
 "cells": [
  {
   "cell_type": "code",
   "execution_count": 1,
   "metadata": {},
   "outputs": [
    {
     "name": "stdout",
     "output_type": "stream",
     "text": [
      "Inputs : [duration1,duration2,duration3,duration4,t1_entry,trtd1_entry,ttid1_entry]\n",
      "Outputs: [output_dv3,output_error1,output_ertd2,output_t1,output_t2,output_t3,output_trtd1,output_trtd2,output_trtd3,output_ttid1,output_ttid2,output_ttid3,t4_exit,trtd4_exit,ttid4_exit]\n",
      "A: [\n",
      "  -duration1 <= -0\n",
      "  -duration2 <= 0\n",
      "  -duration3 <= 0\n",
      "  -duration4 <= 0\n",
      "  -t1_entry <= -0\n",
      "  -ttid1_entry <= -0\n",
      "]\n",
      "G: [\n",
      "  -duration1 + output_t1 - t1_entry = 0\n",
      "  -duration2 - output_t1 + output_t2 = 0\n",
      "  -duration3 - output_t2 + output_t3 = 0\n",
      "  -duration4 - output_t3 + t4_exit = 0\n",
      "  output_dv3 <= 5\n",
      "  -output_dv3 + 0.2 output_ertd2 <= 0\n",
      "  output_dv3 - 0.3 output_ertd2 <= 0\n",
      "  0.9 output_dv3 - output_trtd3 + trtd4_exit <= 0\n",
      "  -1.1 output_dv3 + output_trtd3 - trtd4_exit <= 0\n",
      "  -output_error1 + output_ertd2 - output_trtd1 = 0\n",
      "  output_error1 - 0.005 trtd1_entry <= 0\n",
      "  -output_error1 - 0.005 trtd1_entry <= 0\n",
      "  -output_trtd1 + output_trtd2 = 0\n",
      "  output_trtd1 - trtd1_entry = 0\n",
      "  -output_trtd2 + output_trtd3 = 0\n",
      "  -output_ttid1 + output_ttid2 = 0\n",
      "  output_ttid1 - ttid1_entry = 0\n",
      "  -output_ttid2 + output_ttid3 = 0\n",
      "  -output_ttid3 + ttid4_exit = 0\n",
      "]\n",
      "\n"
     ]
    }
   ],
   "source": [
    "%matplotlib widget\n",
    "from nav_projection import *\n",
    "from utils import *\n",
    "\n",
    "scenario = NAVScenarioGeometricGenerator(load_from_file=\"nav_geometric_state.pkl\")\n",
    "print(show_contract(scenario.l1.steps1234))"
   ]
  },
  {
   "cell_type": "code",
   "execution_count": 11,
   "metadata": {},
   "outputs": [
    {
     "name": "stdout",
     "output_type": "stream",
     "text": [
      "Inputs : [dt1,dt2,dt3,dt4,t_in,trtd_in,ttid_in]\n",
      "Outputs: [dv3_res,err1_res,ertd2_res,t1,t2,t3,t_out,trtd1_res,trtd2_res,trtd3_res,trtd_out,ttid1_res,ttid2_res,ttid3_res,ttid_out]\n",
      "A: [\n",
      "  -dt1 <= -0\n",
      "  -dt2 <= 0\n",
      "  -dt3 <= 0\n",
      "  -dt4 <= 0\n",
      "  -t_in <= -0\n",
      "  -ttid_in <= -0\n",
      "]\n",
      "G: [\n",
      "  -dt1 + t1 - t_in = 0\n",
      "  -dt2 - t1 + t2 = 0\n",
      "  -dt3 - t2 + t3 = 0\n",
      "  -dt4 - t3 + t_out = 0\n",
      "  dv3_res <= 5\n",
      "  -dv3_res + 0.2 ertd2_res <= 0\n",
      "  dv3_res - 0.3 ertd2_res <= 0\n",
      "  0.9 dv3_res - trtd3_res + trtd_out <= 0\n",
      "  -1.1 dv3_res + trtd3_res - trtd_out <= 0\n",
      "  -err1_res + ertd2_res - trtd1_res = 0\n",
      "  err1_res - 0.005 trtd_in <= 0\n",
      "  -err1_res - 0.005 trtd_in <= 0\n",
      "  -trtd1_res + trtd2_res = 0\n",
      "  trtd1_res - trtd_in = 0\n",
      "  -trtd2_res + trtd3_res = 0\n",
      "  -ttid1_res + ttid2_res = 0\n",
      "  ttid1_res - ttid_in = 0\n",
      "  -ttid2_res + ttid3_res = 0\n",
      "  -ttid3_res + ttid_out = 0\n",
      "]\n",
      "\n"
     ]
    }
   ],
   "source": [
    "c = scenario.l1.steps1234.rename_variables([\n",
    "    (\"duration1\", \"dt1\"),(\"duration2\", \"dt2\"),(\"duration3\", \"dt3\"),(\"duration4\", \"dt4\"),\n",
    "    \n",
    "    (\"trtd1_entry\", \"trtd_in\"), (\"ttid1_entry\", \"ttid_in\"), (\"t1_entry\", \"t_in\"), \n",
    "    \n",
    "    (\"output_t1\", \"t1\"),\n",
    "    (\"output_t2\", \"t2\"),\n",
    "    (\"output_t3\", \"t3\"),\n",
    "    \n",
    "    (\"output_trtd1\", \"trtd1_res\"),\n",
    "    (\"output_trtd2\", \"trtd2_res\"),\n",
    "    (\"output_trtd3\", \"trtd3_res\"),\n",
    "    (\"output_ttid1\", \"ttid1_res\"),\n",
    "    (\"output_ttid2\", \"ttid2_res\"),\n",
    "    (\"output_ttid3\", \"ttid3_res\"),\n",
    "    (\"output_error1\", \"err1_res\"),\n",
    "    (\"output_ertd2\", \"ertd2_res\"),\n",
    "    (\"output_dv3\", \"dv3_res\"), \n",
    "    \n",
    "    (\"t4_exit\", \"t_out\"), \n",
    "    (\"trtd4_exit\", \"trtd_out\"), \n",
    "    (\"ttid4_exit\", \"ttid_out\"), \n",
    "])\n",
    "print(show_contract(c))"
   ]
  },
  {
   "cell_type": "markdown",
   "metadata": {},
   "source": [
    "Inputs : [dt1,dt2,dt3,dt4,t_in,trtd_in,ttid_in]\n",
    "Outputs: [dv3_res,err1_res,ertd2_res,t1,t2,t3,t_out,trtd1_res,trtd2_res,trtd3_res,trtd_out,ttid1_res,ttid2_res,ttid3_res,ttid_out]\n",
    "A: [\n",
    "  dt1 >= 0 \n",
    "  dt2 >= 0 \n",
    "  dt3 >= 0 \n",
    "  dt4 >= 0\n",
    "  t_in >= 0\n",
    "  ttid_in >= 0\n",
    "]\n",
    "G: [\n",
    "  t1 = t_in + dt1\n",
    "  t2 = t1 + dt2\n",
    "  t3 = t2 + dt3\n",
    "  t_out = t3 + dt4\n",
    "\n",
    "  ttid1_res = ttid_in\n",
    "  ttid2_res = ttid1_res\n",
    "  ttid3_res = ttid2_res \n",
    "  ttid_out = ttid3_res\n",
    "\n",
    "  trtd1_res = trtd_in\n",
    "  trtd2_res = trtd1_res\n",
    "  trtd3_res = trtd2_res \n",
    "  0.9 dv3_res <= trtd3_res - trtd_out <= 1.1 dv3_res\n",
    "\n",
    "  | err1_res | <= 0.005 trtd_in \n",
    "  ertd2_res = trtd1_res + err1_res\n",
    "\n",
    "  dv3_res <= 5\n",
    "  0.2 ertd2_res <= dv3_res <= 0.3 ertd2_res \n",
    "]"
   ]
  }
 ],
 "metadata": {
  "kernelspec": {
   "display_name": ".venv",
   "language": "python",
   "name": "python3"
  },
  "language_info": {
   "codemirror_mode": {
    "name": "ipython",
    "version": 3
   },
   "file_extension": ".py",
   "mimetype": "text/x-python",
   "name": "python",
   "nbconvert_exporter": "python",
   "pygments_lexer": "ipython3",
   "version": "3.11.2"
  },
  "orig_nbformat": 4
 },
 "nbformat": 4,
 "nbformat_minor": 2
}
