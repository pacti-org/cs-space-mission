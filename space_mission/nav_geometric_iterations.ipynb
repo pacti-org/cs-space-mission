{
 "cells": [
  {
   "cell_type": "code",
   "execution_count": 8,
   "metadata": {},
   "outputs": [],
   "source": [
    "%matplotlib widget\n",
    "from nav_projection import *\n",
    "from utils import *"
   ]
  },
  {
   "cell_type": "code",
   "execution_count": 9,
   "metadata": {},
   "outputs": [],
   "source": [
    "mu=0.005 \n",
    "gain=(0.2, 0.3)\n",
    "max_dv=10\n",
    "me=(0.9, 1.1)\n",
    "variables=[\"t\", \"trtd\", \"ttid\"]\n",
    "tactics_order=[5,4]"
   ]
  },
  {
   "cell_type": "code",
   "execution_count": 10,
   "metadata": {},
   "outputs": [],
   "source": [
    "scenario = NAVScenarioGeometricGenerator(mu=mu, gain=gain, max_dv=5.0, me=me, variables=variables, tactics_order=tactics_order)"
   ]
  },
  {
   "cell_type": "code",
   "execution_count": 11,
   "metadata": {},
   "outputs": [
    {
     "name": "stdout",
     "output_type": "stream",
     "text": [
      "1: shift: 0.004 compose: 0.496 each input: 41 vars, 72 constraints; result: 79 vars, 141 constraints; density=0.02774; size distribution: [(3, 48), (2, 72), (1, 21)]\n"
     ]
    },
    {
     "data": {
      "text/plain": [
       "[[(5, 2.86102294921875e-06, 1), (5, 9.5367431640625e-07, 1)], [], [], []]"
      ]
     },
     "execution_count": 11,
     "metadata": {},
     "output_type": "execute_result"
    }
   ],
   "source": [
    "scenario.run_iteration()\n",
    "scenario.save_state(\"nav_geometric_state.pkl\")\n",
    "scenario.contracts[-1][4]"
   ]
  },
  {
   "cell_type": "code",
   "execution_count": 12,
   "metadata": {},
   "outputs": [
    {
     "name": "stdout",
     "output_type": "stream",
     "text": [
      "2: shift: 0.016 compose: 1.223 each input: 79 vars, 141 constraints; result: 155 vars, 277 constraints; density=0.01428; size distribution: [(3, 96), (2, 144), (1, 37)]\n"
     ]
    },
    {
     "data": {
      "text/plain": [
       "[[(5, 2.86102294921875e-06, 1), (5, 1.1920928955078125e-06, 1)], [], [], []]"
      ]
     },
     "execution_count": 12,
     "metadata": {},
     "output_type": "execute_result"
    }
   ],
   "source": [
    "scenario.run_iteration()\n",
    "scenario.save_state(\"nav_geometric_state.pkl\")\n",
    "scenario.contracts[-1][4]"
   ]
  },
  {
   "cell_type": "code",
   "execution_count": 13,
   "metadata": {},
   "outputs": [
    {
     "name": "stdout",
     "output_type": "stream",
     "text": [
      "3: shift: 0.058 compose: 5.006 each input: 155 vars, 277 constraints; result: 307 vars, 549 constraints; density=0.007244; size distribution: [(3, 192), (2, 288), (1, 69)]\n"
     ]
    },
    {
     "data": {
      "text/plain": [
       "[[(5, 3.337860107421875e-06, 1), (5, 2.86102294921875e-06, 1)], [], [], []]"
      ]
     },
     "execution_count": 13,
     "metadata": {},
     "output_type": "execute_result"
    }
   ],
   "source": [
    "scenario.run_iteration()\n",
    "scenario.save_state(\"nav_geometric_state.pkl\")\n",
    "scenario.contracts[-1][4]"
   ]
  },
  {
   "cell_type": "code",
   "execution_count": 14,
   "metadata": {},
   "outputs": [
    {
     "name": "stdout",
     "output_type": "stream",
     "text": [
      "4: shift: 0.219 compose: 27.556 each input: 307 vars, 549 constraints; result: 611 vars, 1093 constraints; density=0.003649; size distribution: [(3, 384), (2, 576), (1, 133)]\n"
     ]
    },
    {
     "data": {
      "text/plain": [
       "[[(5, 3.0994415283203125e-06, 1), (5, 2.1457672119140625e-06, 1)], [], [], []]"
      ]
     },
     "execution_count": 14,
     "metadata": {},
     "output_type": "execute_result"
    }
   ],
   "source": [
    "scenario.run_iteration()\n",
    "scenario.save_state(\"nav_geometric_state.pkl\")\n",
    "scenario.contracts[-1][4]"
   ]
  },
  {
   "cell_type": "code",
   "execution_count": 15,
   "metadata": {},
   "outputs": [
    {
     "name": "stdout",
     "output_type": "stream",
     "text": [
      "5: shift: 0.877 compose: 162.616 each input: 611 vars, 1093 constraints; result: 1219 vars, 2181 constraints; density=0.001831; size distribution: [(3, 768), (2, 1152), (1, 261)]\n"
     ]
    },
    {
     "data": {
      "text/plain": [
       "[[(5, 3.814697265625e-06, 1), (5, 2.6226043701171875e-06, 1)], [], [], []]"
      ]
     },
     "execution_count": 15,
     "metadata": {},
     "output_type": "execute_result"
    }
   ],
   "source": [
    "scenario.run_iteration()\n",
    "scenario.save_state(\"nav_geometric_state.pkl\")\n",
    "scenario.contracts[-1][4]"
   ]
  },
  {
   "cell_type": "code",
   "execution_count": null,
   "metadata": {},
   "outputs": [],
   "source": [
    "scenario.run_iteration()\n",
    "scenario.save_state(\"nav_geometric_state.pkl\")\n",
    "scenario.contracts[-1][4]"
   ]
  }
 ],
 "metadata": {
  "kernelspec": {
   "display_name": ".venv",
   "language": "python",
   "name": "python3"
  },
  "language_info": {
   "codemirror_mode": {
    "name": "ipython",
    "version": 3
   },
   "file_extension": ".py",
   "mimetype": "text/x-python",
   "name": "python",
   "nbconvert_exporter": "python",
   "pygments_lexer": "ipython3",
   "version": "3.11.2"
  },
  "orig_nbformat": 4
 },
 "nbformat": 4,
 "nbformat_minor": 2
}
