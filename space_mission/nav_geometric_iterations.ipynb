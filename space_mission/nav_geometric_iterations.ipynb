{
 "cells": [
  {
   "cell_type": "code",
   "execution_count": 1,
   "metadata": {},
   "outputs": [],
   "source": [
    "%matplotlib widget\n",
    "from nav_projection import *\n",
    "from utils import *"
   ]
  },
  {
   "cell_type": "code",
   "execution_count": 2,
   "metadata": {},
   "outputs": [],
   "source": [
    "mu=0.005 \n",
    "gain=(0.2, 0.3)\n",
    "max_dv=10\n",
    "me=(0.9, 1.1)\n",
    "variables=[\"t\", \"trtd\", \"ttid\"]\n",
    "tactics_order=[5,4]"
   ]
  },
  {
   "cell_type": "code",
   "execution_count": 3,
   "metadata": {},
   "outputs": [],
   "source": [
    "scenario = NAVScenarioGeometricGenerator(mu=mu, gain=gain, max_dv=5.0, me=me, variables=variables, tactics_order=tactics_order)"
   ]
  },
  {
   "cell_type": "code",
   "execution_count": 4,
   "metadata": {},
   "outputs": [
    {
     "name": "stdout",
     "output_type": "stream",
     "text": [
      "1: shift: 0.005 compose: 0.209 each input: 41 vars, 72 constraints; result: 79 vars, 141 constraints; density=0.02774; size distribution: [(3, 48), (2, 72), (1, 21)]\n",
      "[[(5, 0.0270233154296875, 1), (5, 0.01896047592163086, 1)], [], [], []]\n"
     ]
    },
    {
     "data": {
      "text/plain": [
       "[[(5, 0.0270233154296875, 1), (5, 0.01896047592163086, 1)], [], [], []]"
      ]
     },
     "execution_count": 4,
     "metadata": {},
     "output_type": "execute_result"
    }
   ],
   "source": [
    "scenario.run_iteration()\n",
    "scenario.save_state(\"nav_geometric_state.pkl\")\n",
    "scenario.contracts[-1][4]"
   ]
  },
  {
   "cell_type": "code",
   "execution_count": 5,
   "metadata": {},
   "outputs": [
    {
     "name": "stdout",
     "output_type": "stream",
     "text": [
      "2: shift: 0.016 compose: 0.595 each input: 79 vars, 141 constraints; result: 155 vars, 277 constraints; density=0.01428; size distribution: [(3, 96), (2, 144), (1, 37)]\n",
      "[[(5, 0.044570207595825195, 1), (5, 0.035736083984375, 1)], [], [], []]\n"
     ]
    },
    {
     "data": {
      "text/plain": [
       "[[(5, 0.044570207595825195, 1), (5, 0.035736083984375, 1)], [], [], []]"
      ]
     },
     "execution_count": 5,
     "metadata": {},
     "output_type": "execute_result"
    }
   ],
   "source": [
    "scenario.run_iteration()\n",
    "scenario.save_state(\"nav_geometric_state.pkl\")\n",
    "scenario.contracts[-1][4]"
   ]
  },
  {
   "cell_type": "code",
   "execution_count": 6,
   "metadata": {},
   "outputs": [
    {
     "name": "stdout",
     "output_type": "stream",
     "text": [
      "3: shift: 0.060 compose: 2.581 each input: 155 vars, 277 constraints; result: 307 vars, 549 constraints; density=0.007244; size distribution: [(3, 192), (2, 288), (1, 69)]\n",
      "[[(5, 0.09808564186096191, 1), (5, 0.0919797420501709, 1)], [], [], []]\n"
     ]
    },
    {
     "data": {
      "text/plain": [
       "[[(5, 0.09808564186096191, 1), (5, 0.0919797420501709, 1)], [], [], []]"
      ]
     },
     "execution_count": 6,
     "metadata": {},
     "output_type": "execute_result"
    }
   ],
   "source": [
    "scenario.run_iteration()\n",
    "scenario.save_state(\"nav_geometric_state.pkl\")\n",
    "scenario.contracts[-1][4]"
   ]
  },
  {
   "cell_type": "code",
   "execution_count": 7,
   "metadata": {},
   "outputs": [
    {
     "name": "stdout",
     "output_type": "stream",
     "text": [
      "4: shift: 0.223 compose: 12.005 each input: 307 vars, 549 constraints; result: 611 vars, 1093 constraints; density=0.003649; size distribution: [(3, 384), (2, 576), (1, 133)]\n",
      "[[(5, 0.30612850189208984, 1), (5, 0.29592347145080566, 1)], [], [], []]\n"
     ]
    },
    {
     "data": {
      "text/plain": [
       "[[(5, 0.30612850189208984, 1), (5, 0.29592347145080566, 1)], [], [], []]"
      ]
     },
     "execution_count": 7,
     "metadata": {},
     "output_type": "execute_result"
    }
   ],
   "source": [
    "scenario.run_iteration()\n",
    "scenario.save_state(\"nav_geometric_state.pkl\")\n",
    "scenario.contracts[-1][4]"
   ]
  },
  {
   "cell_type": "code",
   "execution_count": 8,
   "metadata": {},
   "outputs": [
    {
     "name": "stdout",
     "output_type": "stream",
     "text": [
      "5: shift: 0.897 compose: 65.266 each input: 611 vars, 1093 constraints; result: 1219 vars, 2181 constraints; density=0.001831; size distribution: [(3, 768), (2, 1152), (1, 261)]\n",
      "[[(5, 1.0635416507720947, 1), (5, 1.0539171695709229, 1)], [], [], []]\n"
     ]
    },
    {
     "data": {
      "text/plain": [
       "[[(5, 1.0635416507720947, 1), (5, 1.0539171695709229, 1)], [], [], []]"
      ]
     },
     "execution_count": 8,
     "metadata": {},
     "output_type": "execute_result"
    }
   ],
   "source": [
    "scenario.run_iteration()\n",
    "scenario.save_state(\"nav_geometric_state.pkl\")\n",
    "scenario.contracts[-1][4]"
   ]
  },
  {
   "cell_type": "code",
   "execution_count": 9,
   "metadata": {},
   "outputs": [
    {
     "name": "stdout",
     "output_type": "stream",
     "text": [
      "6: shift: 3.500 compose: 438.228 each input: 1219 vars, 2181 constraints; result: 2435 vars, 4357 constraints; density=0.0009174; size distribution: [(3, 1536), (2, 2304), (1, 517)]\n",
      "[[(5, 4.0277345180511475, 1), (5, 4.002825975418091, 1)], [], [], []]\n"
     ]
    },
    {
     "data": {
      "text/plain": [
       "[[(5, 4.0277345180511475, 1), (5, 4.002825975418091, 1)], [], [], []]"
      ]
     },
     "execution_count": 9,
     "metadata": {},
     "output_type": "execute_result"
    }
   ],
   "source": [
    "scenario.run_iteration()\n",
    "scenario.save_state(\"nav_geometric_state.pkl\")\n",
    "scenario.contracts[-1][4]"
   ]
  },
  {
   "cell_type": "code",
   "execution_count": 10,
   "metadata": {},
   "outputs": [
    {
     "name": "stdout",
     "output_type": "stream",
     "text": [
      "7: shift: 13.651 compose: 3044.964 each input: 2435 vars, 4357 constraints; result: 4867 vars, 8605 constraints; density=0.0004597; size distribution: [(3, 3072), (2, 4504), (1, 1029)]\n",
      "[[(5, 15.262488603591919, 1), (5, 15.166006088256836, 1)], [], [], []]\n"
     ]
    },
    {
     "data": {
      "text/plain": [
       "[[(5, 15.262488603591919, 1), (5, 15.166006088256836, 1)], [], [], []]"
      ]
     },
     "execution_count": 10,
     "metadata": {},
     "output_type": "execute_result"
    }
   ],
   "source": [
    "scenario.run_iteration()\n",
    "scenario.save_state(\"nav_geometric_state.pkl\")\n",
    "scenario.contracts[-1][4]"
   ]
  },
  {
   "cell_type": "code",
   "execution_count": 3,
   "metadata": {},
   "outputs": [
    {
     "name": "stdout",
     "output_type": "stream",
     "text": [
      "0.35,0.53,0.12\n",
      "0.35,0.53,0.12\n",
      "0.35,0.53,0.12\n",
      "0.36,0.52,0.12\n"
     ]
    }
   ],
   "source": [
    "\n",
    "print(f\"{384/1093:.2f},{576/1093:.2f},{133/1093:.2f}\")\n",
    "print(f\"{768/2181:.2f},{1152/2181:.2f},{261/2181:.2f}\")\n",
    "print(f\"{1536/4357:.2f},{2304/4357:.2f},{517/4357:.2f}\")\n",
    "print(f\"{3072/8605:.2f},{4504/8605:.2f},{1029/8605:.2f}\")"
   ]
  }
 ],
 "metadata": {
  "kernelspec": {
   "display_name": ".venv",
   "language": "python",
   "name": "python3"
  },
  "language_info": {
   "codemirror_mode": {
    "name": "ipython",
    "version": 3
   },
   "file_extension": ".py",
   "mimetype": "text/x-python",
   "name": "python",
   "nbconvert_exporter": "python",
   "pygments_lexer": "ipython3",
   "version": "3.11.2"
  },
  "orig_nbformat": 4
 },
 "nbformat": 4,
 "nbformat_minor": 2
}
