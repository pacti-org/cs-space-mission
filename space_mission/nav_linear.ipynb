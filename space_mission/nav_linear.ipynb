{
 "cells": [
  {
   "cell_type": "code",
   "execution_count": 1,
   "metadata": {},
   "outputs": [],
   "source": [
    "%matplotlib widget"
   ]
  },
  {
   "cell_type": "code",
   "execution_count": 2,
   "metadata": {},
   "outputs": [],
   "source": [
    "from nav_projection import *\n",
    "from utils import *\n",
    "from pacti_instrumentation.cpu_usage_plot import cpu_usage_plot"
   ]
  },
  {
   "cell_type": "code",
   "execution_count": 3,
   "metadata": {},
   "outputs": [],
   "source": [
    "mu=0.005 \n",
    "gain=(0.2, 0.3)\n",
    "max_dv=10\n",
    "me=(0.9, 1.1)\n",
    "variables=[\"t\", \"trtd\", \"ttid\"]\n",
    "iterations=40\n",
    "tactics_order=[5,4,1,2,3]"
   ]
  },
  {
   "cell_type": "code",
   "execution_count": 4,
   "metadata": {},
   "outputs": [
    {
     "name": "stdout",
     "output_type": "stream",
     "text": [
      "fixed input contract: 22 vars, 37 constraints; density=0.09705; size distribution: [(3, 12), (2, 18), (1, 7)]\n",
      "0: shift: 0.004 compose: 0.122 variable size input: 41 vars, 72 constraints; result: 60 vars, 107 constraints; density=0.03629; size distribution: [(3, 36), (2, 54), (1, 17)]\n",
      "[[(5, 0.009523391723632812, 1), (5, 0.008406877517700195, 1)], [], [], []]\n",
      "1: shift: 0.008 compose: 0.169 variable size input: 60 vars, 107 constraints; result: 79 vars, 141 constraints; density=0.02774; size distribution: [(3, 48), (2, 72), (1, 21)]\n",
      "[[(5, 0.009769439697265625, 1), (5, 0.008751869201660156, 1)], [], [], []]\n",
      "2: shift: 0.013 compose: 0.234 variable size input: 79 vars, 141 constraints; result: 98 vars, 175 constraints; density=0.02245; size distribution: [(3, 60), (2, 90), (1, 25)]\n",
      "[[(5, 0.010693073272705078, 1), (5, 0.009536266326904297, 1)], [], [], []]\n",
      "3: shift: 0.019 compose: 0.300 variable size input: 98 vars, 175 constraints; result: 117 vars, 209 constraints; density=0.01885; size distribution: [(3, 72), (2, 108), (1, 29)]\n",
      "[[(5, 0.010591506958007812, 1), (5, 0.009509563446044922, 1)], [], [], []]\n",
      "4: shift: 0.027 compose: 0.383 variable size input: 117 vars, 209 constraints; result: 136 vars, 243 constraints; density=0.01625; size distribution: [(3, 84), (2, 126), (1, 33)]\n",
      "[[(5, 0.011160850524902344, 1), (5, 0.010502338409423828, 1)], [], [], []]\n",
      "5: shift: 0.037 compose: 0.479 variable size input: 136 vars, 243 constraints; result: 155 vars, 277 constraints; density=0.01428; size distribution: [(3, 96), (2, 144), (1, 37)]\n",
      "[[(5, 0.011626482009887695, 1), (5, 0.01075601577758789, 1)], [], [], []]\n",
      "6: shift: 0.047 compose: 0.577 variable size input: 155 vars, 277 constraints; result: 174 vars, 311 constraints; density=0.01273; size distribution: [(3, 108), (2, 162), (1, 41)]\n",
      "[[(5, 0.01199483871459961, 1), (5, 0.010983467102050781, 1)], [], [], []]\n",
      "7: shift: 0.059 compose: 0.699 variable size input: 174 vars, 311 constraints; result: 193 vars, 345 constraints; density=0.01149; size distribution: [(3, 120), (2, 180), (1, 45)]\n",
      "[[(5, 0.012610435485839844, 1), (5, 0.012111902236938477, 1)], [], [], []]\n",
      "8: shift: 0.072 compose: 0.855 variable size input: 193 vars, 345 constraints; result: 212 vars, 379 constraints; density=0.01047; size distribution: [(3, 132), (2, 198), (1, 49)]\n",
      "[[(5, 0.013605594635009766, 1), (5, 0.012704133987426758, 1)], [], [], []]\n",
      "9: shift: 0.092 compose: 0.994 variable size input: 212 vars, 379 constraints; result: 231 vars, 413 constraints; density=0.009612; size distribution: [(3, 144), (2, 216), (1, 53)]\n",
      "[[(5, 0.01409292221069336, 1), (5, 0.013690471649169922, 1)], [], [], []]\n",
      "10: shift: 0.103 compose: 1.251 variable size input: 231 vars, 413 constraints; result: 250 vars, 447 constraints; density=0.008886; size distribution: [(3, 156), (2, 234), (1, 57)]\n",
      "[[(5, 0.014640092849731445, 1), (5, 0.013283491134643555, 1)], [], [], []]\n",
      "11: shift: 0.120 compose: 1.487 variable size input: 250 vars, 447 constraints; result: 269 vars, 481 constraints; density=0.008262; size distribution: [(3, 168), (2, 252), (1, 61)]\n",
      "[[(5, 0.015483617782592773, 1), (5, 0.014516592025756836, 1)], [], [], []]\n",
      "12: shift: 0.140 compose: 1.741 variable size input: 269 vars, 481 constraints; result: 288 vars, 515 constraints; density=0.00772; size distribution: [(3, 180), (2, 270), (1, 65)]\n",
      "[[(5, 0.016083717346191406, 1), (5, 0.015374422073364258, 1)], [], [], []]\n",
      "13: shift: 0.166 compose: 2.036 variable size input: 288 vars, 515 constraints; result: 307 vars, 549 constraints; density=0.007244; size distribution: [(3, 192), (2, 288), (1, 69)]\n",
      "[[(5, 0.016239166259765625, 1), (5, 0.01481771469116211, 1)], [], [], []]\n",
      "14: shift: 0.182 compose: 2.687 variable size input: 307 vars, 549 constraints; result: 326 vars, 583 constraints; density=0.006824; size distribution: [(3, 204), (2, 306), (1, 73)]\n",
      "[[(5, 0.01742243766784668, 1), (5, 0.01662421226501465, 1)], [], [], []]\n",
      "15: shift: 0.204 compose: 2.715 variable size input: 326 vars, 583 constraints; result: 345 vars, 617 constraints; density=0.00645; size distribution: [(3, 216), (2, 324), (1, 77)]\n",
      "[[(5, 0.01781749725341797, 1), (5, 0.01669144630432129, 1)], [], [], []]\n",
      "16: shift: 0.232 compose: 2.995 variable size input: 345 vars, 617 constraints; result: 364 vars, 651 constraints; density=0.006115; size distribution: [(3, 228), (2, 342), (1, 81)]\n",
      "[[(5, 0.01837778091430664, 1), (5, 0.018013715744018555, 1)], [], [], []]\n",
      "17: shift: 0.259 compose: 3.500 variable size input: 364 vars, 651 constraints; result: 383 vars, 685 constraints; density=0.005813; size distribution: [(3, 240), (2, 360), (1, 85)]\n",
      "[[(5, 0.020757198333740234, 1), (5, 0.018151521682739258, 1)], [], [], []]\n",
      "18: shift: 0.286 compose: 4.023 variable size input: 383 vars, 685 constraints; result: 402 vars, 719 constraints; density=0.005539; size distribution: [(3, 252), (2, 378), (1, 89)]\n",
      "[[(5, 0.0201876163482666, 1), (5, 0.02045726776123047, 1)], [], [], []]\n",
      "19: shift: 0.312 compose: 4.331 variable size input: 402 vars, 719 constraints; result: 421 vars, 753 constraints; density=0.00529; size distribution: [(3, 264), (2, 396), (1, 93)]\n",
      "[[(5, 0.020648956298828125, 1), (5, 0.01980733871459961, 1)], [], [], []]\n",
      "20: shift: 0.357 compose: 4.845 variable size input: 421 vars, 753 constraints; result: 440 vars, 787 constraints; density=0.005062; size distribution: [(3, 276), (2, 414), (1, 97)]\n",
      "[[(5, 0.02111530303955078, 1), (5, 0.02007889747619629, 1)], [], [], []]\n",
      "21: shift: 0.383 compose: 4.568 variable size input: 440 vars, 787 constraints; result: 459 vars, 821 constraints; density=0.004854; size distribution: [(3, 288), (2, 432), (1, 101)]\n",
      "[[(5, 0.0220949649810791, 1), (5, 0.02109837532043457, 1)], [], [], []]\n",
      "22: shift: 0.405 compose: 5.119 variable size input: 459 vars, 821 constraints; result: 478 vars, 855 constraints; density=0.004661; size distribution: [(3, 300), (2, 450), (1, 105)]\n",
      "[[(5, 0.022837400436401367, 1), (5, 0.022066831588745117, 1)], [], [], []]\n",
      "23: shift: 0.441 compose: 6.170 variable size input: 478 vars, 855 constraints; result: 497 vars, 889 constraints; density=0.004484; size distribution: [(3, 312), (2, 468), (1, 109)]\n",
      "[[(5, 0.02597522735595703, 1), (5, 0.023032665252685547, 1)], [], [], []]\n",
      "24: shift: 0.476 compose: 7.053 variable size input: 497 vars, 889 constraints; result: 516 vars, 923 constraints; density=0.004319; size distribution: [(3, 324), (2, 486), (1, 113)]\n",
      "[[(5, 0.02472662925720215, 1), (5, 0.023036479949951172, 1)], [], [], []]\n",
      "25: shift: 0.524 compose: 7.444 variable size input: 516 vars, 923 constraints; result: 535 vars, 957 constraints; density=0.004166; size distribution: [(3, 336), (2, 504), (1, 117)]\n",
      "[[(5, 0.02548837661743164, 1), (5, 0.024407386779785156, 1)], [], [], []]\n",
      "26: shift: 0.546 compose: 7.955 variable size input: 535 vars, 957 constraints; result: 554 vars, 991 constraints; density=0.004024; size distribution: [(3, 348), (2, 522), (1, 121)]\n",
      "[[(5, 0.026615619659423828, 1), (5, 0.02630329132080078, 1)], [], [], []]\n",
      "27: shift: 0.585 compose: 9.187 variable size input: 554 vars, 991 constraints; result: 573 vars, 1025 constraints; density=0.003891; size distribution: [(3, 360), (2, 540), (1, 125)]\n",
      "[[(5, 0.027495384216308594, 1), (5, 0.026910066604614258, 1)], [], [], []]\n",
      "28: shift: 0.636 compose: 9.379 variable size input: 573 vars, 1025 constraints; result: 592 vars, 1059 constraints; density=0.003766; size distribution: [(3, 372), (2, 558), (1, 129)]\n",
      "[[(5, 0.02898859977722168, 1), (5, 0.028497934341430664, 1)], [], [], []]\n",
      "29: shift: 0.668 compose: 10.330 variable size input: 592 vars, 1059 constraints; result: 611 vars, 1093 constraints; density=0.003649; size distribution: [(3, 384), (2, 576), (1, 133)]\n",
      "[[(5, 0.029611825942993164, 1), (5, 0.0290374755859375, 1)], [], [], []]\n",
      "30: shift: 0.714 compose: 10.879 variable size input: 611 vars, 1093 constraints; result: 630 vars, 1127 constraints; density=0.003539; size distribution: [(3, 396), (2, 594), (1, 137)]\n",
      "[[(5, 0.03065943717956543, 1), (5, 0.029393434524536133, 1)], [], [], []]\n",
      "31: shift: 0.765 compose: 11.610 variable size input: 630 vars, 1127 constraints; result: 649 vars, 1161 constraints; density=0.003436; size distribution: [(3, 408), (2, 612), (1, 141)]\n",
      "[[(5, 0.034214019775390625, 1), (5, 0.03244209289550781, 1)], [], [], []]\n",
      "32: shift: 0.803 compose: 12.695 variable size input: 649 vars, 1161 constraints; result: 668 vars, 1195 constraints; density=0.003339; size distribution: [(3, 420), (2, 630), (1, 145)]\n",
      "[[(5, 0.03198814392089844, 1), (5, 0.0312952995300293, 1)], [], [], []]\n",
      "33: shift: 0.858 compose: 12.858 variable size input: 668 vars, 1195 constraints; result: 687 vars, 1229 constraints; density=0.003246; size distribution: [(3, 432), (2, 648), (1, 149)]\n",
      "[[(5, 0.033029794692993164, 1), (5, 0.03230118751525879, 1)], [], [], []]\n",
      "34: shift: 0.903 compose: 14.298 variable size input: 687 vars, 1229 constraints; result: 706 vars, 1263 constraints; density=0.003159; size distribution: [(3, 444), (2, 666), (1, 153)]\n",
      "[[(5, 0.03693389892578125, 1), (5, 0.03606724739074707, 1)], [], [], []]\n",
      "35: shift: 0.951 compose: 15.413 variable size input: 706 vars, 1263 constraints; result: 725 vars, 1297 constraints; density=0.003077; size distribution: [(3, 456), (2, 684), (1, 157)]\n",
      "[[(5, 0.036145925521850586, 1), (5, 0.03577899932861328, 1)], [], [], []]\n",
      "36: shift: 1.012 compose: 16.127 variable size input: 725 vars, 1297 constraints; result: 744 vars, 1331 constraints; density=0.002998; size distribution: [(3, 468), (2, 702), (1, 161)]\n",
      "[[(5, 0.039638519287109375, 1), (5, 0.037073612213134766, 1)], [], [], []]\n",
      "37: shift: 1.061 compose: 17.891 variable size input: 744 vars, 1331 constraints; result: 763 vars, 1365 constraints; density=0.002924; size distribution: [(3, 480), (2, 720), (1, 165)]\n",
      "[[(5, 0.0388035774230957, 1), (5, 0.03833937644958496, 1)], [], [], []]\n",
      "38: shift: 1.105 compose: 17.706 variable size input: 763 vars, 1365 constraints; result: 782 vars, 1399 constraints; density=0.002853; size distribution: [(3, 492), (2, 738), (1, 169)]\n",
      "[[(5, 0.04009532928466797, 1), (5, 0.03951597213745117, 1)], [], [], []]\n",
      "39: shift: 1.168 compose: 19.552 variable size input: 782 vars, 1399 constraints; result: 801 vars, 1433 constraints; density=0.002785; size distribution: [(3, 504), (2, 756), (1, 173)]\n",
      "[[(5, 0.0402216911315918, 1), (5, 0.03942704200744629, 1)], [], [], []]\n"
     ]
    }
   ],
   "source": [
    "ns = NAVScenarioLinear(iterations=iterations, mu=mu, gain=gain, max_dv=max_dv, me=me, variables=variables, tactics_order=tactics_order)\n",
    "ns.save_state(\"nav_linear_state.pkl\")"
   ]
  }
 ],
 "metadata": {
  "kernelspec": {
   "display_name": ".venv",
   "language": "python",
   "name": "python3"
  },
  "language_info": {
   "codemirror_mode": {
    "name": "ipython",
    "version": 3
   },
   "file_extension": ".py",
   "mimetype": "text/x-python",
   "name": "python",
   "nbconvert_exporter": "python",
   "pygments_lexer": "ipython3",
   "version": "3.11.2"
  },
  "orig_nbformat": 4
 },
 "nbformat": 4,
 "nbformat_minor": 2
}
