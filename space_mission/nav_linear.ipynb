{
 "cells": [
  {
   "cell_type": "code",
   "execution_count": 1,
   "metadata": {},
   "outputs": [],
   "source": [
    "%matplotlib widget"
   ]
  },
  {
   "cell_type": "code",
   "execution_count": 2,
   "metadata": {},
   "outputs": [],
   "source": [
    "from nav_projection import *\n",
    "from utils import *\n",
    "from pacti_instrumentation.cpu_usage_plot import cpu_usage_plot"
   ]
  },
  {
   "cell_type": "code",
   "execution_count": 3,
   "metadata": {},
   "outputs": [],
   "source": [
    "mu=0.005 \n",
    "gain=(0.2, 0.3)\n",
    "max_dv=10\n",
    "me=(0.9, 1.1)\n",
    "variables=[\"t\", \"trtd\"]\n",
    "iterations=40\n",
    "tactics_order=[5,4,1,2,3]"
   ]
  },
  {
   "cell_type": "code",
   "execution_count": 4,
   "metadata": {},
   "outputs": [
    {
     "name": "stdout",
     "output_type": "stream",
     "text": [
      "fixed input contract: 22 vars, 37 constraints; density=0.09705; size distribution: [(3, 12), (2, 18), (1, 7)]\n",
      "0: shift: 0.004 compose: 0.111 variable size input: 42 vars, 73 constraints; result: 62 vars, 109 constraints; density=0.03477; size distribution: [(3, 36), (2, 54), (1, 19)]\n",
      "[[(5, 0.009617328643798828, 1)], [], [], []]\n",
      "1: shift: 0.008 compose: 0.162 variable size input: 62 vars, 109 constraints; result: 82 vars, 144 constraints; density=0.02642; size distribution: [(3, 48), (2, 72), (1, 24)]\n",
      "[[(5, 0.010140657424926758, 1)], [], [], []]\n",
      "2: shift: 0.013 compose: 0.227 variable size input: 82 vars, 144 constraints; result: 102 vars, 179 constraints; density=0.02131; size distribution: [(3, 60), (2, 90), (1, 29)]\n",
      "[[(5, 0.01036214828491211, 1)], [], [], []]\n",
      "3: shift: 0.020 compose: 0.296 variable size input: 102 vars, 179 constraints; result: 122 vars, 214 constraints; density=0.01785; size distribution: [(3, 72), (2, 108), (1, 34)]\n",
      "[[(5, 0.0115966796875, 1)], [], [], []]\n",
      "4: shift: 0.028 compose: 0.384 variable size input: 122 vars, 214 constraints; result: 142 vars, 249 constraints; density=0.01536; size distribution: [(3, 84), (2, 126), (1, 39)]\n",
      "[[(5, 0.011855363845825195, 1)], [], [], []]\n",
      "5: shift: 0.038 compose: 0.465 variable size input: 142 vars, 249 constraints; result: 162 vars, 284 constraints; density=0.01348; size distribution: [(3, 96), (2, 144), (1, 44)]\n",
      "[[(5, 0.012449979782104492, 1)], [], [], []]\n",
      "6: shift: 0.049 compose: 0.570 variable size input: 162 vars, 284 constraints; result: 182 vars, 319 constraints; density=0.01201; size distribution: [(3, 108), (2, 162), (1, 49)]\n",
      "[[(5, 0.013596296310424805, 1)], [], [], []]\n",
      "7: shift: 0.062 compose: 0.686 variable size input: 182 vars, 319 constraints; result: 202 vars, 354 constraints; density=0.01082; size distribution: [(3, 120), (2, 180), (1, 54)]\n",
      "[[(5, 0.014222860336303711, 1)], [], [], []]\n",
      "8: shift: 0.075 compose: 0.831 variable size input: 202 vars, 354 constraints; result: 222 vars, 389 constraints; density=0.009854; size distribution: [(3, 132), (2, 198), (1, 59)]\n",
      "[[(5, 0.014817237854003906, 1)], [], [], []]\n",
      "9: shift: 0.091 compose: 0.972 variable size input: 222 vars, 389 constraints; result: 242 vars, 424 constraints; density=0.009044; size distribution: [(3, 144), (2, 216), (1, 64)]\n",
      "[[(5, 0.015393495559692383, 1)], [], [], []]\n",
      "10: shift: 0.108 compose: 1.399 variable size input: 242 vars, 424 constraints; result: 262 vars, 459 constraints; density=0.008357; size distribution: [(3, 156), (2, 234), (1, 69)]\n",
      "[[(5, 0.016470909118652344, 1)], [], [], []]\n",
      "11: shift: 0.127 compose: 1.583 variable size input: 262 vars, 459 constraints; result: 282 vars, 494 constraints; density=0.007767; size distribution: [(3, 168), (2, 252), (1, 74)]\n",
      "[[(5, 0.02003002166748047, 1)], [], [], []]\n",
      "12: shift: 0.147 compose: 1.835 variable size input: 282 vars, 494 constraints; result: 302 vars, 529 constraints; density=0.007255; size distribution: [(3, 180), (2, 270), (1, 79)]\n",
      "[[(5, 0.019067049026489258, 1)], [], [], []]\n",
      "13: shift: 0.172 compose: 2.103 variable size input: 302 vars, 529 constraints; result: 322 vars, 564 constraints; density=0.006806; size distribution: [(3, 192), (2, 288), (1, 84)]\n",
      "[[(5, 0.018854618072509766, 1)], [], [], []]\n",
      "14: shift: 0.193 compose: 2.511 variable size input: 322 vars, 564 constraints; result: 342 vars, 599 constraints; density=0.006409; size distribution: [(3, 204), (2, 306), (1, 89)]\n",
      "[[(5, 0.02050924301147461, 1)], [], [], []]\n",
      "15: shift: 0.222 compose: 3.191 variable size input: 342 vars, 599 constraints; result: 362 vars, 634 constraints; density=0.006056; size distribution: [(3, 216), (2, 324), (1, 94)]\n",
      "[[(5, 0.02136063575744629, 1)], [], [], []]\n",
      "16: shift: 0.247 compose: 3.351 variable size input: 362 vars, 634 constraints; result: 382 vars, 669 constraints; density=0.00574; size distribution: [(3, 228), (2, 342), (1, 99)]\n",
      "[[(5, 0.026723146438598633, 1)], [], [], []]\n",
      "17: shift: 0.273 compose: 3.752 variable size input: 382 vars, 669 constraints; result: 402 vars, 704 constraints; density=0.005456; size distribution: [(3, 240), (2, 360), (1, 104)]\n",
      "[[(5, 0.023219585418701172, 1)], [], [], []]\n",
      "18: shift: 0.300 compose: 3.955 variable size input: 402 vars, 704 constraints; result: 422 vars, 739 constraints; density=0.005198; size distribution: [(3, 252), (2, 378), (1, 109)]\n",
      "[[(5, 0.026068449020385742, 1)], [], [], []]\n",
      "19: shift: 0.329 compose: 4.669 variable size input: 422 vars, 739 constraints; result: 442 vars, 774 constraints; density=0.004963; size distribution: [(3, 264), (2, 396), (1, 114)]\n",
      "[[(5, 0.02489328384399414, 1)], [], [], []]\n",
      "20: shift: 0.364 compose: 4.973 variable size input: 442 vars, 774 constraints; result: 462 vars, 809 constraints; density=0.004749; size distribution: [(3, 276), (2, 414), (1, 119)]\n",
      "[[(5, 0.025949716567993164, 1)], [], [], []]\n",
      "21: shift: 0.396 compose: 5.622 variable size input: 462 vars, 809 constraints; result: 482 vars, 844 constraints; density=0.004553; size distribution: [(3, 288), (2, 432), (1, 124)]\n",
      "[[(5, 0.027351856231689453, 1)], [], [], []]\n",
      "22: shift: 0.431 compose: 6.174 variable size input: 482 vars, 844 constraints; result: 502 vars, 879 constraints; density=0.004372; size distribution: [(3, 300), (2, 450), (1, 129)]\n",
      "[[(5, 0.02822732925415039, 1)], [], [], []]\n",
      "23: shift: 0.471 compose: 6.738 variable size input: 502 vars, 879 constraints; result: 522 vars, 914 constraints; density=0.004204; size distribution: [(3, 312), (2, 468), (1, 134)]\n",
      "[[(5, 0.029731273651123047, 1)], [], [], []]\n",
      "24: shift: 0.502 compose: 7.134 variable size input: 522 vars, 914 constraints; result: 542 vars, 949 constraints; density=0.00405; size distribution: [(3, 324), (2, 486), (1, 139)]\n",
      "[[(5, 0.0339665412902832, 1)], [], [], []]\n",
      "25: shift: 0.552 compose: 7.800 variable size input: 542 vars, 949 constraints; result: 562 vars, 984 constraints; density=0.003906; size distribution: [(3, 336), (2, 504), (1, 144)]\n",
      "[[(5, 0.03240513801574707, 1)], [], [], []]\n",
      "26: shift: 0.598 compose: 8.208 variable size input: 562 vars, 984 constraints; result: 582 vars, 1019 constraints; density=0.003772; size distribution: [(3, 348), (2, 522), (1, 149)]\n",
      "[[(5, 0.03327369689941406, 1)], [], [], []]\n",
      "27: shift: 0.631 compose: 9.000 variable size input: 582 vars, 1019 constraints; result: 602 vars, 1054 constraints; density=0.003647; size distribution: [(3, 360), (2, 540), (1, 154)]\n",
      "[[(5, 0.03497505187988281, 1)], [], [], []]\n",
      "28: shift: 0.668 compose: 9.661 variable size input: 602 vars, 1054 constraints; result: 622 vars, 1089 constraints; density=0.00353; size distribution: [(3, 372), (2, 558), (1, 159)]\n",
      "[[(5, 0.03588151931762695, 1)], [], [], []]\n",
      "29: shift: 0.713 compose: 10.845 variable size input: 622 vars, 1089 constraints; result: 642 vars, 1124 constraints; density=0.00342; size distribution: [(3, 384), (2, 576), (1, 164)]\n",
      "[[(5, 0.04176926612854004, 1)], [], [], []]\n",
      "30: shift: 0.766 compose: 11.490 variable size input: 642 vars, 1124 constraints; result: 662 vars, 1159 constraints; density=0.003317; size distribution: [(3, 396), (2, 594), (1, 169)]\n",
      "[[(5, 0.039081573486328125, 1)], [], [], []]\n",
      "31: shift: 0.807 compose: 12.273 variable size input: 662 vars, 1159 constraints; result: 682 vars, 1194 constraints; density=0.00322; size distribution: [(3, 408), (2, 612), (1, 174)]\n",
      "[[(5, 0.040723562240600586, 1)], [], [], []]\n",
      "32: shift: 0.857 compose: 13.399 variable size input: 682 vars, 1194 constraints; result: 702 vars, 1229 constraints; density=0.003128; size distribution: [(3, 420), (2, 630), (1, 179)]\n",
      "[[(5, 0.042006731033325195, 1)], [], [], []]\n",
      "33: shift: 0.911 compose: 14.077 variable size input: 702 vars, 1229 constraints; result: 722 vars, 1264 constraints; density=0.003042; size distribution: [(3, 432), (2, 648), (1, 184)]\n",
      "[[(5, 0.043325185775756836, 1)], [], [], []]\n",
      "34: shift: 0.956 compose: 14.655 variable size input: 722 vars, 1264 constraints; result: 742 vars, 1299 constraints; density=0.00296; size distribution: [(3, 444), (2, 666), (1, 189)]\n",
      "[[(5, 0.04714250564575195, 1)], [], [], []]\n",
      "35: shift: 1.021 compose: 15.963 variable size input: 742 vars, 1299 constraints; result: 762 vars, 1334 constraints; density=0.002882; size distribution: [(3, 456), (2, 684), (1, 194)]\n",
      "[[(5, 0.046999216079711914, 1)], [], [], []]\n",
      "36: shift: 1.065 compose: 17.028 variable size input: 762 vars, 1334 constraints; result: 782 vars, 1369 constraints; density=0.002809; size distribution: [(3, 468), (2, 702), (1, 199)]\n",
      "[[(5, 0.04784560203552246, 1)], [], [], []]\n",
      "37: shift: 1.220 compose: 17.865 variable size input: 782 vars, 1369 constraints; result: 802 vars, 1404 constraints; density=0.002739; size distribution: [(3, 480), (2, 720), (1, 204)]\n",
      "[[(5, 0.05110931396484375, 1)], [], [], []]\n",
      "38: shift: 1.173 compose: 19.385 variable size input: 802 vars, 1404 constraints; result: 822 vars, 1439 constraints; density=0.002672; size distribution: [(3, 492), (2, 738), (1, 209)]\n",
      "[[(5, 0.05380535125732422, 1)], [], [], []]\n",
      "39: shift: 1.231 compose: 20.047 variable size input: 822 vars, 1439 constraints; result: 842 vars, 1474 constraints; density=0.002609; size distribution: [(3, 504), (2, 756), (1, 214)]\n",
      "[[(5, 0.054871559143066406, 1)], [], [], []]\n"
     ]
    }
   ],
   "source": [
    "ns = NAVScenarioLinear(iterations=iterations, mu=mu, gain=gain, max_dv=max_dv, me=me, variables=variables, tactics_order=tactics_order)\n",
    "ns.save_state(\"nav_linear_state.pkl\")"
   ]
  },
  {
   "cell_type": "code",
   "execution_count": 6,
   "metadata": {},
   "outputs": [
    {
     "name": "stdout",
     "output_type": "stream",
     "text": [
      "0.34,0.51,0.15\n",
      "0.34,0.51,0.15\n",
      "0.34,0.51,0.15\n"
     ]
    }
   ],
   "source": [
    "print(f\"{480/1404:.2f},{720/1404:.2f},{204/1404:.2f}\")\n",
    "print(f\"{492/1439:.2f},{738/1439:.2f},{209/1439:.2f}\")\n",
    "print(f\"{504/1474:.2f},{756/1474:.2f},{214/1474:.2f}\")"
   ]
  }
 ],
 "metadata": {
  "kernelspec": {
   "display_name": ".venv",
   "language": "python",
   "name": "python3"
  },
  "language_info": {
   "codemirror_mode": {
    "name": "ipython",
    "version": 3
   },
   "file_extension": ".py",
   "mimetype": "text/x-python",
   "name": "python",
   "nbconvert_exporter": "python",
   "pygments_lexer": "ipython3",
   "version": "3.11.2"
  },
  "orig_nbformat": 4
 },
 "nbformat": 4,
 "nbformat_minor": 2
}
