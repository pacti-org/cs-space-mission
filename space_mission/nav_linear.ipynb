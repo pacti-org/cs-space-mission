{
 "cells": [
  {
   "cell_type": "code",
   "execution_count": 1,
   "metadata": {},
   "outputs": [],
   "source": [
    "%matplotlib widget"
   ]
  },
  {
   "cell_type": "code",
   "execution_count": 2,
   "metadata": {},
   "outputs": [],
   "source": [
    "from nav_projection import *\n",
    "from utils import *\n",
    "from pacti_instrumentation.cpu_usage_plot import cpu_usage_plot"
   ]
  },
  {
   "cell_type": "code",
   "execution_count": 3,
   "metadata": {},
   "outputs": [],
   "source": [
    "mu=0.005 \n",
    "gain=(0.2, 0.3)\n",
    "max_dv=10\n",
    "me=(0.9, 1.1)\n",
    "variables=[\"t\", \"trtd\"]\n",
    "iterations=40\n",
    "tactics_order=[5,4,1,2,3]"
   ]
  },
  {
   "cell_type": "code",
   "execution_count": 4,
   "metadata": {},
   "outputs": [
    {
     "name": "stdout",
     "output_type": "stream",
     "text": [
      "fixed input contract: 17 vars, 28 constraints; density=0.1303; size distribution: [(3, 12), (2, 10), (1, 6)]\n",
      "0: shift: 0.002 compose: 0.085 variable size input: 32 vars, 55 constraints; result: 47 vars, 82 constraints; density=0.04774; size distribution: [(3, 36), (2, 30), (1, 16)]\n",
      "[[(5, 0.008905410766601562, 1)], [], [], []]\n",
      "1: shift: 0.006 compose: 0.119 variable size input: 47 vars, 82 constraints; result: 62 vars, 108 constraints; density=0.03644; size distribution: [(3, 48), (2, 40), (1, 20)]\n",
      "[[(5, 0.009574413299560547, 1)], [], [], []]\n",
      "2: shift: 0.008 compose: 0.155 variable size input: 62 vars, 108 constraints; result: 77 vars, 134 constraints; density=0.02946; size distribution: [(3, 60), (2, 50), (1, 24)]\n",
      "[[(5, 0.009522199630737305, 1)], [], [], []]\n",
      "3: shift: 0.012 compose: 0.201 variable size input: 77 vars, 134 constraints; result: 92 vars, 160 constraints; density=0.02473; size distribution: [(3, 72), (2, 60), (1, 28)]\n",
      "[[(5, 0.00979161262512207, 1)], [], [], []]\n",
      "4: shift: 0.017 compose: 0.250 variable size input: 92 vars, 160 constraints; result: 107 vars, 186 constraints; density=0.0213; size distribution: [(3, 84), (2, 70), (1, 32)]\n",
      "[[(5, 0.01036524772644043, 1)], [], [], []]\n",
      "5: shift: 0.022 compose: 0.305 variable size input: 107 vars, 186 constraints; result: 122 vars, 212 constraints; density=0.01871; size distribution: [(3, 96), (2, 80), (1, 36)]\n",
      "[[(5, 0.01065683364868164, 1)], [], [], []]\n",
      "6: shift: 0.029 compose: 0.369 variable size input: 122 vars, 212 constraints; result: 137 vars, 238 constraints; density=0.01668; size distribution: [(3, 108), (2, 90), (1, 40)]\n",
      "[[(5, 0.011249303817749023, 1)], [], [], []]\n",
      "7: shift: 0.036 compose: 0.439 variable size input: 137 vars, 238 constraints; result: 152 vars, 264 constraints; density=0.01505; size distribution: [(3, 120), (2, 100), (1, 44)]\n",
      "[[(5, 0.011728763580322266, 1)], [], [], []]\n",
      "8: shift: 0.044 compose: 0.520 variable size input: 152 vars, 264 constraints; result: 167 vars, 290 constraints; density=0.01371; size distribution: [(3, 132), (2, 110), (1, 48)]\n",
      "[[(5, 0.012328147888183594, 1)], [], [], []]\n",
      "9: shift: 0.053 compose: 0.595 variable size input: 167 vars, 290 constraints; result: 182 vars, 316 constraints; density=0.01259; size distribution: [(3, 144), (2, 120), (1, 52)]\n",
      "[[(5, 0.012663602828979492, 1)], [], [], []]\n",
      "10: shift: 0.063 compose: 0.688 variable size input: 182 vars, 316 constraints; result: 197 vars, 342 constraints; density=0.01164; size distribution: [(3, 156), (2, 130), (1, 56)]\n",
      "[[(5, 0.013405799865722656, 1)], [], [], []]\n",
      "11: shift: 0.076 compose: 0.807 variable size input: 197 vars, 342 constraints; result: 212 vars, 368 constraints; density=0.01082; size distribution: [(3, 168), (2, 140), (1, 60)]\n",
      "[[(5, 0.01592278480529785, 1)], [], [], []]\n",
      "12: shift: 0.085 compose: 0.908 variable size input: 212 vars, 368 constraints; result: 227 vars, 394 constraints; density=0.01011; size distribution: [(3, 180), (2, 150), (1, 64)]\n",
      "[[(5, 0.01449131965637207, 1)], [], [], []]\n",
      "13: shift: 0.099 compose: 1.099 variable size input: 227 vars, 394 constraints; result: 242 vars, 420 constraints; density=0.009484; size distribution: [(3, 192), (2, 160), (1, 68)]\n",
      "[[(5, 0.015326738357543945, 1)], [], [], []]\n",
      "14: shift: 0.111 compose: 1.346 variable size input: 242 vars, 420 constraints; result: 257 vars, 446 constraints; density=0.008934; size distribution: [(3, 204), (2, 170), (1, 72)]\n",
      "[[(5, 0.015866756439208984, 1)], [], [], []]\n",
      "15: shift: 0.125 compose: 1.460 variable size input: 257 vars, 446 constraints; result: 272 vars, 472 constraints; density=0.008443; size distribution: [(3, 216), (2, 180), (1, 76)]\n",
      "[[(5, 0.01748371124267578, 1)], [], [], []]\n",
      "16: shift: 0.140 compose: 1.618 variable size input: 272 vars, 472 constraints; result: 287 vars, 498 constraints; density=0.008004; size distribution: [(3, 228), (2, 190), (1, 80)]\n",
      "[[(5, 0.01793384552001953, 1)], [], [], []]\n",
      "17: shift: 0.157 compose: 1.888 variable size input: 287 vars, 498 constraints; result: 302 vars, 524 constraints; density=0.007608; size distribution: [(3, 240), (2, 200), (1, 84)]\n",
      "[[(5, 0.018972396850585938, 1)], [], [], []]\n",
      "18: shift: 0.180 compose: 2.134 variable size input: 302 vars, 524 constraints; result: 317 vars, 550 constraints; density=0.00725; size distribution: [(3, 252), (2, 210), (1, 88)]\n",
      "[[(5, 0.019278526306152344, 1)], [], [], []]\n",
      "19: shift: 0.260 compose: 2.346 variable size input: 317 vars, 550 constraints; result: 332 vars, 576 constraints; density=0.006924; size distribution: [(3, 264), (2, 220), (1, 92)]\n",
      "[[(5, 0.01957392692565918, 1)], [], [], []]\n",
      "20: shift: 0.210 compose: 2.597 variable size input: 332 vars, 576 constraints; result: 347 vars, 602 constraints; density=0.006625; size distribution: [(3, 276), (2, 230), (1, 96)]\n",
      "[[(5, 0.020231008529663086, 1)], [], [], []]\n",
      "21: shift: 0.227 compose: 2.826 variable size input: 347 vars, 602 constraints; result: 362 vars, 628 constraints; density=0.006352; size distribution: [(3, 288), (2, 240), (1, 100)]\n",
      "[[(5, 0.02093791961669922, 1)], [], [], []]\n",
      "22: shift: 0.248 compose: 3.270 variable size input: 362 vars, 628 constraints; result: 377 vars, 654 constraints; density=0.0061; size distribution: [(3, 300), (2, 250), (1, 104)]\n",
      "[[(5, 0.022352218627929688, 1)], [], [], []]\n",
      "23: shift: 0.270 compose: 3.614 variable size input: 377 vars, 654 constraints; result: 392 vars, 680 constraints; density=0.005867; size distribution: [(3, 312), (2, 260), (1, 108)]\n",
      "[[(5, 0.02231597900390625, 1)], [], [], []]\n",
      "24: shift: 0.293 compose: 3.984 variable size input: 392 vars, 680 constraints; result: 407 vars, 706 constraints; density=0.005652; size distribution: [(3, 324), (2, 270), (1, 112)]\n",
      "[[(5, 0.023353099822998047, 1)], [], [], []]\n",
      "25: shift: 0.314 compose: 4.025 variable size input: 407 vars, 706 constraints; result: 422 vars, 732 constraints; density=0.005452; size distribution: [(3, 336), (2, 280), (1, 116)]\n",
      "[[(5, 0.02403092384338379, 1)], [], [], []]\n",
      "26: shift: 0.334 compose: 4.823 variable size input: 422 vars, 732 constraints; result: 437 vars, 758 constraints; density=0.005265; size distribution: [(3, 348), (2, 290), (1, 120)]\n",
      "[[(5, 0.025049924850463867, 1)], [], [], []]\n",
      "27: shift: 0.366 compose: 4.853 variable size input: 437 vars, 758 constraints; result: 452 vars, 784 constraints; density=0.005091; size distribution: [(3, 360), (2, 300), (1, 124)]\n",
      "[[(5, 0.026335954666137695, 1)], [], [], []]\n",
      "28: shift: 0.385 compose: 5.277 variable size input: 452 vars, 784 constraints; result: 467 vars, 810 constraints; density=0.004928; size distribution: [(3, 372), (2, 310), (1, 128)]\n",
      "[[(5, 0.02664971351623535, 1)], [], [], []]\n",
      "29: shift: 0.411 compose: 5.705 variable size input: 467 vars, 810 constraints; result: 482 vars, 836 constraints; density=0.004775; size distribution: [(3, 384), (2, 320), (1, 132)]\n",
      "[[(5, 0.02838444709777832, 1)], [], [], []]\n",
      "30: shift: 0.435 compose: 6.161 variable size input: 482 vars, 836 constraints; result: 497 vars, 862 constraints; density=0.004631; size distribution: [(3, 396), (2, 330), (1, 136)]\n",
      "[[(5, 0.028510570526123047, 1)], [], [], []]\n",
      "31: shift: 0.460 compose: 6.691 variable size input: 497 vars, 862 constraints; result: 512 vars, 888 constraints; density=0.004496; size distribution: [(3, 408), (2, 340), (1, 140)]\n",
      "[[(5, 0.029927968978881836, 1)], [], [], []]\n",
      "32: shift: 0.494 compose: 6.889 variable size input: 512 vars, 888 constraints; result: 527 vars, 914 constraints; density=0.004368; size distribution: [(3, 420), (2, 350), (1, 144)]\n",
      "[[(5, 0.0307466983795166, 1)], [], [], []]\n",
      "33: shift: 0.526 compose: 7.276 variable size input: 527 vars, 914 constraints; result: 542 vars, 940 constraints; density=0.004247; size distribution: [(3, 432), (2, 360), (1, 148)]\n",
      "[[(5, 0.0323033332824707, 1)], [], [], []]\n",
      "34: shift: 0.553 compose: 7.881 variable size input: 542 vars, 940 constraints; result: 557 vars, 966 constraints; density=0.004133; size distribution: [(3, 444), (2, 370), (1, 152)]\n",
      "[[(5, 0.032653093338012695, 1)], [], [], []]\n",
      "35: shift: 0.599 compose: 8.673 variable size input: 557 vars, 966 constraints; result: 572 vars, 992 constraints; density=0.004025; size distribution: [(3, 456), (2, 380), (1, 156)]\n",
      "[[(5, 0.03538346290588379, 1)], [], [], []]\n",
      "36: shift: 0.608 compose: 9.114 variable size input: 572 vars, 992 constraints; result: 587 vars, 1018 constraints; density=0.003923; size distribution: [(3, 468), (2, 390), (1, 160)]\n",
      "[[(5, 0.03579854965209961, 1)], [], [], []]\n",
      "37: shift: 0.637 compose: 9.477 variable size input: 587 vars, 1018 constraints; result: 602 vars, 1044 constraints; density=0.003825; size distribution: [(3, 480), (2, 400), (1, 164)]\n",
      "[[(5, 0.03571748733520508, 1)], [], [], []]\n",
      "38: shift: 0.676 compose: 9.955 variable size input: 602 vars, 1044 constraints; result: 617 vars, 1070 constraints; density=0.003732; size distribution: [(3, 492), (2, 410), (1, 168)]\n",
      "[[(5, 0.03799009323120117, 1)], [], [], []]\n",
      "39: shift: 0.713 compose: 10.244 variable size input: 617 vars, 1070 constraints; result: 632 vars, 1096 constraints; density=0.003644; size distribution: [(3, 504), (2, 420), (1, 172)]\n",
      "[[(5, 0.03904843330383301, 1)], [], [], []]\n"
     ]
    }
   ],
   "source": [
    "ns = NAVScenarioLinear(iterations=iterations, mu=mu, gain=gain, max_dv=max_dv, me=me, variables=variables, tactics_order=tactics_order)\n",
    "ns.save_state(\"nav_linear_state.pkl\")"
   ]
  },
  {
   "cell_type": "code",
   "execution_count": 7,
   "metadata": {},
   "outputs": [
    {
     "name": "stdout",
     "output_type": "stream",
     "text": [
      "0.46,0.38,0.16\n",
      "0.46,0.38,0.16\n",
      "0.46,0.38,0.16\n"
     ]
    }
   ],
   "source": [
    "print(f\"{480/1044:.2f},{400/1044:.2f},{164/1044:.2f}\")\n",
    "print(f\"{492/1070:.2f},{410/1070:.2f},{168/1070:.2f}\")\n",
    "print(f\"{504/1096:.2f},{420/1096:.2f},{172/1096:.2f}\")"
   ]
  },
  {
   "cell_type": "code",
   "execution_count": 6,
   "metadata": {},
   "outputs": [
    {
     "name": "stdout",
     "output_type": "stream",
     "text": [
      "Inputs : [duration1,duration2,duration3,duration4,t1_entry,trtd1_entry]\n",
      "Outputs: [output_dv3,output_error1,output_ertd2,output_t1,output_t2,output_t3,output_trtd1,output_trtd2,output_trtd3,t4_exit,trtd4_exit]\n",
      "A: [\n",
      "  -duration1 <= -0\n",
      "  -duration2 <= 0\n",
      "  -duration3 <= 0\n",
      "  -duration4 <= 0\n",
      "  -t1_entry <= -0\n",
      "]\n",
      "G: [\n",
      "  -duration1 + output_t1 - t1_entry = 0\n",
      "  -duration2 - output_t1 + output_t2 = 0\n",
      "  -duration3 - output_t2 + output_t3 = 0\n",
      "  -duration4 - output_t3 + t4_exit = 0\n",
      "  output_dv3 <= 10\n",
      "  -output_dv3 + 0.2 output_ertd2 <= 0\n",
      "  output_dv3 - 0.3 output_ertd2 <= 0\n",
      "  0.9 output_dv3 - output_trtd3 + trtd4_exit <= 0\n",
      "  -1.1 output_dv3 + output_trtd3 - trtd4_exit <= 0\n",
      "  -output_error1 + output_ertd2 - output_trtd1 = 0\n",
      "  output_error1 - 0.005 trtd1_entry <= 0\n",
      "  -output_error1 - 0.005 trtd1_entry <= 0\n",
      "  -output_trtd1 + output_trtd2 = 0\n",
      "  output_trtd1 - trtd1_entry = 0\n",
      "  -output_trtd2 + output_trtd3 = 0\n",
      "]\n",
      "\n"
     ]
    }
   ],
   "source": [
    "print(show_contract(ns.l1.steps1234))"
   ]
  }
 ],
 "metadata": {
  "kernelspec": {
   "display_name": ".venv",
   "language": "python",
   "name": "python3"
  },
  "language_info": {
   "codemirror_mode": {
    "name": "ipython",
    "version": 3
   },
   "file_extension": ".py",
   "mimetype": "text/x-python",
   "name": "python",
   "nbconvert_exporter": "python",
   "pygments_lexer": "ipython3",
   "version": "3.11.2"
  },
  "orig_nbformat": 4
 },
 "nbformat": 4,
 "nbformat_minor": 2
}
