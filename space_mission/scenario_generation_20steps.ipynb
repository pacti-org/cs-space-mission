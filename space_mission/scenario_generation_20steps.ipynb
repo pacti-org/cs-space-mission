{
 "cells": [
  {
   "cell_type": "code",
   "execution_count": 1,
   "metadata": {},
   "outputs": [],
   "source": [
    "%matplotlib widget\n",
    "\n",
    "import time\n",
    "from pacti.terms.polyhedra import PolyhedralContract\n",
    "from pacti_instrumentation.pacti_counters import summarize_instrumentation_data\n",
    "import numpy as np\n",
    "from contract_utils import *\n",
    "from generators import *\n",
    "\n",
    "from p_tqdm import p_umap\n",
    "from scipy.stats import qmc\n",
    "\n",
    "import pickle"
   ]
  },
  {
   "attachments": {},
   "cell_type": "markdown",
   "metadata": {},
   "source": [
    "This notebook demonstrates generating scenarios by varying the hyper-parameters of specific system functions (`dsn`, `chrg`, `sbo`, `tcm_h`, and `tcm_db`) as described below:"
   ]
  },
  {
   "cell_type": "code",
   "execution_count": 2,
   "metadata": {},
   "outputs": [],
   "source": [
    "# lower bounds for design hyperparameters\n",
    "l_bounds = [\n",
    "    2.0,  # power: min dns cons\n",
    "    2.5,  # power: min chrg gen\n",
    "    0.3,  # power: min sbo cons\n",
    "    0.2,  # power: min tcm_h cons\n",
    "    0.1,  # power: min tcm_dv cons\n",
    "    5.0,  # science: min dsn speed\n",
    "    2.0,  # science: min sbo gen\n",
    "    1.0,  # nav: min dsn noise\n",
    "    1.0,  # nav: min chrg noise\n",
    "    0.5,  # nav: min sbo imp\n",
    "    1.2,  # nav: min tcm_dv noise\n",
    "    0.3,  # nav: min tcm_dv progress\n",
    "]\n",
    "# upper bounds for design hyperparameters\n",
    "u_bounds = [\n",
    "    2.2,  # power: max dns cons\n",
    "    3.5,  # power: max chrg gen\n",
    "    0.4,  # power: max sbo cons\n",
    "    0.3,  # power: max tcm_h cons\n",
    "    0.2,  # power: max tcm_dv cons\n",
    "    6.0,  # science: max dsn speed\n",
    "    8.0,  # science: max sbo gen\n",
    "    1.2,  # nav: max dsn noise\n",
    "    1.2,  # nav: max chrg noise\n",
    "    0.8,  # nav: max sbo imp\n",
    "    1.4,  # nav: max tcm_dv noise\n",
    "    0.5,  # nav: max tcm_dv progress\n",
    "]"
   ]
  },
  {
   "attachments": {},
   "cell_type": "markdown",
   "metadata": {},
   "source": [
    "We use the Latin Hypercube sampler to generate `n20` random combinations of hyper-parameters. We exploit as much parallelism as available on the machine to generate 20-step scenarios for each combination, which requires creating 115 contracts combined via 63 contract composition and 50 contract merge operations. The results show that Pacti's operations for constructing contracts scale very well. "
   ]
  },
  {
   "cell_type": "code",
   "execution_count": 3,
   "metadata": {},
   "outputs": [
    {
     "data": {
      "image/png": "[encoded data removed]",
      "text/plain": [
       "<IPython.core.display.Image object>"
      ]
     },
     "metadata": {},
     "output_type": "display_data"
    },
    {
     "data": {
      "application/vnd.jupyter.widget-view+json": {
       "model_id": "c662265ad16b4b30836d27ce22d9535b",
       "version_major": 2,
       "version_minor": 0
      },
      "text/plain": [
       "Output()"
      ]
     },
     "metadata": {},
     "output_type": "display_data"
    },
    {
     "name": "stdout",
     "output_type": "stream",
     "text": [
      "Generated 200 hyperparameter variations of the 20-step scenario in 188.27585864067078 seconds.\n",
      "Running on AMD Ryzen Threadripper PRO 3955WX 16-Cores @ 3.8927 GHz with up to 32 threads.\n",
      "Pacti compose,quotient,merge statistics:\n",
      "compose invocation counts: (min: 51, max: 51, avg: 51.0, total: 10200)\n",
      "min/max compose contract size: (constraints: 6, variables: 3)/(constraints: 185, variables: 95)\n",
      "no quotient operations\n",
      "merge invocation counts: (min: 40, max: 40, avg: 40.0, total: 8000)\n",
      "min/max merge contract size: (constraints: 3, variables: 2)/(constraints: 45, variables: 23)\n",
      "Pacti PolyhedralTermList statistics:\n",
      "no contains_behavior operations\n",
      "Pacti PolyhedralCompoundContract statistics:\n",
      "no compound_merge operations\n",
      "\n"
     ]
    }
   ],
   "source": [
    "mean_sampler = qmc.LatinHypercube(d=len(l_bounds))\n",
    "dev_sampler = qmc.LatinHypercube(d=len(l_bounds))\n",
    "\n",
    "n20 = 200\n",
    "mean_sample20: np.ndarray = mean_sampler.random(n=n20)\n",
    "scaled_mean_sample20: np.ndarray = qmc.scale(sample=mean_sample20, l_bounds=l_bounds, u_bounds=u_bounds)\n",
    "dev_sample20: np.ndarray = dev_sampler.random(n=n20)\n",
    "\n",
    "from pacti_instrumentation.cpu_usage_plot import cpu_usage_plot\n",
    "with cpu_usage_plot(max_data_points=800, finally_clear_output=True):\n",
    "    ta = time.time()\n",
    "    results: List[Tuple[PactiInstrumentationData, List[tuple2float], PolyhedralContract]] = p_umap(generate_20step_scenario, list(zip(scaled_mean_sample20, dev_sample20)))\n",
    "    tb = time.time()\n",
    "\n",
    "\n",
    "stats = summarize_instrumentation_data([result[0] for result in results])\n",
    "scenarios20 = [result[1:3] for result in results if result[1]]\n",
    "\n",
    "print(\n",
    "    f\"Generated {n20} hyperparameter variations of the 20-step scenario in {tb-ta} seconds.\\n\"\n",
    "    f\"Running on {cpu_info_message}\\n\"\n",
    "    f\"{stats.stats()}\"\n",
    ")\n",
    "s = open(\"scenarios20.data\", \"wb\")\n",
    "pickle.dump(scenarios20, s)\n",
    "s.close()\n"
   ]
  }
 ],
 "metadata": {
  "kernelspec": {
   "display_name": ".venv",
   "language": "python",
   "name": "python3"
  },
  "language_info": {
   "codemirror_mode": {
    "name": "ipython",
    "version": 3
   },
   "file_extension": ".py",
   "mimetype": "text/x-python",
   "name": "python",
   "nbconvert_exporter": "python",
   "pygments_lexer": "ipython3",
   "version": "3.11.2"
  },
  "orig_nbformat": 4
 },
 "nbformat": 4,
 "nbformat_minor": 2
}
