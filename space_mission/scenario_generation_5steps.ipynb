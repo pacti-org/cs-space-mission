{
 "cells": [
  {
   "cell_type": "code",
   "execution_count": 1,
   "metadata": {},
   "outputs": [],
   "source": [
    "%matplotlib inline\n",
    "\n",
    "import platform\n",
    "import psutil\n",
    "import time\n",
    "from pacti.terms.polyhedra import *\n",
    "import os\n",
    "import numpy as np\n",
    "from contract_utils import *\n",
    "from generators import *\n",
    "\n",
    "from p_tqdm import p_umap\n",
    "from scipy.stats import qmc\n",
    "\n",
    "import pickle\n",
    "from pathos.helpers import cpu_count"
   ]
  },
  {
   "cell_type": "code",
   "execution_count": 2,
   "metadata": {},
   "outputs": [],
   "source": [
    "# lower bounds for design hyperparameters\n",
    "l_bounds = [\n",
    "    2.0,  # power: min dns cons\n",
    "    2.5,  # power: min chrg gen\n",
    "    0.3,  # power: min sbo cons\n",
    "    0.2,  # power: min tcm_h cons\n",
    "    0.1,  # power: min tcm_dv cons\n",
    "    5.0,  # science: min dsn speed\n",
    "    2.0,  # science: min sbo gen\n",
    "    1.0,  # nav: min dsn noise\n",
    "    1.0,  # nav: min chrg noise\n",
    "    0.5,  # nav: min sbo imp\n",
    "    1.2,  # nav: min tcm_dv noise\n",
    "    0.3,  # nav: min tcm_dv progress\n",
    "]\n",
    "# upper bounds for design hyperparameters\n",
    "u_bounds = [\n",
    "    2.2,  # power: max dns cons\n",
    "    3.5,  # power: max chrg gen\n",
    "    0.4,  # power: max sbo cons\n",
    "    0.3,  # power: max tcm_h cons\n",
    "    0.2,  # power: max tcm_dv cons\n",
    "    6.0,  # science: max dsn speed\n",
    "    8.0,  # science: max sbo gen\n",
    "    1.2,  # nav: max dsn noise\n",
    "    1.2,  # nav: max chrg noise\n",
    "    0.8,  # nav: max sbo imp\n",
    "    1.4,  # nav: max tcm_dv noise\n",
    "    0.5,  # nav: max tcm_dv progress\n",
    "]"
   ]
  },
  {
   "cell_type": "code",
   "execution_count": 3,
   "metadata": {},
   "outputs": [
    {
     "data": {
      "application/vnd.jupyter.widget-view+json": {
       "model_id": "19994926e31244758a80e5d55b22e1b5",
       "version_major": 2,
       "version_minor": 0
      },
      "text/plain": [
       "Output()"
      ]
     },
     "metadata": {},
     "output_type": "display_data"
    },
    {
     "name": "stdout",
     "output_type": "stream",
     "text": [
      "Generating 200 hyperparameter variations of the 5-step scenario.\n",
      "Running on AMD Ryzen Threadripper PRO 3955WX 16-Cores @ 3.8927 GHz with up to 32 threads..\n"
     ]
    },
    {
     "data": {
      "application/vnd.jupyter.widget-view+json": {
       "model_id": "cc8c5712112c4054b652406199790e61",
       "version_major": 2,
       "version_minor": 0
      },
      "text/plain": [
       "  0%|          | 0/200 [00:00<?, ?it/s]"
      ]
     },
     "metadata": {},
     "output_type": "display_data"
    },
    {
     "name": "stdout",
     "output_type": "stream",
     "text": [
      "All 200 hyperparameter variations of the 5-step scenario sequence generated\n",
      "Total time 15.753626823425293 seconds .\n",
      "Total count of Pacti operations for each 5-step scenario: 23 contracts, 12 compositions, and 10 merges\n"
     ]
    }
   ],
   "source": [
    "from cpu_usage_plot import *\n",
    "with cpu_usage_plot():\n",
    "    mean_sampler = qmc.LatinHypercube(d=len(l_bounds))\n",
    "    dev_sampler = qmc.LatinHypercube(d=len(l_bounds))\n",
    "\n",
    "    n5 = 200\n",
    "    mean_sample5: np.ndarray = mean_sampler.random(n=n5)\n",
    "    scaled_mean_sample5: np.ndarray = qmc.scale(sample=mean_sample5, l_bounds=l_bounds, u_bounds=u_bounds)\n",
    "    dev_sample5: np.ndarray = dev_sampler.random(n=n5)\n",
    "\n",
    "    nb_5step_operations = OperationCounts(contracts=23, compositions=12, merges=10)\n",
    "\n",
    "    mean_devs = list(zip(scaled_mean_sample5, dev_sample5))\n",
    "    print(f\"Generating {len(mean_devs)} hyperparameter variations of the 5-step scenario.\")\n",
    "    print(f\"Running on {cpu_info_message}.\")\n",
    "    ta = time.time()\n",
    "    scenarios5: List[Tuple[List[tuple2float], PolyhedralContract]] = p_umap(\n",
    "        lambda md: make_scenario(1, md[0], md[1], True), mean_devs\n",
    "    )\n",
    "    tb = time.time()\n",
    "\n",
    "    if scenarios5:\n",
    "        print(\n",
    "            f\"All {len(scenarios5)} hyperparameter variations of the 5-step scenario sequence generated\\n\"\n",
    "            f\"Total time {tb-ta} seconds .\\n\"\n",
    "            f\"Total count of Pacti operations for each 5-step scenario: {nb_5step_operations}\"\n",
    "        )\n",
    "        s = open(\"scenarios5.data\", \"wb\")\n",
    "        pickle.dump(scenarios5, s)\n",
    "        s.close()"
   ]
  }
 ],
 "metadata": {
  "kernelspec": {
   "display_name": ".venv",
   "language": "python",
   "name": "python3"
  },
  "language_info": {
   "codemirror_mode": {
    "name": "ipython",
    "version": 3
   },
   "file_extension": ".py",
   "mimetype": "text/x-python",
   "name": "python",
   "nbconvert_exporter": "python",
   "pygments_lexer": "ipython3",
   "version": "3.11.2"
  },
  "orig_nbformat": 4
 },
 "nbformat": 4,
 "nbformat_minor": 2
}
