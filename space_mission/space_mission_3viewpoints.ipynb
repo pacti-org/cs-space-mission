{
 "cells": [
  {
   "cell_type": "code",
   "execution_count": 1,
   "metadata": {},
   "outputs": [],
   "source": [
    "%matplotlib widget\n",
    "\n",
    "from pacti.terms.polyhedra import *\n",
    "from pacti.utils import read_contracts_from_file\n",
    "from contract_utils import *"
   ]
  },
  {
   "attachments": {},
   "cell_type": "markdown",
   "metadata": {},
   "source": [
    "## Scenario design analysis across viewpoints\n",
    "\n",
    "Operating a space mission system requires allocating resources among tasks in order to satisfy operational requirements across multiple domain-specific viewpoints. For this case study, we developed scenarios in 4 viewpoints as summarized qualitative in the table below: \n",
    "\n",
    "| Viewpoint  | State | CHARGING | DSN | SBO | TCM |\n",
    "|:----------:|:-----:|:--------:|:---:|:---:|:---:|\n",
    "| Power      | `soc` |   +      |  -  |  -  |  -  |\n",
    "| Science    | `d`   |   0      |  -  |  +  |  0  |\n",
    "|            | `c`   |   0      |  0  |  +  |  0  |\n",
    "| Navigation | `u`   |   +      |  +  |  -  |  +  |\n",
    "|            | `r`   |   0      |  0  |  0  |  +  |\n",
    "| Thermal    | `temp`|   -      |  -  |  -  |  +  |\n",
    "\n",
    "The specification of the thermal scenario helped us realize that there are no significant thermal interactions among the scenario tasks that would constraint possible schedules. Therefore, it makes sense to omit the thermal viewpoint for the scenario analysis, leaving power, science & communication, and navigation as the significant viewpoints to use for optimizing the scenario design.\n",
    "\n",
    "Now, we need to gather operational requirements for each of the three viewpoints.\n",
    "\n",
    "### Operational requirements by viewpoint\n",
    "\n",
    "Here, we adopt a simple methodology for exploring admissible scenario schedules as sets of possible solutions to the duration of each task. The idea is to elicit operational requirements as constraints on the entry/exit scenario state variables. We use a forcing technique to ensure that admissible solutions correspond to schedules where each task has a positive scheduled duration.\n",
    "\n",
    "#### Power\n",
    "\n",
    "The following specification defines a conservative operational regime that requires the battery state of charge to be at minimum 40% based on an initial state of charge of 80%; we force a non-trivial schedule by requiring that the duration of each task be no less than 10 units.\n"
   ]
  },
  {
   "cell_type": "code",
   "execution_count": 2,
   "metadata": {},
   "outputs": [],
   "source": [
    "op_req_pwr1=PolyhedralContract.from_string(\n",
    "    input_vars=[\n",
    "        \"soc1_entry\",\n",
    "        \"duration_dsn1\",\n",
    "        \"duration_charging2\",\n",
    "        \"duration_sbo3\",\n",
    "        \"duration_tcm_heating4\",\n",
    "        \"duration_tcm_deltav5\",\n",
    "    ],\n",
    "    output_vars=[\n",
    "        \"output_soc1\",\n",
    "        \"output_soc2\",\n",
    "        \"output_soc3\",\n",
    "        \"output_soc4\",\n",
    "        \"output_soc5\"\n",
    "    ],\n",
    "    assumptions=[\n",
    "        \"soc1_entry=80\",\n",
    "        \"duration_dsn1 >= 10\",\n",
    "        \"duration_charging2 >= 10\",\n",
    "        \"duration_sbo3 >= 10\",\n",
    "        \"duration_tcm_heating4 >= 10\",\n",
    "        \"duration_tcm_deltav5 >= 10\",\n",
    "    ],\n",
    "    guarantees=[\n",
    "        \"output_soc1 >= 40\",\n",
    "        \"output_soc2 >= 40\",\n",
    "        \"output_soc3 >= 40\",\n",
    "        \"output_soc4 >= 40\",\n",
    "        \"output_soc5 >= 40\",\n",
    "    ])"
   ]
  },
  {
   "attachments": {},
   "cell_type": "markdown",
   "metadata": {},
   "source": [
    "The following specification defines a aggressive operational regime that requires the battery state of charge to be at minimum 10% based on an initial state of charge of 80%; we force a non-trivial schedule by requiring that the duration of each task be no less than 10 units."
   ]
  },
  {
   "cell_type": "code",
   "execution_count": 3,
   "metadata": {},
   "outputs": [],
   "source": [
    "op_req_pwr2=PolyhedralContract.from_string(\n",
    "    input_vars=[\n",
    "        \"soc1_entry\",\n",
    "        \"duration_dsn1\",\n",
    "        \"duration_charging2\",\n",
    "        \"duration_sbo3\",\n",
    "        \"duration_tcm_heating4\",\n",
    "        \"duration_tcm_deltav5\",\n",
    "    ],\n",
    "    output_vars=[\n",
    "        \"output_soc1\",\n",
    "        \"output_soc2\",\n",
    "        \"output_soc3\",\n",
    "        \"output_soc4\",\n",
    "        \"output_soc5\"\n",
    "    ],\n",
    "    assumptions=[\n",
    "        \"soc1_entry=80\",\n",
    "        \"duration_dsn1 >= 10\",\n",
    "        \"duration_charging2 >= 10\",\n",
    "        \"duration_sbo3 >= 10\",\n",
    "        \"duration_tcm_heating4 >= 10\",\n",
    "        \"duration_tcm_deltav5 >= 10\",\n",
    "    ],\n",
    "    guarantees=[\n",
    "        \"output_soc1 >= 10\",\n",
    "        \"output_soc2 >= 10\",\n",
    "        \"output_soc3 >= 10\",\n",
    "        \"output_soc4 >= 10\",\n",
    "        \"output_soc5 >= 10\",\n",
    "    ]\n",
    ")"
   ]
  },
  {
   "attachments": {},
   "cell_type": "markdown",
   "metadata": {},
   "source": [
    "#### Science & Communication\n",
    "\n",
    "It is useful to calculate how much science the avionics capability can deliver. For this, the following operational requirement specifies the initial conditions only. As before,  we force a non-trivial schedule by requiring that the duration of each task be no less than 10 units."
   ]
  },
  {
   "cell_type": "code",
   "execution_count": 4,
   "metadata": {},
   "outputs": [],
   "source": [
    "op_req_sci0=PolyhedralContract.from_string(\n",
    "    input_vars=[\n",
    "        \"c1_entry\",\n",
    "        \"d1_entry\",\n",
    "        \"duration_dsn1\",\n",
    "        \"duration_charging2\",\n",
    "        \"duration_sbo3\",\n",
    "        \"duration_tcm_heating4\",\n",
    "        \"duration_tcm_deltav5\",\n",
    "    ],\n",
    "    output_vars=[\n",
    "        \"output_c5\",\n",
    "        \"output_d5\",\n",
    "    ],\n",
    "    assumptions=[\n",
    "        \"c1_entry = 0\",\n",
    "        \"d1_entry = 100\",\n",
    "        \"duration_dsn1 >= 10\",\n",
    "        \"duration_charging2 >= 10\",\n",
    "        \"duration_sbo3 >= 10\",\n",
    "        \"duration_tcm_heating4 >= 10\",\n",
    "        \"duration_tcm_deltav5 >= 10\",\n",
    "    ],\n",
    "    guarantees=[\n",
    "    ]\n",
    ")"
   ]
  },
  {
   "attachments": {},
   "cell_type": "markdown",
   "metadata": {},
   "source": [
    "\n",
    "The following specification defines a conservative operational regime that requires the spacecraft to downlink at least 50% of its onboard science data storage while acquiring at least 60 units of science data from the initial conditions defined above. "
   ]
  },
  {
   "cell_type": "code",
   "execution_count": 5,
   "metadata": {},
   "outputs": [],
   "source": [
    "op_req_sci1=op_req_sci0.merge(PolyhedralContract.from_string(\n",
    "    input_vars=[],\n",
    "    output_vars=[\n",
    "        \"output_c5\",\n",
    "        \"output_d5\",\n",
    "    ],\n",
    "    assumptions=[],\n",
    "    guarantees=[\n",
    "        \"output_c5 >= 20\",\n",
    "        \"output_d5 >= 30\",\n",
    "    ]\n",
    "))"
   ]
  },
  {
   "attachments": {},
   "cell_type": "markdown",
   "metadata": {},
   "source": [
    "The following specification defines an aggressive operational regime that requires the spacecraft to downlink at least 90% of its onboard science data storage while acquiring at least 80 units of science data from the initial conditions defined above."
   ]
  },
  {
   "cell_type": "code",
   "execution_count": 6,
   "metadata": {},
   "outputs": [],
   "source": [
    "op_req_sci2=op_req_sci0.merge(PolyhedralContract.from_string(\n",
    "    input_vars=[],\n",
    "    output_vars=[\n",
    "        \"output_c5\",\n",
    "        \"output_d5\",\n",
    "    ],\n",
    "    assumptions=[],\n",
    "    guarantees=[\n",
    "        \"output_c5 >= 80\",\n",
    "        \"output_d5 >= 90\",\n",
    "    ]\n",
    "))"
   ]
  },
  {
   "attachments": {},
   "cell_type": "markdown",
   "metadata": {},
   "source": [
    "#### Navigation\n",
    "\n",
    "The following specification defines a conservative operational regime that requires the spacecraft to reduce navigation uncertainty to below 40% from an initial level of 70% and to reduce trajectory relative distance to below 80% starting from an inital level of 100%. As before,  we force a non-trivial schedule by requiring that the duration of each task be no less than 10 units."
   ]
  },
  {
   "cell_type": "code",
   "execution_count": 7,
   "metadata": {},
   "outputs": [],
   "source": [
    "op_req_nav1=PolyhedralContract.from_string(\n",
    "    input_vars=[\n",
    "        \"u1_entry\",\n",
    "        \"r1_entry\",\n",
    "        \"duration_dsn1\",\n",
    "        \"duration_charging2\",\n",
    "        \"duration_sbo3\",\n",
    "        \"duration_tcm_heating4\",\n",
    "        \"duration_tcm_deltav5\",\n",
    "    ],\n",
    "    output_vars=[\n",
    "        \"output_u5\",\n",
    "        \"output_r5\",\n",
    "    ],\n",
    "    assumptions=[\n",
    "        \"u1_entry = 30\",\n",
    "        \"r1_entry = 100\",\n",
    "        \"duration_dsn1 >= 10\",\n",
    "        \"duration_charging2 >= 10\",\n",
    "        \"duration_sbo3 >= 10\",\n",
    "        \"duration_tcm_heating4 >= 10\",\n",
    "        \"duration_tcm_deltav5 >= 10\",\n",
    "    ],\n",
    "    guarantees=[\n",
    "        \"output_u5 <= 80\",\n",
    "        \"output_r5 <= 80\",\n",
    "    ]\n",
    ")"
   ]
  },
  {
   "attachments": {},
   "cell_type": "markdown",
   "metadata": {},
   "source": [
    "The following specification defines an aggressive operational regime that requires the spacecraft to reduce navigation uncertainty to below 20% from an initial level of 70% and to reduce trajectory relative distance to below 70% starting from an inital level of 100%. As before,  we force a non-trivial schedule by requiring that the duration of each task be no less than 10 units."
   ]
  },
  {
   "cell_type": "code",
   "execution_count": 8,
   "metadata": {},
   "outputs": [],
   "source": [
    "op_req_nav2=PolyhedralContract.from_string(\n",
    "    input_vars=[\n",
    "        \"u1_entry\",\n",
    "        \"r1_entry\",\n",
    "        \"duration_dsn1\",\n",
    "        \"duration_charging2\",\n",
    "        \"duration_sbo3\",\n",
    "        \"duration_tcm_heating4\",\n",
    "        \"duration_tcm_deltav5\",\n",
    "    ],\n",
    "    output_vars=[\n",
    "        \"output_u5\",\n",
    "        \"output_r5\",\n",
    "    ],\n",
    "    assumptions=[\n",
    "        \"u1_entry = 30\",\n",
    "        \"r1_entry = 80\",\n",
    "        \"duration_dsn1 >= 10\",\n",
    "        \"duration_charging2 >= 10\",\n",
    "        \"duration_sbo3 >= 10\",\n",
    "        \"duration_tcm_heating4 >= 10\",\n",
    "        \"duration_tcm_deltav5 >= 10\",\n",
    "    ],\n",
    "    guarantees=[\n",
    "        \"output_u5 <= 80\",\n",
    "        \"output_r5 <= 70\",\n",
    "    ]\n",
    ")"
   ]
  },
  {
   "attachments": {},
   "cell_type": "markdown",
   "metadata": {},
   "source": [
    "## Exploring combinations of operational scenario requirements\n",
    "\n",
    "So far, we have defined conservative and aggressive operational requirements for each viewpoint. We can exploit the commutativity property of Pacti's contract merge operation to explore combinations of these requirements.\n",
    "\n",
    "The first step involves reading the viewpoint-specific scenarios from their respective viewpoint-specific scenario case studies as shown below:"
   ]
  },
  {
   "cell_type": "code",
   "execution_count": 9,
   "metadata": {},
   "outputs": [],
   "source": [
    "scenario_pwr = read_contracts_from_file(file_name=\"json/scenario_power.json\")[0][1]\n",
    "scenario_sci = read_contracts_from_file(file_name=\"json/scenario_science.json\")[0][1]\n",
    "scenario_nav = read_contracts_from_file(file_name=\"json/scenario_nav.json\")[0][1]"
   ]
  },
  {
   "attachments": {},
   "cell_type": "markdown",
   "metadata": {},
   "source": [
    "Next, we explore algebraic combinations of scenarios and operational requirements with the confidence that the order in which we merge the requirements and scenarios is irrelevant. This flexibility gives an opportunity for collaborative design exploration where different teams could explore merging different combinations of viewpoints and requirement variants (e.g., conservative vs. aggressive)."
   ]
  },
  {
   "cell_type": "code",
   "execution_count": 10,
   "metadata": {},
   "outputs": [
    {
     "name": "stdout",
     "output_type": "stream",
     "text": [
      "all_scenarios:\n",
      "InVars: [soc1_entry, duration_dsn1, duration_charging2, duration_sbo3, duration_tcm_heating4, duration_tcm_deltav5, d1_entry, c1_entry, u1_entry, r1_entry]\n",
      "OutVars:[output_soc4, output_soc3, output_soc2, output_soc1, output_soc5, output_d4, output_c4, output_d3, output_c3, output_d2, output_c2, output_d1, output_c1, output_d5, output_c5, output_u4, output_r4, output_u3, output_r3, output_u2, output_r2, output_u1, output_r1, output_u5, output_r5]\n",
      "A: [\n",
      "  -duration_tcm_deltav5 <= -0\n",
      "  -4 duration_charging2 + 2.2 duration_dsn1 + 0.2 duration_sbo3 + 0.3 duration_tcm_deltav5 + 0.8 duration_tcm_heating4 - soc1_entry <= -0\n",
      "  -duration_tcm_heating4 <= -0\n",
      "  -duration_sbo3 <= -0\n",
      "  -duration_charging2 <= -0\n",
      "  5 duration_charging2 - 2 duration_dsn1 + soc1_entry <= 100\n",
      "  -duration_dsn1 <= -0\n",
      "  soc1_entry <= 100\n",
      "  2.2 duration_dsn1 - soc1_entry <= -0\n",
      "  d1_entry - 5.2 duration_dsn1 + 4 duration_sbo3 <= 100\n",
      "  -d1_entry <= -0\n",
      "  d1_entry <= 100\n",
      "  -c1_entry <= -0\n",
      "  -u1_entry <= -0\n",
      "  u1_entry <= 100\n",
      "  -r1_entry <= -0\n",
      "  r1_entry <= 100\n",
      "]\n",
      "G: [\n",
      "  2 duration_dsn1 + output_soc1 - soc1_entry <= 0\n",
      "  -2.2 duration_dsn1 - output_soc1 + soc1_entry <= 0\n",
      "  4 duration_charging2 + output_soc1 - output_soc2 <= 0\n",
      "  -5 duration_charging2 - output_soc1 + output_soc2 <= 0\n",
      "  0.1 duration_sbo3 - output_soc2 + output_soc3 <= 0\n",
      "  -0.2 duration_sbo3 + output_soc2 - output_soc3 <= 0\n",
      "  0.7 duration_tcm_heating4 - output_soc3 + output_soc4 <= 0\n",
      "  -0.8 duration_tcm_heating4 + output_soc3 - output_soc4 <= 0\n",
      "  0.2 duration_tcm_deltav5 - output_soc4 + output_soc5 <= 0\n",
      "  -0.3 duration_tcm_deltav5 + output_soc4 - output_soc5 <= 0\n",
      "  -d1_entry + 5.2 duration_dsn1 + output_d1 <= 0\n",
      "  d1_entry - 5.5 duration_dsn1 - output_d1 <= 0\n",
      "  -output_d1 <= 0\n",
      "  -c1_entry + output_c1 = 0\n",
      "  -output_d1 + output_d2 = 0\n",
      "  -output_c1 + output_c2 = 0\n",
      "  3 duration_sbo3 + output_d2 - output_d3 <= 0\n",
      "  -4 duration_sbo3 - output_d2 + output_d3 <= 0\n",
      "  3 duration_sbo3 + output_c2 - output_c3 <= 0\n",
      "  -4 duration_sbo3 - output_c2 + output_c3 <= 0\n",
      "  -output_d3 + output_d4 = 0\n",
      "  -output_c3 + output_c4 = 0\n",
      "  -output_d4 + output_d5 = 0\n",
      "  -output_c4 + output_c5 = 0\n",
      "  output_u1 - u1_entry <= 1.2\n",
      "  -output_u1 + u1_entry <= -1.1\n",
      "  output_r1 - r1_entry = 0\n",
      "  output_u2 <= 100\n",
      "  -output_u1 + output_u2 <= 1.1\n",
      "  output_u1 - output_u2 <= -1\n",
      "  -output_r1 + output_r2 = 0\n",
      "  -0.6 duration_sbo3 + output_u2 - output_u3 <= 0\n",
      "  0.5 duration_sbo3 - output_u2 + output_u3 <= 0\n",
      "  -output_u3 <= 0\n",
      "  -output_r2 + output_r3 = 0\n",
      "  -output_u3 + output_u4 = 0\n",
      "  -output_r3 + output_r4 = 0\n",
      "  output_u5 <= 100\n",
      "  -1.6 duration_tcm_deltav5 - output_u4 + output_u5 <= 0\n",
      "  1.5 duration_tcm_deltav5 + output_u4 - output_u5 <= 0\n",
      "  -0.5 duration_tcm_deltav5 + output_r4 - output_r5 <= 0\n",
      "  0.4 duration_tcm_deltav5 - output_r4 + output_r5 <= 0\n",
      "  -output_r5 <= 0\n",
      "]\n"
     ]
    }
   ],
   "source": [
    "all_scenarios = scenario_pwr.merge(scenario_sci).merge(scenario_nav)\n",
    "print(f\"all_scenarios:\\n{all_scenarios}\")"
   ]
  },
  {
   "attachments": {},
   "cell_type": "markdown",
   "metadata": {},
   "source": [
    "Next, we check whether there exists an admissible set of scenario schedules for all conservative operational requirements."
   ]
  },
  {
   "cell_type": "code",
   "execution_count": 11,
   "metadata": {},
   "outputs": [
    {
     "name": "stdout",
     "output_type": "stream",
     "text": [
      "ok\n"
     ]
    }
   ],
   "source": [
    "a1_p = all_scenarios.merge(op_req_pwr1)\n",
    "a1_s = all_scenarios.merge(op_req_sci1)\n",
    "a1_n = all_scenarios.merge(op_req_nav1)\n",
    "a1_ps = a1_p.merge(op_req_sci1)\n",
    "a1_pn = a1_p.merge(op_req_nav1)\n",
    "a1_sn = a1_s.merge(op_req_nav1)\n",
    "print(\"ok\")\n"
   ]
  },
  {
   "cell_type": "code",
   "execution_count": 12,
   "metadata": {},
   "outputs": [
    {
     "name": "stdout",
     "output_type": "stream",
     "text": [
      " input c1_entry in [None,None]\n",
      " input d1_entry in [100.00,100.00]\n",
      " input duration_charging2 in [10.00,11.69]\n",
      " input duration_dsn1 in [15.00,19.23]\n",
      " input duration_sbo3 in [10.00,25.00]\n",
      " input duration_tcm_deltav5 in [10.00,66.67]\n",
      " input duration_tcm_heating4 in [10.00,81.43]\n",
      " input r1_entry in [4.00,100.00]\n",
      " input soc1_entry in [80.00,80.00]\n",
      " input u1_entry in [2.70,97.90]\n",
      "output output_c1 in [None,None]\n",
      "output output_c2 in [None,None]\n",
      "output output_c3 in [30.00,100.00]\n",
      "output output_c4 in [30.00,100.00]\n",
      "output output_c5 in [30.00,100.00]\n",
      "output output_d1 in [None,22.00]\n",
      "output output_d2 in [None,22.00]\n",
      "output output_d3 in [30.00,100.00]\n",
      "output output_d4 in [30.00,100.00]\n",
      "output output_d5 in [30.00,100.00]\n",
      "output output_r1 in [4.00,100.00]\n",
      "output output_r2 in [4.00,100.00]\n",
      "output output_r3 in [4.00,100.00]\n",
      "output output_r4 in [4.00,100.00]\n",
      "output output_r5 in [None,96.00]\n",
      "output output_soc1 in [40.00,50.00]\n",
      "output output_soc2 in [80.00,100.00]\n",
      "output output_soc3 in [75.00,99.00]\n",
      "output output_soc4 in [42.00,92.00]\n",
      "output output_soc5 in [40.00,90.00]\n",
      "output output_u1 in [3.90,99.00]\n",
      "output output_u2 in [5.00,100.00]\n",
      "output output_u3 in [None,85.00]\n",
      "output output_u4 in [None,85.00]\n",
      "output output_u5 in [15.00,100.00]\n"
     ]
    }
   ],
   "source": [
    "print('\\n'.join(bounds(a1_ps)))"
   ]
  },
  {
   "cell_type": "code",
   "execution_count": 13,
   "metadata": {},
   "outputs": [
    {
     "name": "stdout",
     "output_type": "stream",
     "text": [
      " input c1_entry in [None,None]\n",
      " input d1_entry in [78.00,100.00]\n",
      " input duration_charging2 in [10.00,11.69]\n",
      " input duration_dsn1 in [15.00,19.23]\n",
      " input duration_sbo3 in [20.17,25.00]\n",
      " input duration_tcm_deltav5 in [40.00,41.93]\n",
      " input duration_tcm_heating4 in [10.00,71.40]\n",
      " input r1_entry in [100.00,100.00]\n",
      " input soc1_entry in [80.00,80.00]\n",
      " input u1_entry in [30.00,30.00]\n",
      "output output_c1 in [None,None]\n",
      "output output_c2 in [None,None]\n",
      "output output_c3 is unsatisfiable\n",
      "output output_c4 is unsatisfiable\n",
      "output output_c5 in [60.50,None]\n",
      "output output_d1 in [None,19.33]\n",
      "output output_d2 in [None,19.33]\n",
      "output output_d3 in [60.50,100.00]\n",
      "output output_d4 in [60.50,100.00]\n",
      "output output_d5 in [60.50,100.00]\n",
      "output output_r1 in [100.00,100.00]\n",
      "output output_r2 in [100.00,100.00]\n",
      "output output_r3 in [100.00,100.00]\n",
      "output output_r4 in [100.00,100.00]\n",
      "output output_r5 in [79.03,80.00]\n",
      "output output_soc1 in [40.00,50.00]\n",
      "output output_soc2 in [80.00,100.00]\n",
      "output output_soc3 in [75.00,97.98]\n",
      "output output_soc4 in [48.00,90.98]\n",
      "output output_soc5 in [40.00,82.98]\n",
      "output output_u1 in [31.10,31.20]\n",
      "output output_u2 in [32.10,32.30]\n",
      "output output_u3 in [17.10,20.00]\n",
      "output output_u4 in [17.10,20.00]\n",
      "output output_u5 in [77.10,80.00]\n"
     ]
    }
   ],
   "source": [
    "print('\\n'.join(bounds(a1_pn)))"
   ]
  },
  {
   "cell_type": "code",
   "execution_count": 14,
   "metadata": {},
   "outputs": [
    {
     "name": "stdout",
     "output_type": "stream",
     "text": [
      " input c1_entry in [None,None]\n",
      " input d1_entry in [100.00,100.00]\n",
      " input duration_charging2 in [10.00,19.38]\n",
      " input duration_dsn1 in [15.51,19.23]\n",
      " input duration_sbo3 in [20.17,25.00]\n",
      " input duration_tcm_deltav5 in [40.00,41.93]\n",
      " input duration_tcm_heating4 in [10.00,88.58]\n",
      " input r1_entry in [100.00,100.00]\n",
      " input soc1_entry in [34.13,88.46]\n",
      " input u1_entry in [30.00,30.00]\n",
      "output output_c1 in [None,None]\n",
      "output output_c2 in [None,None]\n",
      "output output_c3 in [60.50,100.00]\n",
      "output output_c4 in [60.50,100.00]\n",
      "output output_c5 in [60.50,100.00]\n",
      "output output_d1 in [None,19.33]\n",
      "output output_d2 in [None,19.33]\n",
      "output output_d3 in [60.50,100.00]\n",
      "output output_d4 in [60.50,100.00]\n",
      "output output_d5 in [60.50,100.00]\n",
      "output output_r1 in [100.00,100.00]\n",
      "output output_r2 in [100.00,100.00]\n",
      "output output_r3 in [100.00,100.00]\n",
      "output output_r4 in [100.00,100.00]\n",
      "output output_r5 in [79.03,80.00]\n",
      "output output_soc1 in [None,50.00]\n",
      "output output_soc2 in [40.00,100.00]\n",
      "output output_soc3 in [35.00,97.98]\n",
      "output output_soc4 in [12.00,90.98]\n",
      "output output_soc5 in [None,82.98]\n",
      "output output_u1 in [31.10,31.20]\n",
      "output output_u2 in [32.10,32.30]\n",
      "output output_u3 in [17.10,20.00]\n",
      "output output_u4 in [17.10,20.00]\n",
      "output output_u5 in [77.10,80.00]\n"
     ]
    }
   ],
   "source": [
    "print('\\n'.join(bounds(a1_sn)))"
   ]
  },
  {
   "cell_type": "code",
   "execution_count": 15,
   "metadata": {},
   "outputs": [
    {
     "name": "stdout",
     "output_type": "stream",
     "text": [
      "all_conservative_op_reqs=\n",
      "InVars: [soc1_entry, duration_dsn1, duration_charging2, duration_sbo3, duration_tcm_heating4, duration_tcm_deltav5, d1_entry, c1_entry, u1_entry, r1_entry]\n",
      "OutVars:[output_soc4, output_soc3, output_soc2, output_soc1, output_soc5, output_d4, output_c4, output_d3, output_c3, output_d2, output_c2, output_d1, output_c1, output_d5, output_c5, output_u4, output_r4, output_u3, output_r3, output_u2, output_r2, output_u1, output_r1, output_u5, output_r5]\n",
      "A: [\n",
      "  -duration_tcm_deltav5 <= -0\n",
      "  -4 duration_charging2 + 2.2 duration_dsn1 + 0.2 duration_sbo3 + 0.3 duration_tcm_deltav5 + 0.8 duration_tcm_heating4 - soc1_entry <= -0\n",
      "  -duration_tcm_heating4 <= -0\n",
      "  -duration_sbo3 <= -0\n",
      "  -duration_charging2 <= -0\n",
      "  5 duration_charging2 - 2 duration_dsn1 + soc1_entry <= 100\n",
      "  -duration_dsn1 <= -0\n",
      "  soc1_entry <= 100\n",
      "  2.2 duration_dsn1 - soc1_entry <= -0\n",
      "  d1_entry - 5.2 duration_dsn1 + 4 duration_sbo3 <= 100\n",
      "  -d1_entry <= -0\n",
      "  d1_entry = 100\n",
      "  -c1_entry = -0\n",
      "  -u1_entry <= -0\n",
      "  u1_entry <= 100\n",
      "  -r1_entry <= -0\n",
      "  r1_entry = 100\n",
      "  soc1_entry = 80\n",
      "  -duration_dsn1 <= -10\n",
      "  -duration_charging2 <= -10\n",
      "  -duration_sbo3 <= -10\n",
      "  -duration_tcm_heating4 <= -10\n",
      "  -duration_tcm_deltav5 <= -10\n",
      "  u1_entry = 30\n",
      "]\n",
      "G: [\n",
      "  2 duration_dsn1 + output_soc1 - soc1_entry <= 0\n",
      "  -2.2 duration_dsn1 - output_soc1 + soc1_entry <= 0\n",
      "  4 duration_charging2 + output_soc1 - output_soc2 <= 0\n",
      "  -5 duration_charging2 - output_soc1 + output_soc2 <= 0\n",
      "  0.1 duration_sbo3 - output_soc2 + output_soc3 <= 0\n",
      "  -0.2 duration_sbo3 + output_soc2 - output_soc3 <= 0\n",
      "  0.7 duration_tcm_heating4 - output_soc3 + output_soc4 <= 0\n",
      "  -0.8 duration_tcm_heating4 + output_soc3 - output_soc4 <= 0\n",
      "  0.2 duration_tcm_deltav5 - output_soc4 + output_soc5 <= 0\n",
      "  -0.3 duration_tcm_deltav5 + output_soc4 - output_soc5 <= 0\n",
      "  -d1_entry + 5.2 duration_dsn1 + output_d1 <= 0\n",
      "  d1_entry - 5.5 duration_dsn1 - output_d1 <= 0\n",
      "  -output_d1 <= 0\n",
      "  -c1_entry + output_c1 = 0\n",
      "  -output_d1 + output_d2 = 0\n",
      "  -output_c1 + output_c2 = 0\n",
      "  3 duration_sbo3 + output_d2 - output_d3 <= 0\n",
      "  -4 duration_sbo3 - output_d2 + output_d3 <= 0\n",
      "  3 duration_sbo3 + output_c2 - output_c3 <= 0\n",
      "  -4 duration_sbo3 - output_c2 + output_c3 <= 0\n",
      "  -output_d3 + output_d4 = 0\n",
      "  -output_c3 + output_c4 = 0\n",
      "  -output_d4 + output_d5 = 0\n",
      "  -output_c4 + output_c5 = 0\n",
      "  output_u1 - u1_entry <= 1.2\n",
      "  -output_u1 + u1_entry <= -1.1\n",
      "  output_r1 - r1_entry = 0\n",
      "  -output_u1 + output_u2 <= 1.1\n",
      "  output_u1 - output_u2 <= -1\n",
      "  -output_r1 + output_r2 = 0\n",
      "  -0.6 duration_sbo3 + output_u2 - output_u3 <= 0\n",
      "  0.5 duration_sbo3 - output_u2 + output_u3 <= 0\n",
      "  -output_r2 + output_r3 = 0\n",
      "  -output_u3 + output_u4 = 0\n",
      "  -output_r3 + output_r4 = 0\n",
      "  1.5 duration_tcm_deltav5 + output_u4 - output_u5 <= 0\n",
      "  -0.5 duration_tcm_deltav5 + output_r4 - output_r5 <= 0\n",
      "  -output_soc1 <= -40\n",
      "  -output_soc5 <= -40\n",
      "  output_u5 <= 80\n",
      "  output_r5 <= 80\n",
      "]\n",
      " input c1_entry in [None,None]\n",
      " input d1_entry in [100.00,100.00]\n",
      " input duration_charging2 in [10.00,11.69]\n",
      " input duration_dsn1 in [15.51,19.23]\n",
      " input duration_sbo3 in [20.17,25.00]\n",
      " input duration_tcm_deltav5 in [40.00,41.93]\n",
      " input duration_tcm_heating4 in [10.00,71.40]\n",
      " input r1_entry in [100.00,100.00]\n",
      " input soc1_entry in [80.00,80.00]\n",
      " input u1_entry in [30.00,30.00]\n",
      "output output_c1 in [None,None]\n",
      "output output_c2 in [None,None]\n",
      "output output_c3 in [60.50,100.00]\n",
      "output output_c4 in [60.50,100.00]\n",
      "output output_c5 in [60.50,100.00]\n",
      "output output_d1 in [None,19.33]\n",
      "output output_d2 in [None,19.33]\n",
      "output output_d3 in [60.50,100.00]\n",
      "output output_d4 in [60.50,100.00]\n",
      "output output_d5 in [60.50,100.00]\n",
      "output output_r1 in [100.00,100.00]\n",
      "output output_r2 in [100.00,100.00]\n",
      "output output_r3 in [100.00,100.00]\n",
      "output output_r4 in [100.00,100.00]\n",
      "output output_r5 in [79.03,80.00]\n",
      "output output_soc1 in [40.00,48.97]\n",
      "output output_soc2 in [80.00,100.00]\n",
      "output output_soc3 in [75.00,97.98]\n",
      "output output_soc4 in [48.00,90.98]\n",
      "output output_soc5 in [40.00,82.98]\n",
      "output output_u1 in [31.10,31.20]\n",
      "output output_u2 in [32.10,32.30]\n",
      "output output_u3 in [17.10,20.00]\n",
      "output output_u4 in [17.10,20.00]\n",
      "output output_u5 in [77.10,80.00]\n"
     ]
    }
   ],
   "source": [
    "all_conservative_op_reqs = all_scenarios.merge(op_req_pwr1).merge(op_req_sci1).merge(op_req_nav1)\n",
    "print(f\"all_conservative_op_reqs=\\n{all_conservative_op_reqs}\")\n",
    "print('\\n'.join(bounds(all_conservative_op_reqs)))"
   ]
  },
  {
   "cell_type": "code",
   "execution_count": 16,
   "metadata": {},
   "outputs": [
    {
     "name": "stdout",
     "output_type": "stream",
     "text": [
      "ok\n"
     ]
    }
   ],
   "source": [
    "a2_p = all_scenarios.merge(op_req_pwr2)\n",
    "a2_s = all_scenarios.merge(op_req_sci2)\n",
    "a2_n = all_scenarios.merge(op_req_nav2)\n",
    "a2_ps = a2_p.merge(op_req_sci2)\n",
    "a2_pn = a2_p.merge(op_req_nav2)\n",
    "a2_sn = a2_s.merge(op_req_nav2)\n",
    "print(\"ok\")"
   ]
  },
  {
   "cell_type": "code",
   "execution_count": 17,
   "metadata": {},
   "outputs": [
    {
     "name": "stdout",
     "output_type": "stream",
     "text": [
      "all_aggressive_op_reqs=\n",
      "InVars: [soc1_entry, duration_dsn1, duration_charging2, duration_sbo3, duration_tcm_heating4, duration_tcm_deltav5, d1_entry, c1_entry, u1_entry, r1_entry]\n",
      "OutVars:[output_soc4, output_soc3, output_soc2, output_soc1, output_soc5, output_d4, output_c4, output_d3, output_c3, output_d2, output_c2, output_d1, output_c1, output_d5, output_c5, output_u4, output_r4, output_u3, output_r3, output_u2, output_r2, output_u1, output_r1, output_u5, output_r5]\n",
      "A: [\n",
      "  -duration_tcm_deltav5 <= -0\n",
      "  -4 duration_charging2 + 2.2 duration_dsn1 + 0.2 duration_sbo3 + 0.3 duration_tcm_deltav5 + 0.8 duration_tcm_heating4 - soc1_entry <= -0\n",
      "  -duration_tcm_heating4 <= -0\n",
      "  -duration_sbo3 <= -0\n",
      "  -duration_charging2 <= -0\n",
      "  5 duration_charging2 - 2 duration_dsn1 + soc1_entry <= 100\n",
      "  -duration_dsn1 <= -0\n",
      "  soc1_entry <= 100\n",
      "  2.2 duration_dsn1 - soc1_entry <= -0\n",
      "  d1_entry - 5.2 duration_dsn1 + 4 duration_sbo3 <= 100\n",
      "  -d1_entry <= -0\n",
      "  d1_entry = 100\n",
      "  -c1_entry = -0\n",
      "  -u1_entry <= -0\n",
      "  u1_entry <= 100\n",
      "  -r1_entry <= -0\n",
      "  r1_entry <= 100\n",
      "  soc1_entry = 80\n",
      "  -duration_dsn1 <= -10\n",
      "  -duration_charging2 <= -10\n",
      "  -duration_sbo3 <= -10\n",
      "  -duration_tcm_heating4 <= -10\n",
      "  -duration_tcm_deltav5 <= -10\n",
      "  u1_entry = 30\n",
      "  r1_entry = 80\n",
      "]\n",
      "G: [\n",
      "  2 duration_dsn1 + output_soc1 - soc1_entry <= 0\n",
      "  -2.2 duration_dsn1 - output_soc1 + soc1_entry <= 0\n",
      "  4 duration_charging2 + output_soc1 - output_soc2 <= 0\n",
      "  -5 duration_charging2 - output_soc1 + output_soc2 <= 0\n",
      "  0.1 duration_sbo3 - output_soc2 + output_soc3 <= 0\n",
      "  -0.2 duration_sbo3 + output_soc2 - output_soc3 <= 0\n",
      "  0.7 duration_tcm_heating4 - output_soc3 + output_soc4 <= 0\n",
      "  -0.8 duration_tcm_heating4 + output_soc3 - output_soc4 <= 0\n",
      "  0.2 duration_tcm_deltav5 - output_soc4 + output_soc5 <= 0\n",
      "  -0.3 duration_tcm_deltav5 + output_soc4 - output_soc5 <= 0\n",
      "  -d1_entry + 5.2 duration_dsn1 + output_d1 <= 0\n",
      "  d1_entry - 5.5 duration_dsn1 - output_d1 <= 0\n",
      "  -output_d1 <= 0\n",
      "  -c1_entry + output_c1 = 0\n",
      "  -output_d1 + output_d2 = 0\n",
      "  -output_c1 + output_c2 = 0\n",
      "  -4 duration_sbo3 - output_d2 + output_d3 <= 0\n",
      "  -4 duration_sbo3 - output_c2 + output_c3 <= 0\n",
      "  -output_d3 + output_d4 = 0\n",
      "  -output_c3 + output_c4 = 0\n",
      "  -output_d4 + output_d5 = 0\n",
      "  -output_c4 + output_c5 = 0\n",
      "  output_u1 - u1_entry <= 1.2\n",
      "  -output_u1 + u1_entry <= -1.1\n",
      "  output_r1 - r1_entry = 0\n",
      "  -output_u1 + output_u2 <= 1.1\n",
      "  output_u1 - output_u2 <= -1\n",
      "  -output_r1 + output_r2 = 0\n",
      "  -0.6 duration_sbo3 + output_u2 - output_u3 <= 0\n",
      "  0.5 duration_sbo3 - output_u2 + output_u3 <= 0\n",
      "  -output_r2 + output_r3 = 0\n",
      "  -output_u3 + output_u4 = 0\n",
      "  -output_r3 + output_r4 = 0\n",
      "  -1.6 duration_tcm_deltav5 - output_u4 + output_u5 <= 0\n",
      "  1.5 duration_tcm_deltav5 + output_u4 - output_u5 <= 0\n",
      "  -0.5 duration_tcm_deltav5 + output_r4 - output_r5 <= 0\n",
      "  0.4 duration_tcm_deltav5 - output_r4 + output_r5 <= 0\n",
      "  -output_soc5 <= -10\n",
      "  -output_c5 <= -80\n",
      "  -output_d5 <= -90\n",
      "  output_u5 <= 80\n",
      "  output_r5 <= 70\n",
      "]\n"
     ]
    }
   ],
   "source": [
    "all_aggressive_op_reqs = all_scenarios.merge(op_req_pwr2).merge(op_req_sci2).merge(op_req_nav2)\n",
    "print(f\"all_aggressive_op_reqs=\\n{all_aggressive_op_reqs}\")"
   ]
  },
  {
   "cell_type": "code",
   "execution_count": 18,
   "metadata": {},
   "outputs": [],
   "source": [
    "def show_bounds(c: PolyhedralContract):\n",
    "    print(\"Task duration bounds:\")\n",
    "    print(f\"    step1_dsn: \"+str(c.get_variable_bounds(\"duration_dsn1\")))\n",
    "    print(f\"    step2_charging: \"+str(c.get_variable_bounds(\"duration_charging2\")))\n",
    "    print(f\"    step3_sbo: \"+str(c.get_variable_bounds(\"duration_sbo3\")))\n",
    "    print(f\"    step4_tcm_heating: \"+str(c.get_variable_bounds(\"duration_tcm_heating4\")))\n",
    "    print(f\"    step5_tcm_deltav: \"+str(c.get_variable_bounds(\"duration_tcm_deltav5\")))\n",
    "\n",
    "    print(\"Power bounds:\")\n",
    "    print(f\"    soc5: \"+str(c.get_variable_bounds(\"output_soc5\")))\n",
    "    print(\"Science bounds:\")\n",
    "    print(f\"    d5: \"+str(c.get_variable_bounds(\"output_d5\")))\n",
    "    print(f\"    c5: \"+str(c.get_variable_bounds(\"output_c5\")))\n",
    "    print(\"Navigation bounds:\")\n",
    "    print(f\"    u5: \"+str(c.get_variable_bounds(\"output_u5\")))\n",
    "    print(f\"    r5: \"+str(c.get_variable_bounds(\"output_r5\")))\n",
    "\n",
    "    max_soc = c.optimize(\"0.2 output_soc1 + 0.2 output_soc2 + 0.2 output_soc3 + 0.2 output_soc4 + 0.2 output_soc5\", maximize=True)\n",
    "    min_soc = c.optimize(\"0.2 output_soc1 + 0.2 output_soc2 + 0.2 output_soc3 + 0.2 output_soc4 + 0.2 output_soc5\", maximize=False)\n",
    "    print(f\"[min, max] average SOC=[{min_soc}, {max_soc}]\")"
   ]
  },
  {
   "cell_type": "code",
   "execution_count": 19,
   "metadata": {},
   "outputs": [
    {
     "name": "stdout",
     "output_type": "stream",
     "text": [
      "Task duration bounds:\n",
      "    step1_dsn: (15.512820512820516, 19.23076923076923)\n",
      "    step2_charging: (10.0, 11.692307692307692)\n",
      "    step3_sbo: (20.16666666666667, 25.0)\n",
      "    step4_tcm_heating: (10.0, 71.40476190476191)\n",
      "    step5_tcm_deltav: (40.0, 41.93333333333333)\n",
      "Power bounds:\n",
      "    soc5: (40.0, 82.98333333333333)\n",
      "Science bounds:\n",
      "    d5: (60.500000000000014, 100.0)\n",
      "    c5: (60.500000000000014, 100.0)\n",
      "Navigation bounds:\n",
      "    u5: (77.1, 80.0)\n",
      "    r5: (79.03333333333333, 80.0)\n",
      "[min, max] average SOC=[56.6, 84.1848717948718]\n"
     ]
    }
   ],
   "source": [
    "show_bounds(all_conservative_op_reqs)"
   ]
  },
  {
   "cell_type": "code",
   "execution_count": 20,
   "metadata": {},
   "outputs": [
    {
     "name": "stdout",
     "output_type": "stream",
     "text": [
      "Task duration bounds:\n",
      "    step1_dsn: (15.384615384615383, 19.23076923076923)\n",
      "    step2_charging: (10.0, 11.692307692307692)\n",
      "    step3_sbo: (20.0, 25.0)\n",
      "    step4_tcm_heating: (10.0, 95.96153846153847)\n",
      "    step5_tcm_deltav: (20.0, 41.93333333333333)\n",
      "Power bounds:\n",
      "    soc5: (10.0, 87.0)\n",
      "Science bounds:\n",
      "    d5: (90.0, 100.0)\n",
      "    c5: (80.0, 100.0)\n",
      "Navigation bounds:\n",
      "    u5: (47.1, 80.0)\n",
      "    r5: (59.03333333333333, 70.0)\n",
      "[min, max] average SOC=[42.41538461538462, 85.04615384615386]\n"
     ]
    }
   ],
   "source": [
    "show_bounds(all_aggressive_op_reqs)"
   ]
  },
  {
   "cell_type": "code",
   "execution_count": null,
   "metadata": {},
   "outputs": [],
   "source": []
  }
 ],
 "metadata": {
  "kernelspec": {
   "display_name": ".venv",
   "language": "python",
   "name": "python3"
  },
  "language_info": {
   "codemirror_mode": {
    "name": "ipython",
    "version": 3
   },
   "file_extension": ".py",
   "mimetype": "text/x-python",
   "name": "python",
   "nbconvert_exporter": "python",
   "pygments_lexer": "ipython3",
   "version": "3.11.2"
  },
  "orig_nbformat": 4,
  "vscode": {
   "interpreter": {
    "hash": "ce03960f10b489fec96a3dcc1c1ea5720541297ff0f91bb8136b413ca54ddaad"
   }
  }
 },
 "nbformat": 4,
 "nbformat_minor": 2
}
